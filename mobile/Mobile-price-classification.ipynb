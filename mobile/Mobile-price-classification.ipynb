{
 "cells": [
  {
   "cell_type": "code",
   "execution_count": 1,
   "metadata": {},
   "outputs": [],
   "source": [
    "import numpy as np\n",
    "import pandas as pd\n",
    "import matplotlib.pyplot as plt\n",
    "from sklearn.preprocessing import StandardScaler\n",
    "from sklearn.model_selection import cross_val_predict\n",
    "from sklearn.metrics import recall_score, precision_score, precision_recall_curve, confusion_matrix\n",
    "from sklearn.linear_model import SGDClassifier\n",
    "from sklearn.multiclass import OneVsOneClassifier\n",
    "from sklearn.ensemble import RandomForestClassifier\n",
    "from sklearn.tree import DecisionTreeClassifier\n",
    "from sklearn.linear_model import LogisticRegression\n",
    "from sklearn.model_selection import train_test_split"
   ]
  },
  {
   "cell_type": "code",
   "execution_count": 2,
   "metadata": {},
   "outputs": [],
   "source": [
    "train = pd.read_csv('/home/mohammadreza/Kaggle/mobile/train.csv')\n",
    "test = pd.read_csv('/home/mohammadreza/Kaggle/mobile/test.csv')"
   ]
  },
  {
   "cell_type": "code",
   "execution_count": 3,
   "metadata": {
    "scrolled": true
   },
   "outputs": [
    {
     "data": {
      "text/html": [
       "<div>\n",
       "<style scoped>\n",
       "    .dataframe tbody tr th:only-of-type {\n",
       "        vertical-align: middle;\n",
       "    }\n",
       "\n",
       "    .dataframe tbody tr th {\n",
       "        vertical-align: top;\n",
       "    }\n",
       "\n",
       "    .dataframe thead th {\n",
       "        text-align: right;\n",
       "    }\n",
       "</style>\n",
       "<table border=\"1\" class=\"dataframe\">\n",
       "  <thead>\n",
       "    <tr style=\"text-align: right;\">\n",
       "      <th></th>\n",
       "      <th>battery_power</th>\n",
       "      <th>blue</th>\n",
       "      <th>clock_speed</th>\n",
       "      <th>dual_sim</th>\n",
       "      <th>fc</th>\n",
       "      <th>four_g</th>\n",
       "      <th>int_memory</th>\n",
       "      <th>m_dep</th>\n",
       "      <th>mobile_wt</th>\n",
       "      <th>n_cores</th>\n",
       "      <th>...</th>\n",
       "      <th>px_height</th>\n",
       "      <th>px_width</th>\n",
       "      <th>ram</th>\n",
       "      <th>sc_h</th>\n",
       "      <th>sc_w</th>\n",
       "      <th>talk_time</th>\n",
       "      <th>three_g</th>\n",
       "      <th>touch_screen</th>\n",
       "      <th>wifi</th>\n",
       "      <th>price_range</th>\n",
       "    </tr>\n",
       "  </thead>\n",
       "  <tbody>\n",
       "    <tr>\n",
       "      <th>0</th>\n",
       "      <td>842</td>\n",
       "      <td>0</td>\n",
       "      <td>2.2</td>\n",
       "      <td>0</td>\n",
       "      <td>1</td>\n",
       "      <td>0</td>\n",
       "      <td>7</td>\n",
       "      <td>0.6</td>\n",
       "      <td>188</td>\n",
       "      <td>2</td>\n",
       "      <td>...</td>\n",
       "      <td>20</td>\n",
       "      <td>756</td>\n",
       "      <td>2549</td>\n",
       "      <td>9</td>\n",
       "      <td>7</td>\n",
       "      <td>19</td>\n",
       "      <td>0</td>\n",
       "      <td>0</td>\n",
       "      <td>1</td>\n",
       "      <td>1</td>\n",
       "    </tr>\n",
       "    <tr>\n",
       "      <th>1</th>\n",
       "      <td>1021</td>\n",
       "      <td>1</td>\n",
       "      <td>0.5</td>\n",
       "      <td>1</td>\n",
       "      <td>0</td>\n",
       "      <td>1</td>\n",
       "      <td>53</td>\n",
       "      <td>0.7</td>\n",
       "      <td>136</td>\n",
       "      <td>3</td>\n",
       "      <td>...</td>\n",
       "      <td>905</td>\n",
       "      <td>1988</td>\n",
       "      <td>2631</td>\n",
       "      <td>17</td>\n",
       "      <td>3</td>\n",
       "      <td>7</td>\n",
       "      <td>1</td>\n",
       "      <td>1</td>\n",
       "      <td>0</td>\n",
       "      <td>2</td>\n",
       "    </tr>\n",
       "    <tr>\n",
       "      <th>2</th>\n",
       "      <td>563</td>\n",
       "      <td>1</td>\n",
       "      <td>0.5</td>\n",
       "      <td>1</td>\n",
       "      <td>2</td>\n",
       "      <td>1</td>\n",
       "      <td>41</td>\n",
       "      <td>0.9</td>\n",
       "      <td>145</td>\n",
       "      <td>5</td>\n",
       "      <td>...</td>\n",
       "      <td>1263</td>\n",
       "      <td>1716</td>\n",
       "      <td>2603</td>\n",
       "      <td>11</td>\n",
       "      <td>2</td>\n",
       "      <td>9</td>\n",
       "      <td>1</td>\n",
       "      <td>1</td>\n",
       "      <td>0</td>\n",
       "      <td>2</td>\n",
       "    </tr>\n",
       "    <tr>\n",
       "      <th>3</th>\n",
       "      <td>615</td>\n",
       "      <td>1</td>\n",
       "      <td>2.5</td>\n",
       "      <td>0</td>\n",
       "      <td>0</td>\n",
       "      <td>0</td>\n",
       "      <td>10</td>\n",
       "      <td>0.8</td>\n",
       "      <td>131</td>\n",
       "      <td>6</td>\n",
       "      <td>...</td>\n",
       "      <td>1216</td>\n",
       "      <td>1786</td>\n",
       "      <td>2769</td>\n",
       "      <td>16</td>\n",
       "      <td>8</td>\n",
       "      <td>11</td>\n",
       "      <td>1</td>\n",
       "      <td>0</td>\n",
       "      <td>0</td>\n",
       "      <td>2</td>\n",
       "    </tr>\n",
       "    <tr>\n",
       "      <th>4</th>\n",
       "      <td>1821</td>\n",
       "      <td>1</td>\n",
       "      <td>1.2</td>\n",
       "      <td>0</td>\n",
       "      <td>13</td>\n",
       "      <td>1</td>\n",
       "      <td>44</td>\n",
       "      <td>0.6</td>\n",
       "      <td>141</td>\n",
       "      <td>2</td>\n",
       "      <td>...</td>\n",
       "      <td>1208</td>\n",
       "      <td>1212</td>\n",
       "      <td>1411</td>\n",
       "      <td>8</td>\n",
       "      <td>2</td>\n",
       "      <td>15</td>\n",
       "      <td>1</td>\n",
       "      <td>1</td>\n",
       "      <td>0</td>\n",
       "      <td>1</td>\n",
       "    </tr>\n",
       "    <tr>\n",
       "      <th>5</th>\n",
       "      <td>1859</td>\n",
       "      <td>0</td>\n",
       "      <td>0.5</td>\n",
       "      <td>1</td>\n",
       "      <td>3</td>\n",
       "      <td>0</td>\n",
       "      <td>22</td>\n",
       "      <td>0.7</td>\n",
       "      <td>164</td>\n",
       "      <td>1</td>\n",
       "      <td>...</td>\n",
       "      <td>1004</td>\n",
       "      <td>1654</td>\n",
       "      <td>1067</td>\n",
       "      <td>17</td>\n",
       "      <td>1</td>\n",
       "      <td>10</td>\n",
       "      <td>1</td>\n",
       "      <td>0</td>\n",
       "      <td>0</td>\n",
       "      <td>1</td>\n",
       "    </tr>\n",
       "    <tr>\n",
       "      <th>6</th>\n",
       "      <td>1821</td>\n",
       "      <td>0</td>\n",
       "      <td>1.7</td>\n",
       "      <td>0</td>\n",
       "      <td>4</td>\n",
       "      <td>1</td>\n",
       "      <td>10</td>\n",
       "      <td>0.8</td>\n",
       "      <td>139</td>\n",
       "      <td>8</td>\n",
       "      <td>...</td>\n",
       "      <td>381</td>\n",
       "      <td>1018</td>\n",
       "      <td>3220</td>\n",
       "      <td>13</td>\n",
       "      <td>8</td>\n",
       "      <td>18</td>\n",
       "      <td>1</td>\n",
       "      <td>0</td>\n",
       "      <td>1</td>\n",
       "      <td>3</td>\n",
       "    </tr>\n",
       "    <tr>\n",
       "      <th>7</th>\n",
       "      <td>1954</td>\n",
       "      <td>0</td>\n",
       "      <td>0.5</td>\n",
       "      <td>1</td>\n",
       "      <td>0</td>\n",
       "      <td>0</td>\n",
       "      <td>24</td>\n",
       "      <td>0.8</td>\n",
       "      <td>187</td>\n",
       "      <td>4</td>\n",
       "      <td>...</td>\n",
       "      <td>512</td>\n",
       "      <td>1149</td>\n",
       "      <td>700</td>\n",
       "      <td>16</td>\n",
       "      <td>3</td>\n",
       "      <td>5</td>\n",
       "      <td>1</td>\n",
       "      <td>1</td>\n",
       "      <td>1</td>\n",
       "      <td>0</td>\n",
       "    </tr>\n",
       "    <tr>\n",
       "      <th>8</th>\n",
       "      <td>1445</td>\n",
       "      <td>1</td>\n",
       "      <td>0.5</td>\n",
       "      <td>0</td>\n",
       "      <td>0</td>\n",
       "      <td>0</td>\n",
       "      <td>53</td>\n",
       "      <td>0.7</td>\n",
       "      <td>174</td>\n",
       "      <td>7</td>\n",
       "      <td>...</td>\n",
       "      <td>386</td>\n",
       "      <td>836</td>\n",
       "      <td>1099</td>\n",
       "      <td>17</td>\n",
       "      <td>1</td>\n",
       "      <td>20</td>\n",
       "      <td>1</td>\n",
       "      <td>0</td>\n",
       "      <td>0</td>\n",
       "      <td>0</td>\n",
       "    </tr>\n",
       "    <tr>\n",
       "      <th>9</th>\n",
       "      <td>509</td>\n",
       "      <td>1</td>\n",
       "      <td>0.6</td>\n",
       "      <td>1</td>\n",
       "      <td>2</td>\n",
       "      <td>1</td>\n",
       "      <td>9</td>\n",
       "      <td>0.1</td>\n",
       "      <td>93</td>\n",
       "      <td>5</td>\n",
       "      <td>...</td>\n",
       "      <td>1137</td>\n",
       "      <td>1224</td>\n",
       "      <td>513</td>\n",
       "      <td>19</td>\n",
       "      <td>10</td>\n",
       "      <td>12</td>\n",
       "      <td>1</td>\n",
       "      <td>0</td>\n",
       "      <td>0</td>\n",
       "      <td>0</td>\n",
       "    </tr>\n",
       "  </tbody>\n",
       "</table>\n",
       "<p>10 rows × 21 columns</p>\n",
       "</div>"
      ],
      "text/plain": [
       "   battery_power  blue  clock_speed  dual_sim  fc  four_g  int_memory  m_dep  \\\n",
       "0            842     0          2.2         0   1       0           7    0.6   \n",
       "1           1021     1          0.5         1   0       1          53    0.7   \n",
       "2            563     1          0.5         1   2       1          41    0.9   \n",
       "3            615     1          2.5         0   0       0          10    0.8   \n",
       "4           1821     1          1.2         0  13       1          44    0.6   \n",
       "5           1859     0          0.5         1   3       0          22    0.7   \n",
       "6           1821     0          1.7         0   4       1          10    0.8   \n",
       "7           1954     0          0.5         1   0       0          24    0.8   \n",
       "8           1445     1          0.5         0   0       0          53    0.7   \n",
       "9            509     1          0.6         1   2       1           9    0.1   \n",
       "\n",
       "   mobile_wt  n_cores  ...  px_height  px_width   ram  sc_h  sc_w  talk_time  \\\n",
       "0        188        2  ...         20       756  2549     9     7         19   \n",
       "1        136        3  ...        905      1988  2631    17     3          7   \n",
       "2        145        5  ...       1263      1716  2603    11     2          9   \n",
       "3        131        6  ...       1216      1786  2769    16     8         11   \n",
       "4        141        2  ...       1208      1212  1411     8     2         15   \n",
       "5        164        1  ...       1004      1654  1067    17     1         10   \n",
       "6        139        8  ...        381      1018  3220    13     8         18   \n",
       "7        187        4  ...        512      1149   700    16     3          5   \n",
       "8        174        7  ...        386       836  1099    17     1         20   \n",
       "9         93        5  ...       1137      1224   513    19    10         12   \n",
       "\n",
       "   three_g  touch_screen  wifi  price_range  \n",
       "0        0             0     1            1  \n",
       "1        1             1     0            2  \n",
       "2        1             1     0            2  \n",
       "3        1             0     0            2  \n",
       "4        1             1     0            1  \n",
       "5        1             0     0            1  \n",
       "6        1             0     1            3  \n",
       "7        1             1     1            0  \n",
       "8        1             0     0            0  \n",
       "9        1             0     0            0  \n",
       "\n",
       "[10 rows x 21 columns]"
      ]
     },
     "execution_count": 3,
     "metadata": {},
     "output_type": "execute_result"
    }
   ],
   "source": [
    "train.head(10)\n",
    "#test.head(5)"
   ]
  },
  {
   "cell_type": "code",
   "execution_count": 4,
   "metadata": {},
   "outputs": [
    {
     "data": {
      "text/plain": [
       "(Index(['battery_power', 'blue', 'clock_speed', 'dual_sim', 'fc', 'four_g',\n",
       "        'int_memory', 'm_dep', 'mobile_wt', 'n_cores', 'pc', 'px_height',\n",
       "        'px_width', 'ram', 'sc_h', 'sc_w', 'talk_time', 'three_g',\n",
       "        'touch_screen', 'wifi', 'price_range'],\n",
       "       dtype='object'),\n",
       " Index(['id', 'battery_power', 'blue', 'clock_speed', 'dual_sim', 'fc',\n",
       "        'four_g', 'int_memory', 'm_dep', 'mobile_wt', 'n_cores', 'pc',\n",
       "        'px_height', 'px_width', 'ram', 'sc_h', 'sc_w', 'talk_time', 'three_g',\n",
       "        'touch_screen', 'wifi'],\n",
       "       dtype='object'))"
      ]
     },
     "execution_count": 4,
     "metadata": {},
     "output_type": "execute_result"
    }
   ],
   "source": [
    "train.columns, test.columns"
   ]
  },
  {
   "cell_type": "code",
   "execution_count": 5,
   "metadata": {},
   "outputs": [
    {
     "data": {
      "text/html": [
       "<div>\n",
       "<style scoped>\n",
       "    .dataframe tbody tr th:only-of-type {\n",
       "        vertical-align: middle;\n",
       "    }\n",
       "\n",
       "    .dataframe tbody tr th {\n",
       "        vertical-align: top;\n",
       "    }\n",
       "\n",
       "    .dataframe thead th {\n",
       "        text-align: right;\n",
       "    }\n",
       "</style>\n",
       "<table border=\"1\" class=\"dataframe\">\n",
       "  <thead>\n",
       "    <tr style=\"text-align: right;\">\n",
       "      <th></th>\n",
       "      <th>battery_power</th>\n",
       "      <th>blue</th>\n",
       "      <th>clock_speed</th>\n",
       "      <th>dual_sim</th>\n",
       "      <th>fc</th>\n",
       "      <th>four_g</th>\n",
       "      <th>int_memory</th>\n",
       "      <th>m_dep</th>\n",
       "      <th>mobile_wt</th>\n",
       "      <th>n_cores</th>\n",
       "      <th>...</th>\n",
       "      <th>px_height</th>\n",
       "      <th>px_width</th>\n",
       "      <th>ram</th>\n",
       "      <th>sc_h</th>\n",
       "      <th>sc_w</th>\n",
       "      <th>talk_time</th>\n",
       "      <th>three_g</th>\n",
       "      <th>touch_screen</th>\n",
       "      <th>wifi</th>\n",
       "      <th>price_range</th>\n",
       "    </tr>\n",
       "  </thead>\n",
       "  <tbody>\n",
       "    <tr>\n",
       "      <th>count</th>\n",
       "      <td>2000.000000</td>\n",
       "      <td>2000.0000</td>\n",
       "      <td>2000.000000</td>\n",
       "      <td>2000.000000</td>\n",
       "      <td>2000.000000</td>\n",
       "      <td>2000.000000</td>\n",
       "      <td>2000.000000</td>\n",
       "      <td>2000.000000</td>\n",
       "      <td>2000.000000</td>\n",
       "      <td>2000.000000</td>\n",
       "      <td>...</td>\n",
       "      <td>2000.000000</td>\n",
       "      <td>2000.000000</td>\n",
       "      <td>2000.000000</td>\n",
       "      <td>2000.000000</td>\n",
       "      <td>2000.000000</td>\n",
       "      <td>2000.000000</td>\n",
       "      <td>2000.000000</td>\n",
       "      <td>2000.000000</td>\n",
       "      <td>2000.000000</td>\n",
       "      <td>2000.000000</td>\n",
       "    </tr>\n",
       "    <tr>\n",
       "      <th>mean</th>\n",
       "      <td>1238.518500</td>\n",
       "      <td>0.4950</td>\n",
       "      <td>1.522250</td>\n",
       "      <td>0.509500</td>\n",
       "      <td>4.309500</td>\n",
       "      <td>0.521500</td>\n",
       "      <td>32.046500</td>\n",
       "      <td>0.501750</td>\n",
       "      <td>140.249000</td>\n",
       "      <td>4.520500</td>\n",
       "      <td>...</td>\n",
       "      <td>645.108000</td>\n",
       "      <td>1251.515500</td>\n",
       "      <td>2124.213000</td>\n",
       "      <td>12.306500</td>\n",
       "      <td>5.767000</td>\n",
       "      <td>11.011000</td>\n",
       "      <td>0.761500</td>\n",
       "      <td>0.503000</td>\n",
       "      <td>0.507000</td>\n",
       "      <td>1.500000</td>\n",
       "    </tr>\n",
       "    <tr>\n",
       "      <th>std</th>\n",
       "      <td>439.418206</td>\n",
       "      <td>0.5001</td>\n",
       "      <td>0.816004</td>\n",
       "      <td>0.500035</td>\n",
       "      <td>4.341444</td>\n",
       "      <td>0.499662</td>\n",
       "      <td>18.145715</td>\n",
       "      <td>0.288416</td>\n",
       "      <td>35.399655</td>\n",
       "      <td>2.287837</td>\n",
       "      <td>...</td>\n",
       "      <td>443.780811</td>\n",
       "      <td>432.199447</td>\n",
       "      <td>1084.732044</td>\n",
       "      <td>4.213245</td>\n",
       "      <td>4.356398</td>\n",
       "      <td>5.463955</td>\n",
       "      <td>0.426273</td>\n",
       "      <td>0.500116</td>\n",
       "      <td>0.500076</td>\n",
       "      <td>1.118314</td>\n",
       "    </tr>\n",
       "    <tr>\n",
       "      <th>min</th>\n",
       "      <td>501.000000</td>\n",
       "      <td>0.0000</td>\n",
       "      <td>0.500000</td>\n",
       "      <td>0.000000</td>\n",
       "      <td>0.000000</td>\n",
       "      <td>0.000000</td>\n",
       "      <td>2.000000</td>\n",
       "      <td>0.100000</td>\n",
       "      <td>80.000000</td>\n",
       "      <td>1.000000</td>\n",
       "      <td>...</td>\n",
       "      <td>0.000000</td>\n",
       "      <td>500.000000</td>\n",
       "      <td>256.000000</td>\n",
       "      <td>5.000000</td>\n",
       "      <td>0.000000</td>\n",
       "      <td>2.000000</td>\n",
       "      <td>0.000000</td>\n",
       "      <td>0.000000</td>\n",
       "      <td>0.000000</td>\n",
       "      <td>0.000000</td>\n",
       "    </tr>\n",
       "    <tr>\n",
       "      <th>25%</th>\n",
       "      <td>851.750000</td>\n",
       "      <td>0.0000</td>\n",
       "      <td>0.700000</td>\n",
       "      <td>0.000000</td>\n",
       "      <td>1.000000</td>\n",
       "      <td>0.000000</td>\n",
       "      <td>16.000000</td>\n",
       "      <td>0.200000</td>\n",
       "      <td>109.000000</td>\n",
       "      <td>3.000000</td>\n",
       "      <td>...</td>\n",
       "      <td>282.750000</td>\n",
       "      <td>874.750000</td>\n",
       "      <td>1207.500000</td>\n",
       "      <td>9.000000</td>\n",
       "      <td>2.000000</td>\n",
       "      <td>6.000000</td>\n",
       "      <td>1.000000</td>\n",
       "      <td>0.000000</td>\n",
       "      <td>0.000000</td>\n",
       "      <td>0.750000</td>\n",
       "    </tr>\n",
       "    <tr>\n",
       "      <th>50%</th>\n",
       "      <td>1226.000000</td>\n",
       "      <td>0.0000</td>\n",
       "      <td>1.500000</td>\n",
       "      <td>1.000000</td>\n",
       "      <td>3.000000</td>\n",
       "      <td>1.000000</td>\n",
       "      <td>32.000000</td>\n",
       "      <td>0.500000</td>\n",
       "      <td>141.000000</td>\n",
       "      <td>4.000000</td>\n",
       "      <td>...</td>\n",
       "      <td>564.000000</td>\n",
       "      <td>1247.000000</td>\n",
       "      <td>2146.500000</td>\n",
       "      <td>12.000000</td>\n",
       "      <td>5.000000</td>\n",
       "      <td>11.000000</td>\n",
       "      <td>1.000000</td>\n",
       "      <td>1.000000</td>\n",
       "      <td>1.000000</td>\n",
       "      <td>1.500000</td>\n",
       "    </tr>\n",
       "    <tr>\n",
       "      <th>75%</th>\n",
       "      <td>1615.250000</td>\n",
       "      <td>1.0000</td>\n",
       "      <td>2.200000</td>\n",
       "      <td>1.000000</td>\n",
       "      <td>7.000000</td>\n",
       "      <td>1.000000</td>\n",
       "      <td>48.000000</td>\n",
       "      <td>0.800000</td>\n",
       "      <td>170.000000</td>\n",
       "      <td>7.000000</td>\n",
       "      <td>...</td>\n",
       "      <td>947.250000</td>\n",
       "      <td>1633.000000</td>\n",
       "      <td>3064.500000</td>\n",
       "      <td>16.000000</td>\n",
       "      <td>9.000000</td>\n",
       "      <td>16.000000</td>\n",
       "      <td>1.000000</td>\n",
       "      <td>1.000000</td>\n",
       "      <td>1.000000</td>\n",
       "      <td>2.250000</td>\n",
       "    </tr>\n",
       "    <tr>\n",
       "      <th>max</th>\n",
       "      <td>1998.000000</td>\n",
       "      <td>1.0000</td>\n",
       "      <td>3.000000</td>\n",
       "      <td>1.000000</td>\n",
       "      <td>19.000000</td>\n",
       "      <td>1.000000</td>\n",
       "      <td>64.000000</td>\n",
       "      <td>1.000000</td>\n",
       "      <td>200.000000</td>\n",
       "      <td>8.000000</td>\n",
       "      <td>...</td>\n",
       "      <td>1960.000000</td>\n",
       "      <td>1998.000000</td>\n",
       "      <td>3998.000000</td>\n",
       "      <td>19.000000</td>\n",
       "      <td>18.000000</td>\n",
       "      <td>20.000000</td>\n",
       "      <td>1.000000</td>\n",
       "      <td>1.000000</td>\n",
       "      <td>1.000000</td>\n",
       "      <td>3.000000</td>\n",
       "    </tr>\n",
       "  </tbody>\n",
       "</table>\n",
       "<p>8 rows × 21 columns</p>\n",
       "</div>"
      ],
      "text/plain": [
       "       battery_power       blue  clock_speed     dual_sim           fc  \\\n",
       "count    2000.000000  2000.0000  2000.000000  2000.000000  2000.000000   \n",
       "mean     1238.518500     0.4950     1.522250     0.509500     4.309500   \n",
       "std       439.418206     0.5001     0.816004     0.500035     4.341444   \n",
       "min       501.000000     0.0000     0.500000     0.000000     0.000000   \n",
       "25%       851.750000     0.0000     0.700000     0.000000     1.000000   \n",
       "50%      1226.000000     0.0000     1.500000     1.000000     3.000000   \n",
       "75%      1615.250000     1.0000     2.200000     1.000000     7.000000   \n",
       "max      1998.000000     1.0000     3.000000     1.000000    19.000000   \n",
       "\n",
       "            four_g   int_memory        m_dep    mobile_wt      n_cores  ...  \\\n",
       "count  2000.000000  2000.000000  2000.000000  2000.000000  2000.000000  ...   \n",
       "mean      0.521500    32.046500     0.501750   140.249000     4.520500  ...   \n",
       "std       0.499662    18.145715     0.288416    35.399655     2.287837  ...   \n",
       "min       0.000000     2.000000     0.100000    80.000000     1.000000  ...   \n",
       "25%       0.000000    16.000000     0.200000   109.000000     3.000000  ...   \n",
       "50%       1.000000    32.000000     0.500000   141.000000     4.000000  ...   \n",
       "75%       1.000000    48.000000     0.800000   170.000000     7.000000  ...   \n",
       "max       1.000000    64.000000     1.000000   200.000000     8.000000  ...   \n",
       "\n",
       "         px_height     px_width          ram         sc_h         sc_w  \\\n",
       "count  2000.000000  2000.000000  2000.000000  2000.000000  2000.000000   \n",
       "mean    645.108000  1251.515500  2124.213000    12.306500     5.767000   \n",
       "std     443.780811   432.199447  1084.732044     4.213245     4.356398   \n",
       "min       0.000000   500.000000   256.000000     5.000000     0.000000   \n",
       "25%     282.750000   874.750000  1207.500000     9.000000     2.000000   \n",
       "50%     564.000000  1247.000000  2146.500000    12.000000     5.000000   \n",
       "75%     947.250000  1633.000000  3064.500000    16.000000     9.000000   \n",
       "max    1960.000000  1998.000000  3998.000000    19.000000    18.000000   \n",
       "\n",
       "         talk_time      three_g  touch_screen         wifi  price_range  \n",
       "count  2000.000000  2000.000000   2000.000000  2000.000000  2000.000000  \n",
       "mean     11.011000     0.761500      0.503000     0.507000     1.500000  \n",
       "std       5.463955     0.426273      0.500116     0.500076     1.118314  \n",
       "min       2.000000     0.000000      0.000000     0.000000     0.000000  \n",
       "25%       6.000000     1.000000      0.000000     0.000000     0.750000  \n",
       "50%      11.000000     1.000000      1.000000     1.000000     1.500000  \n",
       "75%      16.000000     1.000000      1.000000     1.000000     2.250000  \n",
       "max      20.000000     1.000000      1.000000     1.000000     3.000000  \n",
       "\n",
       "[8 rows x 21 columns]"
      ]
     },
     "execution_count": 5,
     "metadata": {},
     "output_type": "execute_result"
    }
   ],
   "source": [
    "train.describe()"
   ]
  },
  {
   "cell_type": "code",
   "execution_count": 6,
   "metadata": {},
   "outputs": [
    {
     "name": "stdout",
     "output_type": "stream",
     "text": [
      "<class 'pandas.core.frame.DataFrame'>\n",
      "RangeIndex: 2000 entries, 0 to 1999\n",
      "Data columns (total 21 columns):\n",
      " #   Column         Non-Null Count  Dtype  \n",
      "---  ------         --------------  -----  \n",
      " 0   battery_power  2000 non-null   int64  \n",
      " 1   blue           2000 non-null   int64  \n",
      " 2   clock_speed    2000 non-null   float64\n",
      " 3   dual_sim       2000 non-null   int64  \n",
      " 4   fc             2000 non-null   int64  \n",
      " 5   four_g         2000 non-null   int64  \n",
      " 6   int_memory     2000 non-null   int64  \n",
      " 7   m_dep          2000 non-null   float64\n",
      " 8   mobile_wt      2000 non-null   int64  \n",
      " 9   n_cores        2000 non-null   int64  \n",
      " 10  pc             2000 non-null   int64  \n",
      " 11  px_height      2000 non-null   int64  \n",
      " 12  px_width       2000 non-null   int64  \n",
      " 13  ram            2000 non-null   int64  \n",
      " 14  sc_h           2000 non-null   int64  \n",
      " 15  sc_w           2000 non-null   int64  \n",
      " 16  talk_time      2000 non-null   int64  \n",
      " 17  three_g        2000 non-null   int64  \n",
      " 18  touch_screen   2000 non-null   int64  \n",
      " 19  wifi           2000 non-null   int64  \n",
      " 20  price_range    2000 non-null   int64  \n",
      "dtypes: float64(2), int64(19)\n",
      "memory usage: 328.2 KB\n"
     ]
    }
   ],
   "source": [
    "train.info()"
   ]
  },
  {
   "cell_type": "code",
   "execution_count": 7,
   "metadata": {},
   "outputs": [
    {
     "data": {
      "text/plain": [
       "battery_power    0\n",
       "blue             0\n",
       "clock_speed      0\n",
       "dual_sim         0\n",
       "fc               0\n",
       "four_g           0\n",
       "int_memory       0\n",
       "m_dep            0\n",
       "mobile_wt        0\n",
       "n_cores          0\n",
       "pc               0\n",
       "px_height        0\n",
       "px_width         0\n",
       "ram              0\n",
       "sc_h             0\n",
       "sc_w             0\n",
       "talk_time        0\n",
       "three_g          0\n",
       "touch_screen     0\n",
       "wifi             0\n",
       "price_range      0\n",
       "dtype: int64"
      ]
     },
     "execution_count": 7,
     "metadata": {},
     "output_type": "execute_result"
    }
   ],
   "source": [
    "train.isnull().sum()"
   ]
  },
  {
   "cell_type": "code",
   "execution_count": 8,
   "metadata": {},
   "outputs": [
    {
     "data": {
      "text/plain": [
       "array([[<AxesSubplot:title={'center':'battery_power'}>,\n",
       "        <AxesSubplot:title={'center':'blue'}>,\n",
       "        <AxesSubplot:title={'center':'clock_speed'}>,\n",
       "        <AxesSubplot:title={'center':'dual_sim'}>,\n",
       "        <AxesSubplot:title={'center':'fc'}>],\n",
       "       [<AxesSubplot:title={'center':'four_g'}>,\n",
       "        <AxesSubplot:title={'center':'int_memory'}>,\n",
       "        <AxesSubplot:title={'center':'m_dep'}>,\n",
       "        <AxesSubplot:title={'center':'mobile_wt'}>,\n",
       "        <AxesSubplot:title={'center':'n_cores'}>],\n",
       "       [<AxesSubplot:title={'center':'pc'}>,\n",
       "        <AxesSubplot:title={'center':'px_height'}>,\n",
       "        <AxesSubplot:title={'center':'px_width'}>,\n",
       "        <AxesSubplot:title={'center':'ram'}>,\n",
       "        <AxesSubplot:title={'center':'sc_h'}>],\n",
       "       [<AxesSubplot:title={'center':'sc_w'}>,\n",
       "        <AxesSubplot:title={'center':'talk_time'}>,\n",
       "        <AxesSubplot:title={'center':'three_g'}>,\n",
       "        <AxesSubplot:title={'center':'touch_screen'}>,\n",
       "        <AxesSubplot:title={'center':'wifi'}>],\n",
       "       [<AxesSubplot:title={'center':'price_range'}>, <AxesSubplot:>,\n",
       "        <AxesSubplot:>, <AxesSubplot:>, <AxesSubplot:>]], dtype=object)"
      ]
     },
     "execution_count": 8,
     "metadata": {},
     "output_type": "execute_result"
    },
    {
     "data": {
      "image/png": "[encoded data removed]",
      "text/plain": [
       "<Figure size 1800x1440 with 25 Axes>"
      ]
     },
     "metadata": {
      "needs_background": "light"
     },
     "output_type": "display_data"
    }
   ],
   "source": [
    "train.hist(bins=50, figsize=(25,20))"
   ]
  },
  {
   "cell_type": "code",
   "execution_count": 9,
   "metadata": {},
   "outputs": [
    {
     "data": {
      "text/plain": [
       "price_range      1.000000\n",
       "ram              0.917046\n",
       "battery_power    0.200723\n",
       "px_width         0.165818\n",
       "px_height        0.148858\n",
       "int_memory       0.044435\n",
       "sc_w             0.038711\n",
       "pc               0.033599\n",
       "three_g          0.023611\n",
       "sc_h             0.022986\n",
       "fc               0.021998\n",
       "talk_time        0.021859\n",
       "blue             0.020573\n",
       "wifi             0.018785\n",
       "dual_sim         0.017444\n",
       "four_g           0.014772\n",
       "n_cores          0.004399\n",
       "m_dep            0.000853\n",
       "clock_speed     -0.006606\n",
       "mobile_wt       -0.030302\n",
       "touch_screen    -0.030411\n",
       "Name: price_range, dtype: float64"
      ]
     },
     "execution_count": 9,
     "metadata": {},
     "output_type": "execute_result"
    }
   ],
   "source": [
    "corr_matrix=train.corr()\n",
    "corr_matrix['price_range'].sort_values(ascending=False)"
   ]
  },
  {
   "cell_type": "code",
   "execution_count": 10,
   "metadata": {},
   "outputs": [
    {
     "data": {
      "text/plain": [
       "(      battery_power  blue  clock_speed  dual_sim  fc  four_g  int_memory  \\\n",
       " 968            1923     0          0.5         1   7       0          46   \n",
       " 240             633     1          2.2         0   0       1          49   \n",
       " 819            1236     0          0.9         1   2       1          57   \n",
       " 692             781     0          1.1         0   2       0          38   \n",
       " 420            1456     1          0.5         1   7       0           7   \n",
       " ...             ...   ...          ...       ...  ..     ...         ...   \n",
       " 1130           1975     1          1.9         1   2       0          31   \n",
       " 1294            589     1          0.5         0   1       1          59   \n",
       " 860            1829     1          0.5         0   0       1          15   \n",
       " 1459           1927     0          0.9         1   3       0          11   \n",
       " 1126            635     1          0.6         1   1       1          50   \n",
       " \n",
       "       m_dep  mobile_wt  n_cores  ...  px_height  px_width   ram  sc_h  sc_w  \\\n",
       " 968     0.5        191        1  ...        767      1759  1489    10     9   \n",
       " 240     0.1        139        8  ...        529      1009  3560    11     1   \n",
       " 819     0.1        188        1  ...        517       809  1406    14    12   \n",
       " 692     0.4        198        5  ...        304      1674  3508    13     8   \n",
       " 420     0.4        105        5  ...        823      1104  1587     6     5   \n",
       " ...     ...        ...      ...  ...        ...       ...   ...   ...   ...   \n",
       " 1130    0.9        151        1  ...        775      1607  3022    13     5   \n",
       " 1294    0.7        146        8  ...        759      1858   362    16    10   \n",
       " 860     0.4        160        5  ...        729      1267  2080    16    11   \n",
       " 1459    0.4        190        8  ...        491      1506  2916    16    11   \n",
       " 1126    0.3         97        5  ...        193       989  2107    13    12   \n",
       " \n",
       "       talk_time  three_g  touch_screen  wifi  price_range  \n",
       " 968           3        1             1     1            1  \n",
       " 240          16        1             1     1            2  \n",
       " 819          20        1             0     1            0  \n",
       " 692           5        0             0     1            3  \n",
       " 420          20        1             0     1            1  \n",
       " ...         ...      ...           ...   ...          ...  \n",
       " 1130         19        0             0     1            3  \n",
       " 1294          6        1             1     1            0  \n",
       " 860          12        1             0     1            2  \n",
       " 1459         18        0             1     1            3  \n",
       " 1126         12        1             0     0            1  \n",
       " \n",
       " [1600 rows x 21 columns],\n",
       "       battery_power  blue  clock_speed  dual_sim  fc  four_g  int_memory  \\\n",
       " 1860           1646     0          2.5         0   3       1          25   \n",
       " 353            1182     0          0.5         0   7       1           8   \n",
       " 1333           1972     0          2.9         0   9       0          14   \n",
       " 905             989     1          2.0         0   4       0          17   \n",
       " 1289            615     1          0.5         1   7       0          58   \n",
       " ...             ...   ...          ...       ...  ..     ...         ...   \n",
       " 965            1379     0          0.5         1   1       0          19   \n",
       " 1284            991     0          2.0         0   2       1          12   \n",
       " 1739           1044     0          1.8         0   4       1          12   \n",
       " 261             728     0          2.7         1   0       0          25   \n",
       " 535            1185     0          1.9         0   0       0          31   \n",
       " \n",
       "       m_dep  mobile_wt  n_cores  ...  px_height  px_width   ram  sc_h  sc_w  \\\n",
       " 1860    0.6        200        2  ...        211      1608   686     8     6   \n",
       " 353     0.5        138        8  ...        275       986  2563    19    17   \n",
       " 1333    0.4        196        7  ...        293       952  1316     8     1   \n",
       " 905     0.2        166        3  ...        256      1394  3892    18     7   \n",
       " 1289    0.5        130        5  ...       1021      1958  1906    14     5   \n",
       " ...     ...        ...      ...  ...        ...       ...   ...   ...   ...   \n",
       " 965     0.3        134        8  ...        387       671  3912    11     2   \n",
       " 1284    0.3        158        5  ...       1209      1678  2014    11     9   \n",
       " 1739    0.7        104        6  ...       1230      1263  1794    18     7   \n",
       " 261     0.2         88        4  ...        526      1529  2039     5     1   \n",
       " 535     0.4        152        8  ...        837      1642  2447    16     2   \n",
       " \n",
       "       talk_time  three_g  touch_screen  wifi  price_range  \n",
       " 1860         11        1             1     0            0  \n",
       " 353          19        1             0     0            2  \n",
       " 1333          8        1             1     0            1  \n",
       " 905          19        1             1     0            3  \n",
       " 1289          5        1             0     0            1  \n",
       " ...         ...      ...           ...   ...          ...  \n",
       " 965          19        0             1     1            3  \n",
       " 1284         10        1             0     0            2  \n",
       " 1739         19        1             1     1            1  \n",
       " 261          12        1             1     1            1  \n",
       " 535           3        1             1     1            2  \n",
       " \n",
       " [400 rows x 21 columns])"
      ]
     },
     "execution_count": 10,
     "metadata": {},
     "output_type": "execute_result"
    }
   ],
   "source": [
    "train_set, test_set=train_test_split(train, test_size=0.2, random_state=42)\n",
    "train_set, test_set"
   ]
  },
  {
   "cell_type": "code",
   "execution_count": 11,
   "metadata": {},
   "outputs": [],
   "source": [
    "X_train=train_set.drop(['price_range'], axis=1, inplace=False)\n",
    "y_train=train_set['price_range'].copy()"
   ]
  },
  {
   "cell_type": "code",
   "execution_count": 12,
   "metadata": {},
   "outputs": [
    {
     "data": {
      "text/plain": [
       "(      battery_power  blue  clock_speed  dual_sim  fc  four_g  int_memory  \\\n",
       " 968            1923     0          0.5         1   7       0          46   \n",
       " 240             633     1          2.2         0   0       1          49   \n",
       " 819            1236     0          0.9         1   2       1          57   \n",
       " 692             781     0          1.1         0   2       0          38   \n",
       " 420            1456     1          0.5         1   7       0           7   \n",
       " ...             ...   ...          ...       ...  ..     ...         ...   \n",
       " 1130           1975     1          1.9         1   2       0          31   \n",
       " 1294            589     1          0.5         0   1       1          59   \n",
       " 860            1829     1          0.5         0   0       1          15   \n",
       " 1459           1927     0          0.9         1   3       0          11   \n",
       " 1126            635     1          0.6         1   1       1          50   \n",
       " \n",
       "       m_dep  mobile_wt  n_cores  pc  px_height  px_width   ram  sc_h  sc_w  \\\n",
       " 968     0.5        191        1  10        767      1759  1489    10     9   \n",
       " 240     0.1        139        8   1        529      1009  3560    11     1   \n",
       " 819     0.1        188        1  14        517       809  1406    14    12   \n",
       " 692     0.4        198        5   7        304      1674  3508    13     8   \n",
       " 420     0.4        105        5  12        823      1104  1587     6     5   \n",
       " ...     ...        ...      ...  ..        ...       ...   ...   ...   ...   \n",
       " 1130    0.9        151        1  17        775      1607  3022    13     5   \n",
       " 1294    0.7        146        8   4        759      1858   362    16    10   \n",
       " 860     0.4        160        5   7        729      1267  2080    16    11   \n",
       " 1459    0.4        190        8  12        491      1506  2916    16    11   \n",
       " 1126    0.3         97        5  13        193       989  2107    13    12   \n",
       " \n",
       "       talk_time  three_g  touch_screen  wifi  \n",
       " 968           3        1             1     1  \n",
       " 240          16        1             1     1  \n",
       " 819          20        1             0     1  \n",
       " 692           5        0             0     1  \n",
       " 420          20        1             0     1  \n",
       " ...         ...      ...           ...   ...  \n",
       " 1130         19        0             0     1  \n",
       " 1294          6        1             1     1  \n",
       " 860          12        1             0     1  \n",
       " 1459         18        0             1     1  \n",
       " 1126         12        1             0     0  \n",
       " \n",
       " [1600 rows x 20 columns],\n",
       " 968     1\n",
       " 240     2\n",
       " 819     0\n",
       " 692     3\n",
       " 420     1\n",
       "        ..\n",
       " 1130    3\n",
       " 1294    0\n",
       " 860     2\n",
       " 1459    3\n",
       " 1126    1\n",
       " Name: price_range, Length: 1600, dtype: int64)"
      ]
     },
     "execution_count": 12,
     "metadata": {},
     "output_type": "execute_result"
    }
   ],
   "source": [
    "X_train, y_train"
   ]
  },
  {
   "cell_type": "code",
   "execution_count": 13,
   "metadata": {},
   "outputs": [
    {
     "name": "stderr",
     "output_type": "stream",
     "text": [
      "<ipython-input-13-1538341e50f1>:1: DeprecationWarning: `np.int` is a deprecated alias for the builtin `int`. To silence this warning, use `int` by itself. Doing this will not modify any behavior and is safe. When replacing `np.int`, you may wish to use e.g. `np.int64` or `np.int32` to specify the precision. If you wish to review your current use, check the release note link for additional information.\n",
      "Deprecated in NumPy 1.20; for more details and guidance: https://numpy.org/devdocs/release/1.20.0-notes.html#deprecations\n",
      "  y_train_3=(y_train==3).astype(np.int) # 0=not in class 3, 1=class 3\n"
     ]
    },
    {
     "data": {
      "text/plain": [
       "968     0\n",
       "240     0\n",
       "819     0\n",
       "692     1\n",
       "420     0\n",
       "       ..\n",
       "1130    1\n",
       "1294    0\n",
       "860     0\n",
       "1459    1\n",
       "1126    0\n",
       "Name: price_range, Length: 1600, dtype: int64"
      ]
     },
     "execution_count": 13,
     "metadata": {},
     "output_type": "execute_result"
    }
   ],
   "source": [
    "y_train_3=(y_train==3).astype(np.int) # 0=not in class 3, 1=class 3\n",
    "y_train_3"
   ]
  },
  {
   "cell_type": "code",
   "execution_count": 14,
   "metadata": {},
   "outputs": [],
   "source": [
    "scale=StandardScaler()\n",
    "X_train_scale=scale.fit_transform(X_train)"
   ]
  },
  {
   "cell_type": "code",
   "execution_count": 105,
   "metadata": {},
   "outputs": [
    {
     "data": {
      "text/html": [
       "<style  type=\"text/css\" >\n",
       "</style><table id=\"T_07a0a_\" ><caption>Result table for train set</caption><thead>    <tr>        <th class=\"blank level0\" ></th>        <th class=\"col_heading level0 col0\" >Target</th>        <th class=\"col_heading level0 col1\" >Model</th>        <th class=\"col_heading level0 col2\" >Accuracy</th>        <th class=\"col_heading level0 col3\" >Precision</th>        <th class=\"col_heading level0 col4\" >Recall</th>        <th class=\"col_heading level0 col5\" >F1</th>    </tr></thead><tbody>\n",
       "        </tbody></table>"
      ],
      "text/plain": [
       "<pandas.io.formats.style.Styler at 0x7fc0c2e32040>"
      ]
     },
     "execution_count": 105,
     "metadata": {},
     "output_type": "execute_result"
    }
   ],
   "source": [
    "result_tab=pd.DataFrame({'Target':[],\n",
    "                           'Model': [],\n",
    "                           'Accuracy':[],\n",
    "                           'Precision':[],\n",
    "                           'Recall':[],\n",
    "                           'F1':[]})\n",
    "result_tab.style.set_caption('Result table for train set')"
   ]
  },
  {
   "cell_type": "code",
   "execution_count": 16,
   "metadata": {},
   "outputs": [
    {
     "data": {
      "text/plain": [
       "SGDClassifier(random_state=42)"
      ]
     },
     "execution_count": 16,
     "metadata": {},
     "output_type": "execute_result"
    }
   ],
   "source": [
    "sgd_cls=SGDClassifier(random_state=42)\n",
    "sgd_cls.fit(X_train_scale, y_train_3)"
   ]
  },
  {
   "cell_type": "code",
   "execution_count": 17,
   "metadata": {},
   "outputs": [
    {
     "data": {
      "text/plain": [
       "battery_power    1859.0\n",
       "blue                0.0\n",
       "clock_speed         0.5\n",
       "dual_sim            1.0\n",
       "fc                  3.0\n",
       "four_g              0.0\n",
       "int_memory         22.0\n",
       "m_dep               0.7\n",
       "mobile_wt         164.0\n",
       "n_cores             1.0\n",
       "pc                  7.0\n",
       "px_height        1004.0\n",
       "px_width         1654.0\n",
       "ram              1067.0\n",
       "sc_h               17.0\n",
       "sc_w                1.0\n",
       "talk_time          10.0\n",
       "three_g             1.0\n",
       "touch_screen        0.0\n",
       "wifi                0.0\n",
       "Name: 5, dtype: float64"
      ]
     },
     "execution_count": 17,
     "metadata": {},
     "output_type": "execute_result"
    }
   ],
   "source": [
    "X_1=X_train.loc[5]\n",
    "X_2=X_train.loc[10]\n",
    "X_1"
   ]
  },
  {
   "cell_type": "code",
   "execution_count": 18,
   "metadata": {},
   "outputs": [
    {
     "data": {
      "text/plain": [
       "(array([1, 1]), 0, 1)"
      ]
     },
     "execution_count": 18,
     "metadata": {},
     "output_type": "execute_result"
    }
   ],
   "source": [
    "pred_1=sgd_cls.predict([X_1,X_2])\n",
    "pred_1, y_train_3.loc[5], y_train_3[10]"
   ]
  },
  {
   "cell_type": "code",
   "execution_count": 19,
   "metadata": {},
   "outputs": [
    {
     "data": {
      "text/plain": [
       "0.9868750000000001"
      ]
     },
     "execution_count": 19,
     "metadata": {},
     "output_type": "execute_result"
    }
   ],
   "source": [
    "from sklearn.model_selection import cross_val_score\n",
    "sgd_score=cross_val_score(sgd_cls, X_train_scale, y_train_3,\n",
    "                           cv=5, scoring='accuracy')\n",
    "sgd_accu=sgd_score.mean()\n",
    "sgd_accu"
   ]
  },
  {
   "cell_type": "code",
   "execution_count": 20,
   "metadata": {},
   "outputs": [],
   "source": [
    "y_train_pred=cross_val_predict(sgd_cls, X_train_scale, \n",
    "                               y_train_3, cv=5)"
   ]
  },
  {
   "cell_type": "code",
   "execution_count": 21,
   "metadata": {},
   "outputs": [
    {
     "data": {
      "text/plain": [
       "array([[1204,   13],\n",
       "       [   8,  375]])"
      ]
     },
     "execution_count": 21,
     "metadata": {},
     "output_type": "execute_result"
    }
   ],
   "source": [
    "conf_matrix=confusion_matrix(y_train_pred, y_train_3)\n",
    "conf_matrix"
   ]
  },
  {
   "cell_type": "code",
   "execution_count": 23,
   "metadata": {},
   "outputs": [
    {
     "data": {
      "text/plain": [
       "1600"
      ]
     },
     "execution_count": 23,
     "metadata": {},
     "output_type": "execute_result"
    }
   ],
   "source": [
    "1204+13+8+375 #TN+FP+FN+TP"
   ]
  },
  {
   "cell_type": "code",
   "execution_count": 24,
   "metadata": {},
   "outputs": [
    {
     "data": {
      "text/plain": [
       "(0.9664948453608248, 0.97911227154047)"
      ]
     },
     "execution_count": 24,
     "metadata": {},
     "output_type": "execute_result"
    }
   ],
   "source": [
    "recall_sgd=recall_score(y_train_3,y_train_pred)\n",
    "precision_sgd=precision_score(y_train_3,y_train_pred)\n",
    "recall_sgd,precision_sgd"
   ]
  },
  {
   "cell_type": "code",
   "execution_count": 25,
   "metadata": {},
   "outputs": [],
   "source": [
    "y_scores=cross_val_predict(sgd_cls,X_train_scale,y_train_3,\n",
    "                           cv=5, method='decision_function')"
   ]
  },
  {
   "cell_type": "code",
   "execution_count": 26,
   "metadata": {},
   "outputs": [
    {
     "data": {
      "text/plain": [
       "array([-50.26565555,   7.1498772 , -92.6859858 , ..., -22.23544927,\n",
       "         8.374825  , -46.86670415])"
      ]
     },
     "execution_count": 26,
     "metadata": {},
     "output_type": "execute_result"
    }
   ],
   "source": [
    "y_scores"
   ]
  },
  {
   "cell_type": "code",
   "execution_count": 27,
   "metadata": {},
   "outputs": [
    {
     "data": {
      "text/plain": [
       "array([83211.26814505])"
      ]
     },
     "execution_count": 27,
     "metadata": {},
     "output_type": "execute_result"
    }
   ],
   "source": [
    "sgd_cls.decision_function([X_1])"
   ]
  },
  {
   "cell_type": "code",
   "execution_count": 28,
   "metadata": {},
   "outputs": [
    {
     "data": {
      "text/plain": [
       "(0, 0)"
      ]
     },
     "execution_count": 28,
     "metadata": {},
     "output_type": "execute_result"
    }
   ],
   "source": [
    "np.argmax(sgd_cls.decision_function([X_1])), np.argmax(sgd_cls.decision_function([X_2]))"
   ]
  },
  {
   "cell_type": "code",
   "execution_count": 29,
   "metadata": {},
   "outputs": [],
   "source": [
    "from sklearn.metrics import precision_recall_curve\n",
    "precisions, recalls, thresholds=precision_recall_curve(y_train_3,y_scores)"
   ]
  },
  {
   "cell_type": "code",
   "execution_count": 33,
   "metadata": {},
   "outputs": [
    {
     "data": {
      "image/png": "[encoded data removed]",
      "text/plain": [
       "<Figure size 576x288 with 1 Axes>"
      ]
     },
     "metadata": {
      "needs_background": "light"
     },
     "output_type": "display_data"
    }
   ],
   "source": [
    "def plot_precision_recall_vs_threshold(precisions, recalls, thresholds):\n",
    "    plt.plot(thresholds, precisions[:-1], \"b--\", label=\"Precision\", linewidth=2)\n",
    "    plt.plot(thresholds, recalls[:-1], \"g-\", label=\"Recall\", linewidth=2)\n",
    "    plt.legend(loc=\"center right\", fontsize=16)\n",
    "    plt.xlabel(\"Threshold\", fontsize=16)\n",
    "    plt.grid(True)\n",
    "    plt.axis([-7, 70, 0, 1.1])\n",
    "\n",
    "\n",
    "recall_90_precision = recalls[np.argmax(precisions >= 0.90)]\n",
    "threshold_90_precision = thresholds[np.argmax(precisions >= 0.90)]\n",
    "\n",
    "plt.figure(figsize=(8, 4))\n",
    "plot_precision_recall_vs_threshold(precisions, recalls, thresholds)\n",
    "plt.plot([threshold_90_precision, threshold_90_precision], [0., 0.99], \"r:\")\n",
    "plt.plot([-4, threshold_90_precision], [0.9, 0.9], \"r:\")\n",
    "plt.plot([-4, threshold_90_precision], [recall_90_precision, recall_90_precision], \"r:\")\n",
    "plt.plot([threshold_90_precision], [0.9], \"ro\")\n",
    "plt.plot([threshold_90_precision], [recall_90_precision], \"ro\")\n",
    "plt.show()"
   ]
  },
  {
   "cell_type": "code",
   "execution_count": 34,
   "metadata": {},
   "outputs": [
    {
     "data": {
      "image/png": "[encoded data removed]",
      "text/plain": [
       "<Figure size 432x288 with 1 Axes>"
      ]
     },
     "metadata": {
      "needs_background": "light"
     },
     "output_type": "display_data"
    }
   ],
   "source": [
    "plt.hist(y_train, histtype='bar', bins=[0, 1, 2, 3, 4], ec='black', rwidth=0.5,\n",
    "         align='left')\n",
    "plt.xticks(np.arange(0, 4, 1))\n",
    "plt.show()"
   ]
  },
  {
   "cell_type": "code",
   "execution_count": 35,
   "metadata": {},
   "outputs": [
    {
     "data": {
      "text/plain": [
       "0.9727626459143969"
      ]
     },
     "execution_count": 35,
     "metadata": {},
     "output_type": "execute_result"
    }
   ],
   "source": [
    "from sklearn.metrics import f1_score\n",
    "f1_sgd=f1_score(y_train_3,y_train_pred)\n",
    "f1_sgd"
   ]
  },
  {
   "cell_type": "code",
   "execution_count": 106,
   "metadata": {
    "scrolled": true
   },
   "outputs": [
    {
     "data": {
      "text/html": [
       "<style  type=\"text/css\" >\n",
       "</style><table id=\"T_11956_\" ><caption>Result table for train set</caption><thead>    <tr>        <th class=\"blank level0\" ></th>        <th class=\"col_heading level0 col0\" >Target</th>        <th class=\"col_heading level0 col1\" >Model</th>        <th class=\"col_heading level0 col2\" >Accuracy</th>        <th class=\"col_heading level0 col3\" >Precision</th>        <th class=\"col_heading level0 col4\" >Recall</th>        <th class=\"col_heading level0 col5\" >F1</th>    </tr></thead><tbody>\n",
       "                <tr>\n",
       "                        <th id=\"T_11956_level0_row0\" class=\"row_heading level0 row0\" >0</th>\n",
       "                        <td id=\"T_11956_row0_col0\" class=\"data row0 col0\" >Binary Class</td>\n",
       "                        <td id=\"T_11956_row0_col1\" class=\"data row0 col1\" >SGDClassifier</td>\n",
       "                        <td id=\"T_11956_row0_col2\" class=\"data row0 col2\" >0.986875</td>\n",
       "                        <td id=\"T_11956_row0_col3\" class=\"data row0 col3\" >0.979112</td>\n",
       "                        <td id=\"T_11956_row0_col4\" class=\"data row0 col4\" >0.966495</td>\n",
       "                        <td id=\"T_11956_row0_col5\" class=\"data row0 col5\" >0.972763</td>\n",
       "            </tr>\n",
       "    </tbody></table>"
      ],
      "text/plain": [
       "<pandas.io.formats.style.Styler at 0x7fc0c2f3f790>"
      ]
     },
     "execution_count": 106,
     "metadata": {},
     "output_type": "execute_result"
    }
   ],
   "source": [
    "row = result_tab.shape[0]\n",
    "result_tab.loc[row] = ['Binary Class','SGDClassifier',sgd_accu,precision_sgd,recall_sgd,f1_sgd]\n",
    "result_tab.sort_values(by = 'Accuracy', ascending=False)\n",
    "result_tab.style.set_caption('Result table for train set')"
   ]
  },
  {
   "cell_type": "code",
   "execution_count": 37,
   "metadata": {},
   "outputs": [
    {
     "data": {
      "text/plain": [
       "LogisticRegression()"
      ]
     },
     "execution_count": 37,
     "metadata": {},
     "output_type": "execute_result"
    }
   ],
   "source": [
    "# LogesticRegression\n",
    "log_reg=LogisticRegression()\n",
    "log_reg.fit(X_train_scale, y_train_3)"
   ]
  },
  {
   "cell_type": "code",
   "execution_count": 38,
   "metadata": {},
   "outputs": [
    {
     "data": {
      "text/plain": [
       "(1600, 20)"
      ]
     },
     "execution_count": 38,
     "metadata": {},
     "output_type": "execute_result"
    }
   ],
   "source": [
    "X_train_scale.shape"
   ]
  },
  {
   "cell_type": "code",
   "execution_count": 40,
   "metadata": {},
   "outputs": [
    {
     "name": "stdout",
     "output_type": "stream",
     "text": [
      "0 0\n",
      "0 0\n",
      "1 0\n",
      "1 0\n",
      "3 1\n",
      "0 0\n",
      "1 0\n",
      "3 1\n",
      "0 0\n",
      "0 0\n"
     ]
    }
   ],
   "source": [
    "# Testing our logesticRegression model\n",
    "X_instance=X_train_scale[1100:1150:5]\n",
    "y_instance=y_train[1100:1150:5]\n",
    "y_new_pred=log_reg.predict(X_instance)\n",
    "zip1=zip(y_instance, y_new_pred)\n",
    "for i, j in zip1:\n",
    "    print(i,j)"
   ]
  },
  {
   "cell_type": "code",
   "execution_count": 41,
   "metadata": {},
   "outputs": [
    {
     "data": {
      "text/plain": [
       "0.9875"
      ]
     },
     "execution_count": 41,
     "metadata": {},
     "output_type": "execute_result"
    }
   ],
   "source": [
    "log_scores=cross_val_score(log_reg, X_train_scale, y_train_3,\n",
    "                          cv=10, scoring='accuracy')\n",
    "log_accu=log_scores.mean()\n",
    "log_accu"
   ]
  },
  {
   "cell_type": "code",
   "execution_count": 107,
   "metadata": {},
   "outputs": [
    {
     "data": {
      "text/html": [
       "<style  type=\"text/css\" >\n",
       "</style><table id=\"T_52d8d_\" ><caption>Result table for train set</caption><thead>    <tr>        <th class=\"blank level0\" ></th>        <th class=\"col_heading level0 col0\" >Target</th>        <th class=\"col_heading level0 col1\" >Model</th>        <th class=\"col_heading level0 col2\" >Accuracy</th>        <th class=\"col_heading level0 col3\" >Precision</th>        <th class=\"col_heading level0 col4\" >Recall</th>        <th class=\"col_heading level0 col5\" >F1</th>    </tr></thead><tbody>\n",
       "                <tr>\n",
       "                        <th id=\"T_52d8d_level0_row0\" class=\"row_heading level0 row0\" >0</th>\n",
       "                        <td id=\"T_52d8d_row0_col0\" class=\"data row0 col0\" >Binary Class</td>\n",
       "                        <td id=\"T_52d8d_row0_col1\" class=\"data row0 col1\" >SGDClassifier</td>\n",
       "                        <td id=\"T_52d8d_row0_col2\" class=\"data row0 col2\" >0.986875</td>\n",
       "                        <td id=\"T_52d8d_row0_col3\" class=\"data row0 col3\" >0.979112</td>\n",
       "                        <td id=\"T_52d8d_row0_col4\" class=\"data row0 col4\" >0.966495</td>\n",
       "                        <td id=\"T_52d8d_row0_col5\" class=\"data row0 col5\" >0.972763</td>\n",
       "            </tr>\n",
       "            <tr>\n",
       "                        <th id=\"T_52d8d_level0_row1\" class=\"row_heading level0 row1\" >1</th>\n",
       "                        <td id=\"T_52d8d_row1_col0\" class=\"data row1 col0\" >Binary Class</td>\n",
       "                        <td id=\"T_52d8d_row1_col1\" class=\"data row1 col1\" >LogesticRegression</td>\n",
       "                        <td id=\"T_52d8d_row1_col2\" class=\"data row1 col2\" >0.987500</td>\n",
       "                        <td id=\"T_52d8d_row1_col3\" class=\"data row1 col3\" >0.969388</td>\n",
       "                        <td id=\"T_52d8d_row1_col4\" class=\"data row1 col4\" >0.979381</td>\n",
       "                        <td id=\"T_52d8d_row1_col5\" class=\"data row1 col5\" >0.974359</td>\n",
       "            </tr>\n",
       "    </tbody></table>"
      ],
      "text/plain": [
       "<pandas.io.formats.style.Styler at 0x7fc0c2dc0fa0>"
      ]
     },
     "execution_count": 107,
     "metadata": {},
     "output_type": "execute_result"
    }
   ],
   "source": [
    "log_pred=cross_val_predict(log_reg,X_train_scale,y_train_3,cv=10)\n",
    "recall_log=recall_score(y_train_3,log_pred)\n",
    "precision_log=precision_score(y_train_3,log_pred)\n",
    "f1_log=f1_score(y_train_3,log_pred)\n",
    "row = result_tab.shape[0]\n",
    "result_tab.loc[row] = ['Binary Class','LogesticRegression',log_accu,precision_log,recall_log,f1_log]\n",
    "result_tab.sort_values(by = 'Accuracy', ascending=False)\n",
    "result_tab.style.set_caption('Result table for train set')"
   ]
  },
  {
   "cell_type": "code",
   "execution_count": 43,
   "metadata": {},
   "outputs": [
    {
     "data": {
      "image/png": "[encoded data removed]",
      "text/plain": [
       "<Figure size 432x288 with 1 Axes>"
      ]
     },
     "metadata": {
      "needs_background": "light"
     },
     "output_type": "display_data"
    }
   ],
   "source": [
    "X_new = np.linspace(0, 2, 2000).reshape(-1,20)\n",
    "y_proba = log_reg.predict_proba(X_new)\n",
    "plt.plot(X_new, y_proba[:, 1], 'b-')\n",
    "plt.plot(X_new, y_proba[:, 0], 'r:')\n",
    "plt.legend([\"Price range is 3\",\"Price range is not 3\"])\n",
    "#plt.legend()\n",
    "plt.show()"
   ]
  },
  {
   "cell_type": "markdown",
   "metadata": {},
   "source": [
    "**Now we would like to set multi-calss for the terget**"
   ]
  },
  {
   "cell_type": "code",
   "execution_count": 44,
   "metadata": {},
   "outputs": [
    {
     "data": {
      "text/plain": [
       "SGDClassifier(random_state=42)"
      ]
     },
     "execution_count": 44,
     "metadata": {},
     "output_type": "execute_result"
    }
   ],
   "source": [
    "#let's try multi class with OvA default of SGDclassifier\n",
    "sgd_cls.fit(X_train_scale, y_train)"
   ]
  },
  {
   "cell_type": "code",
   "execution_count": 45,
   "metadata": {},
   "outputs": [
    {
     "data": {
      "text/plain": [
       "(array([3, 3]), 1, 3)"
      ]
     },
     "execution_count": 45,
     "metadata": {},
     "output_type": "execute_result"
    }
   ],
   "source": [
    "y_pred=sgd_cls.predict([X_1,X_2])\n",
    "y_pred, y_train.loc[5], y_train.loc[10]"
   ]
  },
  {
   "cell_type": "code",
   "execution_count": 46,
   "metadata": {},
   "outputs": [
    {
     "data": {
      "text/plain": [
       "0.7625"
      ]
     },
     "execution_count": 46,
     "metadata": {},
     "output_type": "execute_result"
    }
   ],
   "source": [
    "sgd_score=cross_val_score(sgd_cls, X_train_scale, y_train, \n",
    "                          cv=5, scoring='accuracy')\n",
    "sgd_accu_multi=sgd_score.mean()\n",
    "sgd_accu_multi"
   ]
  },
  {
   "cell_type": "code",
   "execution_count": 47,
   "metadata": {},
   "outputs": [
    {
     "data": {
      "text/plain": [
       "array([1, 3, 2, ..., 2, 3, 2])"
      ]
     },
     "execution_count": 47,
     "metadata": {},
     "output_type": "execute_result"
    }
   ],
   "source": [
    "y_predict=cross_val_predict(sgd_cls,X_train_scale,y_train, cv=5)\n",
    "y_predict"
   ]
  },
  {
   "cell_type": "code",
   "execution_count": 48,
   "metadata": {},
   "outputs": [
    {
     "data": {
      "text/plain": [
       "array([[378,   9,   8,   0],\n",
       "       [ 14, 203, 192,   0],\n",
       "       [  0, 125, 263,  20],\n",
       "       [  0,   3,   9, 376]])"
      ]
     },
     "execution_count": 48,
     "metadata": {},
     "output_type": "execute_result"
    }
   ],
   "source": [
    "conf_matrix=confusion_matrix(y_train,y_predict)\n",
    "conf_matrix"
   ]
  },
  {
   "cell_type": "code",
   "execution_count": 49,
   "metadata": {},
   "outputs": [
    {
     "data": {
      "text/plain": [
       "<matplotlib.image.AxesImage at 0x7fc0d45ee460>"
      ]
     },
     "execution_count": 49,
     "metadata": {},
     "output_type": "execute_result"
    },
    {
     "data": {
      "image/png": "[encoded data removed]",
      "text/plain": [
       "<Figure size 432x288 with 1 Axes>"
      ]
     },
     "metadata": {
      "needs_background": "light"
     },
     "output_type": "display_data"
    }
   ],
   "source": [
    "plt.imshow(conf_matrix, cmap=plt.cm.gray) # 0=Black , 1=white"
   ]
  },
  {
   "cell_type": "code",
   "execution_count": 50,
   "metadata": {},
   "outputs": [
    {
     "data": {
      "text/plain": [
       "<matplotlib.image.AxesImage at 0x7fc0d41849a0>"
      ]
     },
     "execution_count": 50,
     "metadata": {},
     "output_type": "execute_result"
    },
    {
     "data": {
      "image/png": "[encoded data removed]",
      "text/plain": [
       "<Figure size 288x288 with 1 Axes>"
      ]
     },
     "metadata": {
      "needs_background": "light"
     },
     "output_type": "display_data"
    }
   ],
   "source": [
    "row_sums = conf_matrix.sum(axis=1, keepdims=True)\n",
    "norm_conf_matrix = conf_matrix / row_sums\n",
    "np.fill_diagonal(norm_conf_matrix, 0)\n",
    "plt.matshow(norm_conf_matrix, cmap=plt.cm.gray)"
   ]
  },
  {
   "cell_type": "code",
   "execution_count": 51,
   "metadata": {},
   "outputs": [
    {
     "data": {
      "text/plain": [
       "(0.7625, 0.7630205871382966, 0.7607361512655444)"
      ]
     },
     "execution_count": 51,
     "metadata": {},
     "output_type": "execute_result"
    }
   ],
   "source": [
    "recall_sgd_multi=recall_score(y_train, y_predict,average='weighted')\n",
    "precision_sgd_multi=precision_score(y_train, y_predict,average='weighted')\n",
    "f1_sgd_multi=f1_score(y_train, y_predict,average='weighted')\n",
    "recall_sgd_multi,precision_sgd_multi,f1_sgd_multi"
   ]
  },
  {
   "cell_type": "code",
   "execution_count": 108,
   "metadata": {},
   "outputs": [
    {
     "data": {
      "text/html": [
       "<style  type=\"text/css\" >\n",
       "</style><table id=\"T_2b8ab_\" ><caption>Result table for train set</caption><thead>    <tr>        <th class=\"blank level0\" ></th>        <th class=\"col_heading level0 col0\" >Target</th>        <th class=\"col_heading level0 col1\" >Model</th>        <th class=\"col_heading level0 col2\" >Accuracy</th>        <th class=\"col_heading level0 col3\" >Precision</th>        <th class=\"col_heading level0 col4\" >Recall</th>        <th class=\"col_heading level0 col5\" >F1</th>    </tr></thead><tbody>\n",
       "                <tr>\n",
       "                        <th id=\"T_2b8ab_level0_row0\" class=\"row_heading level0 row0\" >0</th>\n",
       "                        <td id=\"T_2b8ab_row0_col0\" class=\"data row0 col0\" >Binary Class</td>\n",
       "                        <td id=\"T_2b8ab_row0_col1\" class=\"data row0 col1\" >SGDClassifier</td>\n",
       "                        <td id=\"T_2b8ab_row0_col2\" class=\"data row0 col2\" >0.986875</td>\n",
       "                        <td id=\"T_2b8ab_row0_col3\" class=\"data row0 col3\" >0.979112</td>\n",
       "                        <td id=\"T_2b8ab_row0_col4\" class=\"data row0 col4\" >0.966495</td>\n",
       "                        <td id=\"T_2b8ab_row0_col5\" class=\"data row0 col5\" >0.972763</td>\n",
       "            </tr>\n",
       "            <tr>\n",
       "                        <th id=\"T_2b8ab_level0_row1\" class=\"row_heading level0 row1\" >1</th>\n",
       "                        <td id=\"T_2b8ab_row1_col0\" class=\"data row1 col0\" >Binary Class</td>\n",
       "                        <td id=\"T_2b8ab_row1_col1\" class=\"data row1 col1\" >LogesticRegression</td>\n",
       "                        <td id=\"T_2b8ab_row1_col2\" class=\"data row1 col2\" >0.987500</td>\n",
       "                        <td id=\"T_2b8ab_row1_col3\" class=\"data row1 col3\" >0.969388</td>\n",
       "                        <td id=\"T_2b8ab_row1_col4\" class=\"data row1 col4\" >0.979381</td>\n",
       "                        <td id=\"T_2b8ab_row1_col5\" class=\"data row1 col5\" >0.974359</td>\n",
       "            </tr>\n",
       "            <tr>\n",
       "                        <th id=\"T_2b8ab_level0_row2\" class=\"row_heading level0 row2\" >2</th>\n",
       "                        <td id=\"T_2b8ab_row2_col0\" class=\"data row2 col0\" >Multi-class</td>\n",
       "                        <td id=\"T_2b8ab_row2_col1\" class=\"data row2 col1\" >SGDClassifier</td>\n",
       "                        <td id=\"T_2b8ab_row2_col2\" class=\"data row2 col2\" >0.762500</td>\n",
       "                        <td id=\"T_2b8ab_row2_col3\" class=\"data row2 col3\" >0.763021</td>\n",
       "                        <td id=\"T_2b8ab_row2_col4\" class=\"data row2 col4\" >0.762500</td>\n",
       "                        <td id=\"T_2b8ab_row2_col5\" class=\"data row2 col5\" >0.760736</td>\n",
       "            </tr>\n",
       "    </tbody></table>"
      ],
      "text/plain": [
       "<pandas.io.formats.style.Styler at 0x7fc0c2db1f70>"
      ]
     },
     "execution_count": 108,
     "metadata": {},
     "output_type": "execute_result"
    }
   ],
   "source": [
    "row = result_tab.shape[0]\n",
    "result_tab.loc[row] = ['Multi-class','SGDClassifier',sgd_accu_multi,precision_sgd_multi,recall_sgd_multi,f1_sgd_multi]\n",
    "result_tab.sort_values(by = 'Accuracy', ascending=False)\n",
    "result_tab.style.set_caption('Result table for train set')"
   ]
  },
  {
   "cell_type": "code",
   "execution_count": 53,
   "metadata": {},
   "outputs": [
    {
     "data": {
      "text/plain": [
       "DecisionTreeClassifier(random_state=42)"
      ]
     },
     "execution_count": 53,
     "metadata": {},
     "output_type": "execute_result"
    }
   ],
   "source": [
    "tree_cls=DecisionTreeClassifier(random_state=42)\n",
    "tree_cls.fit(X_train_scale,y_train)"
   ]
  },
  {
   "cell_type": "code",
   "execution_count": 54,
   "metadata": {},
   "outputs": [
    {
     "data": {
      "text/plain": [
       "(array([3, 3]), 1)"
      ]
     },
     "execution_count": 54,
     "metadata": {},
     "output_type": "execute_result"
    }
   ],
   "source": [
    "tree_cls.predict([X_1,X_2]), y_train.loc[5]"
   ]
  },
  {
   "cell_type": "code",
   "execution_count": 55,
   "metadata": {},
   "outputs": [
    {
     "data": {
      "text/plain": [
       "0.8300000000000001"
      ]
     },
     "execution_count": 55,
     "metadata": {},
     "output_type": "execute_result"
    }
   ],
   "source": [
    "tree_score=cross_val_score(tree_cls,X_train_scale,y_train, \n",
    "                           cv=5, scoring='accuracy')\n",
    "tree_accu=tree_score.mean()\n",
    "tree_accu"
   ]
  },
  {
   "cell_type": "code",
   "execution_count": 56,
   "metadata": {},
   "outputs": [
    {
     "data": {
      "text/plain": [
       "array([[358,  37,   0,   0],\n",
       "       [ 37, 324,  46,   2],\n",
       "       [  0,  46, 304,  58],\n",
       "       [  0,   0,  46, 342]])"
      ]
     },
     "execution_count": 56,
     "metadata": {},
     "output_type": "execute_result"
    }
   ],
   "source": [
    "tree_pred=cross_val_predict(tree_cls,X_train_scale,y_train,cv=5)\n",
    "tree_conf_mx=confusion_matrix(y_train,tree_pred)\n",
    "tree_conf_mx"
   ]
  },
  {
   "cell_type": "code",
   "execution_count": 57,
   "metadata": {},
   "outputs": [
    {
     "data": {
      "text/plain": [
       "<matplotlib.image.AxesImage at 0x7fc0d49e3d30>"
      ]
     },
     "execution_count": 57,
     "metadata": {},
     "output_type": "execute_result"
    },
    {
     "data": {
      "image/png": "[encoded data removed]",
      "text/plain": [
       "<Figure size 432x288 with 1 Axes>"
      ]
     },
     "metadata": {
      "needs_background": "light"
     },
     "output_type": "display_data"
    }
   ],
   "source": [
    "plt.imshow(tree_conf_mx, cmap=plt.cm.gray)"
   ]
  },
  {
   "cell_type": "code",
   "execution_count": 58,
   "metadata": {},
   "outputs": [
    {
     "data": {
      "text/plain": [
       "(0.83, 0.8293086319019154, 0.8295441697413898)"
      ]
     },
     "execution_count": 58,
     "metadata": {},
     "output_type": "execute_result"
    }
   ],
   "source": [
    "recall_tree=recall_score(y_train,tree_pred,average='weighted')\n",
    "precision_tree=precision_score(y_train,tree_pred,average='weighted')\n",
    "f1_tree=f1_score(y_train,tree_pred,average='weighted')\n",
    "recall_tree, precision_tree,f1_tree"
   ]
  },
  {
   "cell_type": "code",
   "execution_count": 109,
   "metadata": {},
   "outputs": [
    {
     "data": {
      "text/html": [
       "<style  type=\"text/css\" >\n",
       "</style><table id=\"T_78aef_\" ><caption>Result table for train set</caption><thead>    <tr>        <th class=\"blank level0\" ></th>        <th class=\"col_heading level0 col0\" >Target</th>        <th class=\"col_heading level0 col1\" >Model</th>        <th class=\"col_heading level0 col2\" >Accuracy</th>        <th class=\"col_heading level0 col3\" >Precision</th>        <th class=\"col_heading level0 col4\" >Recall</th>        <th class=\"col_heading level0 col5\" >F1</th>    </tr></thead><tbody>\n",
       "                <tr>\n",
       "                        <th id=\"T_78aef_level0_row0\" class=\"row_heading level0 row0\" >0</th>\n",
       "                        <td id=\"T_78aef_row0_col0\" class=\"data row0 col0\" >Binary Class</td>\n",
       "                        <td id=\"T_78aef_row0_col1\" class=\"data row0 col1\" >SGDClassifier</td>\n",
       "                        <td id=\"T_78aef_row0_col2\" class=\"data row0 col2\" >0.986875</td>\n",
       "                        <td id=\"T_78aef_row0_col3\" class=\"data row0 col3\" >0.979112</td>\n",
       "                        <td id=\"T_78aef_row0_col4\" class=\"data row0 col4\" >0.966495</td>\n",
       "                        <td id=\"T_78aef_row0_col5\" class=\"data row0 col5\" >0.972763</td>\n",
       "            </tr>\n",
       "            <tr>\n",
       "                        <th id=\"T_78aef_level0_row1\" class=\"row_heading level0 row1\" >1</th>\n",
       "                        <td id=\"T_78aef_row1_col0\" class=\"data row1 col0\" >Binary Class</td>\n",
       "                        <td id=\"T_78aef_row1_col1\" class=\"data row1 col1\" >LogesticRegression</td>\n",
       "                        <td id=\"T_78aef_row1_col2\" class=\"data row1 col2\" >0.987500</td>\n",
       "                        <td id=\"T_78aef_row1_col3\" class=\"data row1 col3\" >0.969388</td>\n",
       "                        <td id=\"T_78aef_row1_col4\" class=\"data row1 col4\" >0.979381</td>\n",
       "                        <td id=\"T_78aef_row1_col5\" class=\"data row1 col5\" >0.974359</td>\n",
       "            </tr>\n",
       "            <tr>\n",
       "                        <th id=\"T_78aef_level0_row2\" class=\"row_heading level0 row2\" >2</th>\n",
       "                        <td id=\"T_78aef_row2_col0\" class=\"data row2 col0\" >Multi-class</td>\n",
       "                        <td id=\"T_78aef_row2_col1\" class=\"data row2 col1\" >SGDClassifier</td>\n",
       "                        <td id=\"T_78aef_row2_col2\" class=\"data row2 col2\" >0.762500</td>\n",
       "                        <td id=\"T_78aef_row2_col3\" class=\"data row2 col3\" >0.763021</td>\n",
       "                        <td id=\"T_78aef_row2_col4\" class=\"data row2 col4\" >0.762500</td>\n",
       "                        <td id=\"T_78aef_row2_col5\" class=\"data row2 col5\" >0.760736</td>\n",
       "            </tr>\n",
       "            <tr>\n",
       "                        <th id=\"T_78aef_level0_row3\" class=\"row_heading level0 row3\" >3</th>\n",
       "                        <td id=\"T_78aef_row3_col0\" class=\"data row3 col0\" >Multi-class</td>\n",
       "                        <td id=\"T_78aef_row3_col1\" class=\"data row3 col1\" >DecisionTree</td>\n",
       "                        <td id=\"T_78aef_row3_col2\" class=\"data row3 col2\" >0.830000</td>\n",
       "                        <td id=\"T_78aef_row3_col3\" class=\"data row3 col3\" >0.829309</td>\n",
       "                        <td id=\"T_78aef_row3_col4\" class=\"data row3 col4\" >0.830000</td>\n",
       "                        <td id=\"T_78aef_row3_col5\" class=\"data row3 col5\" >0.829544</td>\n",
       "            </tr>\n",
       "    </tbody></table>"
      ],
      "text/plain": [
       "<pandas.io.formats.style.Styler at 0x7fc0c3016dc0>"
      ]
     },
     "execution_count": 109,
     "metadata": {},
     "output_type": "execute_result"
    }
   ],
   "source": [
    "row = result_tab.shape[0]\n",
    "result_tab.loc[row] = ['Multi-class','DecisionTree',tree_accu,precision_tree,recall_tree,f1_tree]\n",
    "result_tab.sort_values(by = 'Accuracy', ascending=False)\n",
    "result_tab.style.set_caption('Result table for train set')"
   ]
  },
  {
   "cell_type": "code",
   "execution_count": 60,
   "metadata": {},
   "outputs": [
    {
     "data": {
      "text/plain": [
       "RandomForestClassifier(random_state=42)"
      ]
     },
     "execution_count": 60,
     "metadata": {},
     "output_type": "execute_result"
    }
   ],
   "source": [
    "forest_cls=RandomForestClassifier(n_estimators=100, random_state=42)\n",
    "forest_cls.fit(X_train_scale,y_train)"
   ]
  },
  {
   "cell_type": "code",
   "execution_count": 61,
   "metadata": {},
   "outputs": [
    {
     "data": {
      "text/plain": [
       "array([3, 3])"
      ]
     },
     "execution_count": 61,
     "metadata": {},
     "output_type": "execute_result"
    }
   ],
   "source": [
    "forest_cls.predict([X_1,X_2])"
   ]
  },
  {
   "cell_type": "code",
   "execution_count": 62,
   "metadata": {},
   "outputs": [
    {
     "data": {
      "text/plain": [
       "0.8706250000000001"
      ]
     },
     "execution_count": 62,
     "metadata": {},
     "output_type": "execute_result"
    }
   ],
   "source": [
    "forest_score=cross_val_score(forest_cls,X_train_scale,y_train, \n",
    "                             cv=5, scoring='accuracy')\n",
    "forest_accu=forest_score.mean()\n",
    "forest_accu"
   ]
  },
  {
   "cell_type": "code",
   "execution_count": 63,
   "metadata": {},
   "outputs": [
    {
     "data": {
      "text/plain": [
       "(array([[369,  26,   0,   0],\n",
       "        [ 31, 337,  41,   0],\n",
       "        [  0,  49, 331,  28],\n",
       "        [  0,   0,  32, 356]]),\n",
       " array([[358,  37,   0,   0],\n",
       "        [ 37, 324,  46,   2],\n",
       "        [  0,  46, 304,  58],\n",
       "        [  0,   0,  46, 342]]))"
      ]
     },
     "execution_count": 63,
     "metadata": {},
     "output_type": "execute_result"
    }
   ],
   "source": [
    "forest_pred=cross_val_predict(forest_cls,X_train_scale,y_train, cv=5)\n",
    "forest_conf_mx=confusion_matrix(y_train,forest_pred)\n",
    "forest_conf_mx==tree_conf_mx\n",
    "forest_conf_mx, tree_conf_mx"
   ]
  },
  {
   "cell_type": "code",
   "execution_count": 64,
   "metadata": {},
   "outputs": [
    {
     "data": {
      "text/plain": [
       "<matplotlib.image.AxesImage at 0x7fc0c49ae1c0>"
      ]
     },
     "execution_count": 64,
     "metadata": {},
     "output_type": "execute_result"
    },
    {
     "data": {
      "image/png": "[encoded data removed]",
      "text/plain": [
       "<Figure size 432x288 with 1 Axes>"
      ]
     },
     "metadata": {
      "needs_background": "light"
     },
     "output_type": "display_data"
    }
   ],
   "source": [
    "plt.imshow(forest_conf_mx, cmap=plt.cm.gray)"
   ]
  },
  {
   "cell_type": "code",
   "execution_count": 65,
   "metadata": {},
   "outputs": [
    {
     "data": {
      "text/plain": [
       "(0.870625, 0.8705744859756002, 0.8705768260306752)"
      ]
     },
     "execution_count": 65,
     "metadata": {},
     "output_type": "execute_result"
    }
   ],
   "source": [
    "recall_forest=recall_score(y_train,forest_pred,average='weighted')\n",
    "precision_forest=precision_score(y_train,forest_pred,average='weighted')\n",
    "f1_forest=f1_score(y_train,forest_pred,average='weighted')\n",
    "recall_forest, precision_forest, f1_forest"
   ]
  },
  {
   "cell_type": "code",
   "execution_count": 110,
   "metadata": {},
   "outputs": [
    {
     "data": {
      "text/html": [
       "<style  type=\"text/css\" >\n",
       "</style><table id=\"T_1c2f8_\" ><caption>Result table for train set</caption><thead>    <tr>        <th class=\"blank level0\" ></th>        <th class=\"col_heading level0 col0\" >Target</th>        <th class=\"col_heading level0 col1\" >Model</th>        <th class=\"col_heading level0 col2\" >Accuracy</th>        <th class=\"col_heading level0 col3\" >Precision</th>        <th class=\"col_heading level0 col4\" >Recall</th>        <th class=\"col_heading level0 col5\" >F1</th>    </tr></thead><tbody>\n",
       "                <tr>\n",
       "                        <th id=\"T_1c2f8_level0_row0\" class=\"row_heading level0 row0\" >0</th>\n",
       "                        <td id=\"T_1c2f8_row0_col0\" class=\"data row0 col0\" >Binary Class</td>\n",
       "                        <td id=\"T_1c2f8_row0_col1\" class=\"data row0 col1\" >SGDClassifier</td>\n",
       "                        <td id=\"T_1c2f8_row0_col2\" class=\"data row0 col2\" >0.986875</td>\n",
       "                        <td id=\"T_1c2f8_row0_col3\" class=\"data row0 col3\" >0.979112</td>\n",
       "                        <td id=\"T_1c2f8_row0_col4\" class=\"data row0 col4\" >0.966495</td>\n",
       "                        <td id=\"T_1c2f8_row0_col5\" class=\"data row0 col5\" >0.972763</td>\n",
       "            </tr>\n",
       "            <tr>\n",
       "                        <th id=\"T_1c2f8_level0_row1\" class=\"row_heading level0 row1\" >1</th>\n",
       "                        <td id=\"T_1c2f8_row1_col0\" class=\"data row1 col0\" >Binary Class</td>\n",
       "                        <td id=\"T_1c2f8_row1_col1\" class=\"data row1 col1\" >LogesticRegression</td>\n",
       "                        <td id=\"T_1c2f8_row1_col2\" class=\"data row1 col2\" >0.987500</td>\n",
       "                        <td id=\"T_1c2f8_row1_col3\" class=\"data row1 col3\" >0.969388</td>\n",
       "                        <td id=\"T_1c2f8_row1_col4\" class=\"data row1 col4\" >0.979381</td>\n",
       "                        <td id=\"T_1c2f8_row1_col5\" class=\"data row1 col5\" >0.974359</td>\n",
       "            </tr>\n",
       "            <tr>\n",
       "                        <th id=\"T_1c2f8_level0_row2\" class=\"row_heading level0 row2\" >2</th>\n",
       "                        <td id=\"T_1c2f8_row2_col0\" class=\"data row2 col0\" >Multi-class</td>\n",
       "                        <td id=\"T_1c2f8_row2_col1\" class=\"data row2 col1\" >SGDClassifier</td>\n",
       "                        <td id=\"T_1c2f8_row2_col2\" class=\"data row2 col2\" >0.762500</td>\n",
       "                        <td id=\"T_1c2f8_row2_col3\" class=\"data row2 col3\" >0.763021</td>\n",
       "                        <td id=\"T_1c2f8_row2_col4\" class=\"data row2 col4\" >0.762500</td>\n",
       "                        <td id=\"T_1c2f8_row2_col5\" class=\"data row2 col5\" >0.760736</td>\n",
       "            </tr>\n",
       "            <tr>\n",
       "                        <th id=\"T_1c2f8_level0_row3\" class=\"row_heading level0 row3\" >3</th>\n",
       "                        <td id=\"T_1c2f8_row3_col0\" class=\"data row3 col0\" >Multi-class</td>\n",
       "                        <td id=\"T_1c2f8_row3_col1\" class=\"data row3 col1\" >DecisionTree</td>\n",
       "                        <td id=\"T_1c2f8_row3_col2\" class=\"data row3 col2\" >0.830000</td>\n",
       "                        <td id=\"T_1c2f8_row3_col3\" class=\"data row3 col3\" >0.829309</td>\n",
       "                        <td id=\"T_1c2f8_row3_col4\" class=\"data row3 col4\" >0.830000</td>\n",
       "                        <td id=\"T_1c2f8_row3_col5\" class=\"data row3 col5\" >0.829544</td>\n",
       "            </tr>\n",
       "            <tr>\n",
       "                        <th id=\"T_1c2f8_level0_row4\" class=\"row_heading level0 row4\" >4</th>\n",
       "                        <td id=\"T_1c2f8_row4_col0\" class=\"data row4 col0\" >Multi-class</td>\n",
       "                        <td id=\"T_1c2f8_row4_col1\" class=\"data row4 col1\" >RandomForest</td>\n",
       "                        <td id=\"T_1c2f8_row4_col2\" class=\"data row4 col2\" >0.870625</td>\n",
       "                        <td id=\"T_1c2f8_row4_col3\" class=\"data row4 col3\" >0.870574</td>\n",
       "                        <td id=\"T_1c2f8_row4_col4\" class=\"data row4 col4\" >0.870625</td>\n",
       "                        <td id=\"T_1c2f8_row4_col5\" class=\"data row4 col5\" >0.870577</td>\n",
       "            </tr>\n",
       "    </tbody></table>"
      ],
      "text/plain": [
       "<pandas.io.formats.style.Styler at 0x7fc0c2a25d60>"
      ]
     },
     "execution_count": 110,
     "metadata": {},
     "output_type": "execute_result"
    }
   ],
   "source": [
    "row = result_tab.shape[0]\n",
    "result_tab.loc[row] = ['Multi-class','RandomForest',forest_accu,precision_forest,recall_forest,f1_forest]\n",
    "result_tab.sort_values(by = 'Accuracy', ascending=False)\n",
    "result_tab.style.set_caption('Result table for train set')"
   ]
  },
  {
   "cell_type": "code",
   "execution_count": 67,
   "metadata": {},
   "outputs": [
    {
     "data": {
      "text/plain": [
       "OneVsOneClassifier(estimator=SGDClassifier(random_state=42))"
      ]
     },
     "execution_count": 67,
     "metadata": {},
     "output_type": "execute_result"
    }
   ],
   "source": [
    "# It looks very good model, but let us try the last one, OvO\n",
    "ovo_cls=OneVsOneClassifier(SGDClassifier(random_state=42))\n",
    "ovo_cls.fit(X_train_scale,y_train)"
   ]
  },
  {
   "cell_type": "code",
   "execution_count": 68,
   "metadata": {},
   "outputs": [
    {
     "data": {
      "text/plain": [
       "array([3, 3])"
      ]
     },
     "execution_count": 68,
     "metadata": {},
     "output_type": "execute_result"
    }
   ],
   "source": [
    "ovo_cls.predict([X_1,X_2])"
   ]
  },
  {
   "cell_type": "code",
   "execution_count": 69,
   "metadata": {},
   "outputs": [
    {
     "data": {
      "text/plain": [
       "0.9425000000000001"
      ]
     },
     "execution_count": 69,
     "metadata": {},
     "output_type": "execute_result"
    }
   ],
   "source": [
    "ovo_scores=cross_val_score(ovo_cls, X_train_scale,y_train, cv=5, scoring='accuracy')\n",
    "ovo_accu=ovo_scores.mean()\n",
    "ovo_accu"
   ]
  },
  {
   "cell_type": "code",
   "execution_count": 70,
   "metadata": {},
   "outputs": [
    {
     "data": {
      "text/plain": [
       "array([[382,  12,   1,   0],\n",
       "       [ 10, 377,  22,   0],\n",
       "       [  0,  21, 377,  10],\n",
       "       [  0,   0,  20, 368]])"
      ]
     },
     "execution_count": 70,
     "metadata": {},
     "output_type": "execute_result"
    }
   ],
   "source": [
    "ovo_pred=cross_val_predict(ovo_cls,X_train_scale,y_train, cv=10)\n",
    "ovo_conf_mx=confusion_matrix(y_train,ovo_pred)\n",
    "ovo_conf_mx"
   ]
  },
  {
   "cell_type": "code",
   "execution_count": 71,
   "metadata": {},
   "outputs": [
    {
     "data": {
      "text/plain": [
       "<matplotlib.image.AxesImage at 0x7fc0c496b730>"
      ]
     },
     "execution_count": 71,
     "metadata": {},
     "output_type": "execute_result"
    },
    {
     "data": {
      "image/png": "[encoded data removed]",
      "text/plain": [
       "<Figure size 432x288 with 1 Axes>"
      ]
     },
     "metadata": {
      "needs_background": "light"
     },
     "output_type": "display_data"
    }
   ],
   "source": [
    "plt.imshow(ovo_conf_mx, cmap=plt.cm.gray)"
   ]
  },
  {
   "cell_type": "code",
   "execution_count": 72,
   "metadata": {},
   "outputs": [
    {
     "data": {
      "text/plain": [
       "(0.94, 0.940604986472909, 0.9402101591327375)"
      ]
     },
     "execution_count": 72,
     "metadata": {},
     "output_type": "execute_result"
    }
   ],
   "source": [
    "recall_ovo_sgd=recall_score(y_train,ovo_pred,average='weighted')\n",
    "precision_ovo_sgd=precision_score(y_train,ovo_pred,average='weighted')\n",
    "f1_ovo_sgd=f1_score(y_train,ovo_pred,average='weighted')\n",
    "recall_ovo_sgd,precision_ovo_sgd,f1_ovo_sgd"
   ]
  },
  {
   "cell_type": "code",
   "execution_count": 111,
   "metadata": {},
   "outputs": [
    {
     "data": {
      "text/html": [
       "<style  type=\"text/css\" >\n",
       "</style><table id=\"T_e4ab6_\" ><caption>Result table for train set</caption><thead>    <tr>        <th class=\"blank level0\" ></th>        <th class=\"col_heading level0 col0\" >Target</th>        <th class=\"col_heading level0 col1\" >Model</th>        <th class=\"col_heading level0 col2\" >Accuracy</th>        <th class=\"col_heading level0 col3\" >Precision</th>        <th class=\"col_heading level0 col4\" >Recall</th>        <th class=\"col_heading level0 col5\" >F1</th>    </tr></thead><tbody>\n",
       "                <tr>\n",
       "                        <th id=\"T_e4ab6_level0_row0\" class=\"row_heading level0 row0\" >0</th>\n",
       "                        <td id=\"T_e4ab6_row0_col0\" class=\"data row0 col0\" >Binary Class</td>\n",
       "                        <td id=\"T_e4ab6_row0_col1\" class=\"data row0 col1\" >SGDClassifier</td>\n",
       "                        <td id=\"T_e4ab6_row0_col2\" class=\"data row0 col2\" >0.986875</td>\n",
       "                        <td id=\"T_e4ab6_row0_col3\" class=\"data row0 col3\" >0.979112</td>\n",
       "                        <td id=\"T_e4ab6_row0_col4\" class=\"data row0 col4\" >0.966495</td>\n",
       "                        <td id=\"T_e4ab6_row0_col5\" class=\"data row0 col5\" >0.972763</td>\n",
       "            </tr>\n",
       "            <tr>\n",
       "                        <th id=\"T_e4ab6_level0_row1\" class=\"row_heading level0 row1\" >1</th>\n",
       "                        <td id=\"T_e4ab6_row1_col0\" class=\"data row1 col0\" >Binary Class</td>\n",
       "                        <td id=\"T_e4ab6_row1_col1\" class=\"data row1 col1\" >LogesticRegression</td>\n",
       "                        <td id=\"T_e4ab6_row1_col2\" class=\"data row1 col2\" >0.987500</td>\n",
       "                        <td id=\"T_e4ab6_row1_col3\" class=\"data row1 col3\" >0.969388</td>\n",
       "                        <td id=\"T_e4ab6_row1_col4\" class=\"data row1 col4\" >0.979381</td>\n",
       "                        <td id=\"T_e4ab6_row1_col5\" class=\"data row1 col5\" >0.974359</td>\n",
       "            </tr>\n",
       "            <tr>\n",
       "                        <th id=\"T_e4ab6_level0_row2\" class=\"row_heading level0 row2\" >2</th>\n",
       "                        <td id=\"T_e4ab6_row2_col0\" class=\"data row2 col0\" >Multi-class</td>\n",
       "                        <td id=\"T_e4ab6_row2_col1\" class=\"data row2 col1\" >SGDClassifier</td>\n",
       "                        <td id=\"T_e4ab6_row2_col2\" class=\"data row2 col2\" >0.762500</td>\n",
       "                        <td id=\"T_e4ab6_row2_col3\" class=\"data row2 col3\" >0.763021</td>\n",
       "                        <td id=\"T_e4ab6_row2_col4\" class=\"data row2 col4\" >0.762500</td>\n",
       "                        <td id=\"T_e4ab6_row2_col5\" class=\"data row2 col5\" >0.760736</td>\n",
       "            </tr>\n",
       "            <tr>\n",
       "                        <th id=\"T_e4ab6_level0_row3\" class=\"row_heading level0 row3\" >3</th>\n",
       "                        <td id=\"T_e4ab6_row3_col0\" class=\"data row3 col0\" >Multi-class</td>\n",
       "                        <td id=\"T_e4ab6_row3_col1\" class=\"data row3 col1\" >DecisionTree</td>\n",
       "                        <td id=\"T_e4ab6_row3_col2\" class=\"data row3 col2\" >0.830000</td>\n",
       "                        <td id=\"T_e4ab6_row3_col3\" class=\"data row3 col3\" >0.829309</td>\n",
       "                        <td id=\"T_e4ab6_row3_col4\" class=\"data row3 col4\" >0.830000</td>\n",
       "                        <td id=\"T_e4ab6_row3_col5\" class=\"data row3 col5\" >0.829544</td>\n",
       "            </tr>\n",
       "            <tr>\n",
       "                        <th id=\"T_e4ab6_level0_row4\" class=\"row_heading level0 row4\" >4</th>\n",
       "                        <td id=\"T_e4ab6_row4_col0\" class=\"data row4 col0\" >Multi-class</td>\n",
       "                        <td id=\"T_e4ab6_row4_col1\" class=\"data row4 col1\" >RandomForest</td>\n",
       "                        <td id=\"T_e4ab6_row4_col2\" class=\"data row4 col2\" >0.870625</td>\n",
       "                        <td id=\"T_e4ab6_row4_col3\" class=\"data row4 col3\" >0.870574</td>\n",
       "                        <td id=\"T_e4ab6_row4_col4\" class=\"data row4 col4\" >0.870625</td>\n",
       "                        <td id=\"T_e4ab6_row4_col5\" class=\"data row4 col5\" >0.870577</td>\n",
       "            </tr>\n",
       "            <tr>\n",
       "                        <th id=\"T_e4ab6_level0_row5\" class=\"row_heading level0 row5\" >5</th>\n",
       "                        <td id=\"T_e4ab6_row5_col0\" class=\"data row5 col0\" >Multi-class</td>\n",
       "                        <td id=\"T_e4ab6_row5_col1\" class=\"data row5 col1\" >SGD_OneVsOne</td>\n",
       "                        <td id=\"T_e4ab6_row5_col2\" class=\"data row5 col2\" >0.942500</td>\n",
       "                        <td id=\"T_e4ab6_row5_col3\" class=\"data row5 col3\" >0.940605</td>\n",
       "                        <td id=\"T_e4ab6_row5_col4\" class=\"data row5 col4\" >0.940000</td>\n",
       "                        <td id=\"T_e4ab6_row5_col5\" class=\"data row5 col5\" >0.940210</td>\n",
       "            </tr>\n",
       "    </tbody></table>"
      ],
      "text/plain": [
       "<pandas.io.formats.style.Styler at 0x7fc0c3016310>"
      ]
     },
     "execution_count": 111,
     "metadata": {},
     "output_type": "execute_result"
    }
   ],
   "source": [
    "row = result_tab.shape[0]\n",
    "result_tab.loc[row] = ['Multi-class','SGD_OneVsOne',ovo_accu,precision_ovo_sgd,recall_ovo_sgd,f1_ovo_sgd]\n",
    "result_tab.sort_values(by = 'Accuracy', ascending=False)\n",
    "result_tab.style.set_caption('Result table for train set')"
   ]
  },
  {
   "cell_type": "code",
   "execution_count": 74,
   "metadata": {},
   "outputs": [
    {
     "data": {
      "text/plain": [
       "OneVsOneClassifier(estimator=DecisionTreeClassifier(random_state=42))"
      ]
     },
     "execution_count": 74,
     "metadata": {},
     "output_type": "execute_result"
    }
   ],
   "source": [
    "ovo_cls_tree=OneVsOneClassifier(DecisionTreeClassifier(random_state=42))\n",
    "ovo_cls_tree.fit(X_train_scale,y_train)"
   ]
  },
  {
   "cell_type": "code",
   "execution_count": 75,
   "metadata": {},
   "outputs": [
    {
     "data": {
      "text/plain": [
       "0.8324999999999999"
      ]
     },
     "execution_count": 75,
     "metadata": {},
     "output_type": "execute_result"
    }
   ],
   "source": [
    "ovo_tree_scores=cross_val_score(ovo_cls_tree,X_train_scale,y_train,cv=10, scoring='accuracy')\n",
    "ovo_tree_accu=ovo_tree_scores.mean()\n",
    "ovo_tree_accu"
   ]
  },
  {
   "cell_type": "code",
   "execution_count": 76,
   "metadata": {},
   "outputs": [
    {
     "data": {
      "text/plain": [
       "array([[351,  40,   4,   0],\n",
       "       [ 31, 326,  49,   3],\n",
       "       [  0,  45, 311,  52],\n",
       "       [  0,   1,  43, 344]])"
      ]
     },
     "execution_count": 76,
     "metadata": {},
     "output_type": "execute_result"
    }
   ],
   "source": [
    "ovo_tree_pred=cross_val_predict(ovo_cls_tree,X_train_scale,y_train, cv=10)\n",
    "ovo_conf_mx=confusion_matrix(y_train,ovo_tree_pred)\n",
    "ovo_conf_mx"
   ]
  },
  {
   "cell_type": "code",
   "execution_count": 112,
   "metadata": {},
   "outputs": [
    {
     "data": {
      "text/html": [
       "<style  type=\"text/css\" >\n",
       "</style><table id=\"T_1924d_\" ><caption>Result table for train set</caption><thead>    <tr>        <th class=\"blank level0\" ></th>        <th class=\"col_heading level0 col0\" >Target</th>        <th class=\"col_heading level0 col1\" >Model</th>        <th class=\"col_heading level0 col2\" >Accuracy</th>        <th class=\"col_heading level0 col3\" >Precision</th>        <th class=\"col_heading level0 col4\" >Recall</th>        <th class=\"col_heading level0 col5\" >F1</th>    </tr></thead><tbody>\n",
       "                <tr>\n",
       "                        <th id=\"T_1924d_level0_row0\" class=\"row_heading level0 row0\" >0</th>\n",
       "                        <td id=\"T_1924d_row0_col0\" class=\"data row0 col0\" >Binary Class</td>\n",
       "                        <td id=\"T_1924d_row0_col1\" class=\"data row0 col1\" >SGDClassifier</td>\n",
       "                        <td id=\"T_1924d_row0_col2\" class=\"data row0 col2\" >0.986875</td>\n",
       "                        <td id=\"T_1924d_row0_col3\" class=\"data row0 col3\" >0.979112</td>\n",
       "                        <td id=\"T_1924d_row0_col4\" class=\"data row0 col4\" >0.966495</td>\n",
       "                        <td id=\"T_1924d_row0_col5\" class=\"data row0 col5\" >0.972763</td>\n",
       "            </tr>\n",
       "            <tr>\n",
       "                        <th id=\"T_1924d_level0_row1\" class=\"row_heading level0 row1\" >1</th>\n",
       "                        <td id=\"T_1924d_row1_col0\" class=\"data row1 col0\" >Binary Class</td>\n",
       "                        <td id=\"T_1924d_row1_col1\" class=\"data row1 col1\" >LogesticRegression</td>\n",
       "                        <td id=\"T_1924d_row1_col2\" class=\"data row1 col2\" >0.987500</td>\n",
       "                        <td id=\"T_1924d_row1_col3\" class=\"data row1 col3\" >0.969388</td>\n",
       "                        <td id=\"T_1924d_row1_col4\" class=\"data row1 col4\" >0.979381</td>\n",
       "                        <td id=\"T_1924d_row1_col5\" class=\"data row1 col5\" >0.974359</td>\n",
       "            </tr>\n",
       "            <tr>\n",
       "                        <th id=\"T_1924d_level0_row2\" class=\"row_heading level0 row2\" >2</th>\n",
       "                        <td id=\"T_1924d_row2_col0\" class=\"data row2 col0\" >Multi-class</td>\n",
       "                        <td id=\"T_1924d_row2_col1\" class=\"data row2 col1\" >SGDClassifier</td>\n",
       "                        <td id=\"T_1924d_row2_col2\" class=\"data row2 col2\" >0.762500</td>\n",
       "                        <td id=\"T_1924d_row2_col3\" class=\"data row2 col3\" >0.763021</td>\n",
       "                        <td id=\"T_1924d_row2_col4\" class=\"data row2 col4\" >0.762500</td>\n",
       "                        <td id=\"T_1924d_row2_col5\" class=\"data row2 col5\" >0.760736</td>\n",
       "            </tr>\n",
       "            <tr>\n",
       "                        <th id=\"T_1924d_level0_row3\" class=\"row_heading level0 row3\" >3</th>\n",
       "                        <td id=\"T_1924d_row3_col0\" class=\"data row3 col0\" >Multi-class</td>\n",
       "                        <td id=\"T_1924d_row3_col1\" class=\"data row3 col1\" >DecisionTree</td>\n",
       "                        <td id=\"T_1924d_row3_col2\" class=\"data row3 col2\" >0.830000</td>\n",
       "                        <td id=\"T_1924d_row3_col3\" class=\"data row3 col3\" >0.829309</td>\n",
       "                        <td id=\"T_1924d_row3_col4\" class=\"data row3 col4\" >0.830000</td>\n",
       "                        <td id=\"T_1924d_row3_col5\" class=\"data row3 col5\" >0.829544</td>\n",
       "            </tr>\n",
       "            <tr>\n",
       "                        <th id=\"T_1924d_level0_row4\" class=\"row_heading level0 row4\" >4</th>\n",
       "                        <td id=\"T_1924d_row4_col0\" class=\"data row4 col0\" >Multi-class</td>\n",
       "                        <td id=\"T_1924d_row4_col1\" class=\"data row4 col1\" >RandomForest</td>\n",
       "                        <td id=\"T_1924d_row4_col2\" class=\"data row4 col2\" >0.870625</td>\n",
       "                        <td id=\"T_1924d_row4_col3\" class=\"data row4 col3\" >0.870574</td>\n",
       "                        <td id=\"T_1924d_row4_col4\" class=\"data row4 col4\" >0.870625</td>\n",
       "                        <td id=\"T_1924d_row4_col5\" class=\"data row4 col5\" >0.870577</td>\n",
       "            </tr>\n",
       "            <tr>\n",
       "                        <th id=\"T_1924d_level0_row5\" class=\"row_heading level0 row5\" >5</th>\n",
       "                        <td id=\"T_1924d_row5_col0\" class=\"data row5 col0\" >Multi-class</td>\n",
       "                        <td id=\"T_1924d_row5_col1\" class=\"data row5 col1\" >SGD_OneVsOne</td>\n",
       "                        <td id=\"T_1924d_row5_col2\" class=\"data row5 col2\" >0.942500</td>\n",
       "                        <td id=\"T_1924d_row5_col3\" class=\"data row5 col3\" >0.940605</td>\n",
       "                        <td id=\"T_1924d_row5_col4\" class=\"data row5 col4\" >0.940000</td>\n",
       "                        <td id=\"T_1924d_row5_col5\" class=\"data row5 col5\" >0.940210</td>\n",
       "            </tr>\n",
       "            <tr>\n",
       "                        <th id=\"T_1924d_level0_row6\" class=\"row_heading level0 row6\" >6</th>\n",
       "                        <td id=\"T_1924d_row6_col0\" class=\"data row6 col0\" >Multi-class</td>\n",
       "                        <td id=\"T_1924d_row6_col1\" class=\"data row6 col1\" >DecisionTree_OneVsOne</td>\n",
       "                        <td id=\"T_1924d_row6_col2\" class=\"data row6 col2\" >0.832500</td>\n",
       "                        <td id=\"T_1924d_row6_col3\" class=\"data row6 col3\" >0.833032</td>\n",
       "                        <td id=\"T_1924d_row6_col4\" class=\"data row6 col4\" >0.832500</td>\n",
       "                        <td id=\"T_1924d_row6_col5\" class=\"data row6 col5\" >0.832659</td>\n",
       "            </tr>\n",
       "    </tbody></table>"
      ],
      "text/plain": [
       "<pandas.io.formats.style.Styler at 0x7fc0c2e6e880>"
      ]
     },
     "execution_count": 112,
     "metadata": {},
     "output_type": "execute_result"
    }
   ],
   "source": [
    "recall_ovo_tree=recall_score(y_train,ovo_tree_pred,average='weighted')\n",
    "precision_ovo_tree=precision_score(y_train,ovo_tree_pred,average='weighted')\n",
    "f1_ovo_tree=f1_score(y_train,ovo_tree_pred,average='weighted')\n",
    "row = result_tab.shape[0]\n",
    "result_tab.loc[row] = ['Multi-class','DecisionTree_OneVsOne',ovo_tree_accu,precision_ovo_tree,recall_ovo_tree,f1_ovo_tree]\n",
    "result_tab.sort_values(by = 'Accuracy', ascending=False)\n",
    "result_tab.style.set_caption('Result table for train set')"
   ]
  },
  {
   "cell_type": "code",
   "execution_count": 78,
   "metadata": {},
   "outputs": [
    {
     "data": {
      "text/plain": [
       "OneVsOneClassifier(estimator=RandomForestClassifier(random_state=42))"
      ]
     },
     "execution_count": 78,
     "metadata": {},
     "output_type": "execute_result"
    }
   ],
   "source": [
    "ovo_cls_forest=OneVsOneClassifier(RandomForestClassifier(random_state=42))\n",
    "ovo_cls_forest.fit(X_train_scale,y_train)"
   ]
  },
  {
   "cell_type": "code",
   "execution_count": 79,
   "metadata": {},
   "outputs": [
    {
     "data": {
      "text/plain": [
       "0.8543749999999999"
      ]
     },
     "execution_count": 79,
     "metadata": {},
     "output_type": "execute_result"
    }
   ],
   "source": [
    "ovo_forest_scores=cross_val_score(ovo_cls_forest,X_train_scale,y_train,cv=10,scoring='accuracy')\n",
    "ovo_forest_accu=ovo_forest_scores.mean()\n",
    "ovo_forest_accu"
   ]
  },
  {
   "cell_type": "code",
   "execution_count": 80,
   "metadata": {},
   "outputs": [
    {
     "data": {
      "text/plain": [
       "array([[362,  33,   0,   0],\n",
       "       [ 26, 343,  40,   0],\n",
       "       [  0,  68, 305,  35],\n",
       "       [  0,   0,  45, 343]])"
      ]
     },
     "execution_count": 80,
     "metadata": {},
     "output_type": "execute_result"
    }
   ],
   "source": [
    "ovo_forest_pred=cross_val_predict(ovo_cls_forest,X_train_scale,y_train,cv=5)\n",
    "ovo_conf_mx=confusion_matrix(y_train,ovo_forest_pred)\n",
    "ovo_conf_mx"
   ]
  },
  {
   "cell_type": "code",
   "execution_count": 113,
   "metadata": {
    "scrolled": true
   },
   "outputs": [
    {
     "data": {
      "text/html": [
       "<style  type=\"text/css\" >\n",
       "</style><table id=\"T_ebdab_\" ><caption>Result table for train set</caption><thead>    <tr>        <th class=\"blank level0\" ></th>        <th class=\"col_heading level0 col0\" >Target</th>        <th class=\"col_heading level0 col1\" >Model</th>        <th class=\"col_heading level0 col2\" >Accuracy</th>        <th class=\"col_heading level0 col3\" >Precision</th>        <th class=\"col_heading level0 col4\" >Recall</th>        <th class=\"col_heading level0 col5\" >F1</th>    </tr></thead><tbody>\n",
       "                <tr>\n",
       "                        <th id=\"T_ebdab_level0_row0\" class=\"row_heading level0 row0\" >0</th>\n",
       "                        <td id=\"T_ebdab_row0_col0\" class=\"data row0 col0\" >Binary Class</td>\n",
       "                        <td id=\"T_ebdab_row0_col1\" class=\"data row0 col1\" >SGDClassifier</td>\n",
       "                        <td id=\"T_ebdab_row0_col2\" class=\"data row0 col2\" >0.986875</td>\n",
       "                        <td id=\"T_ebdab_row0_col3\" class=\"data row0 col3\" >0.979112</td>\n",
       "                        <td id=\"T_ebdab_row0_col4\" class=\"data row0 col4\" >0.966495</td>\n",
       "                        <td id=\"T_ebdab_row0_col5\" class=\"data row0 col5\" >0.972763</td>\n",
       "            </tr>\n",
       "            <tr>\n",
       "                        <th id=\"T_ebdab_level0_row1\" class=\"row_heading level0 row1\" >1</th>\n",
       "                        <td id=\"T_ebdab_row1_col0\" class=\"data row1 col0\" >Binary Class</td>\n",
       "                        <td id=\"T_ebdab_row1_col1\" class=\"data row1 col1\" >LogesticRegression</td>\n",
       "                        <td id=\"T_ebdab_row1_col2\" class=\"data row1 col2\" >0.987500</td>\n",
       "                        <td id=\"T_ebdab_row1_col3\" class=\"data row1 col3\" >0.969388</td>\n",
       "                        <td id=\"T_ebdab_row1_col4\" class=\"data row1 col4\" >0.979381</td>\n",
       "                        <td id=\"T_ebdab_row1_col5\" class=\"data row1 col5\" >0.974359</td>\n",
       "            </tr>\n",
       "            <tr>\n",
       "                        <th id=\"T_ebdab_level0_row2\" class=\"row_heading level0 row2\" >2</th>\n",
       "                        <td id=\"T_ebdab_row2_col0\" class=\"data row2 col0\" >Multi-class</td>\n",
       "                        <td id=\"T_ebdab_row2_col1\" class=\"data row2 col1\" >SGDClassifier</td>\n",
       "                        <td id=\"T_ebdab_row2_col2\" class=\"data row2 col2\" >0.762500</td>\n",
       "                        <td id=\"T_ebdab_row2_col3\" class=\"data row2 col3\" >0.763021</td>\n",
       "                        <td id=\"T_ebdab_row2_col4\" class=\"data row2 col4\" >0.762500</td>\n",
       "                        <td id=\"T_ebdab_row2_col5\" class=\"data row2 col5\" >0.760736</td>\n",
       "            </tr>\n",
       "            <tr>\n",
       "                        <th id=\"T_ebdab_level0_row3\" class=\"row_heading level0 row3\" >3</th>\n",
       "                        <td id=\"T_ebdab_row3_col0\" class=\"data row3 col0\" >Multi-class</td>\n",
       "                        <td id=\"T_ebdab_row3_col1\" class=\"data row3 col1\" >DecisionTree</td>\n",
       "                        <td id=\"T_ebdab_row3_col2\" class=\"data row3 col2\" >0.830000</td>\n",
       "                        <td id=\"T_ebdab_row3_col3\" class=\"data row3 col3\" >0.829309</td>\n",
       "                        <td id=\"T_ebdab_row3_col4\" class=\"data row3 col4\" >0.830000</td>\n",
       "                        <td id=\"T_ebdab_row3_col5\" class=\"data row3 col5\" >0.829544</td>\n",
       "            </tr>\n",
       "            <tr>\n",
       "                        <th id=\"T_ebdab_level0_row4\" class=\"row_heading level0 row4\" >4</th>\n",
       "                        <td id=\"T_ebdab_row4_col0\" class=\"data row4 col0\" >Multi-class</td>\n",
       "                        <td id=\"T_ebdab_row4_col1\" class=\"data row4 col1\" >RandomForest</td>\n",
       "                        <td id=\"T_ebdab_row4_col2\" class=\"data row4 col2\" >0.870625</td>\n",
       "                        <td id=\"T_ebdab_row4_col3\" class=\"data row4 col3\" >0.870574</td>\n",
       "                        <td id=\"T_ebdab_row4_col4\" class=\"data row4 col4\" >0.870625</td>\n",
       "                        <td id=\"T_ebdab_row4_col5\" class=\"data row4 col5\" >0.870577</td>\n",
       "            </tr>\n",
       "            <tr>\n",
       "                        <th id=\"T_ebdab_level0_row5\" class=\"row_heading level0 row5\" >5</th>\n",
       "                        <td id=\"T_ebdab_row5_col0\" class=\"data row5 col0\" >Multi-class</td>\n",
       "                        <td id=\"T_ebdab_row5_col1\" class=\"data row5 col1\" >SGD_OneVsOne</td>\n",
       "                        <td id=\"T_ebdab_row5_col2\" class=\"data row5 col2\" >0.942500</td>\n",
       "                        <td id=\"T_ebdab_row5_col3\" class=\"data row5 col3\" >0.940605</td>\n",
       "                        <td id=\"T_ebdab_row5_col4\" class=\"data row5 col4\" >0.940000</td>\n",
       "                        <td id=\"T_ebdab_row5_col5\" class=\"data row5 col5\" >0.940210</td>\n",
       "            </tr>\n",
       "            <tr>\n",
       "                        <th id=\"T_ebdab_level0_row6\" class=\"row_heading level0 row6\" >6</th>\n",
       "                        <td id=\"T_ebdab_row6_col0\" class=\"data row6 col0\" >Multi-class</td>\n",
       "                        <td id=\"T_ebdab_row6_col1\" class=\"data row6 col1\" >DecisionTree_OneVsOne</td>\n",
       "                        <td id=\"T_ebdab_row6_col2\" class=\"data row6 col2\" >0.832500</td>\n",
       "                        <td id=\"T_ebdab_row6_col3\" class=\"data row6 col3\" >0.833032</td>\n",
       "                        <td id=\"T_ebdab_row6_col4\" class=\"data row6 col4\" >0.832500</td>\n",
       "                        <td id=\"T_ebdab_row6_col5\" class=\"data row6 col5\" >0.832659</td>\n",
       "            </tr>\n",
       "            <tr>\n",
       "                        <th id=\"T_ebdab_level0_row7\" class=\"row_heading level0 row7\" >7</th>\n",
       "                        <td id=\"T_ebdab_row7_col0\" class=\"data row7 col0\" >Multi-class</td>\n",
       "                        <td id=\"T_ebdab_row7_col1\" class=\"data row7 col1\" >RandomForest_OneVsOne</td>\n",
       "                        <td id=\"T_ebdab_row7_col2\" class=\"data row7 col2\" >0.854375</td>\n",
       "                        <td id=\"T_ebdab_row7_col3\" class=\"data row7 col3\" >0.847277</td>\n",
       "                        <td id=\"T_ebdab_row7_col4\" class=\"data row7 col4\" >0.845625</td>\n",
       "                        <td id=\"T_ebdab_row7_col5\" class=\"data row7 col5\" >0.845950</td>\n",
       "            </tr>\n",
       "    </tbody></table>"
      ],
      "text/plain": [
       "<pandas.io.formats.style.Styler at 0x7fc0c2f3f820>"
      ]
     },
     "execution_count": 113,
     "metadata": {},
     "output_type": "execute_result"
    }
   ],
   "source": [
    "recall_ovo_forest=recall_score(y_train,ovo_forest_pred,average='weighted')\n",
    "precision_ovo_forest=precision_score(y_train,ovo_forest_pred,average='weighted')\n",
    "f1_ovo_forest=f1_score(y_train,ovo_forest_pred,average='weighted')\n",
    "row = result_tab.shape[0]\n",
    "result_tab.loc[row] = ['Multi-class','RandomForest_OneVsOne',ovo_forest_accu,precision_ovo_forest,recall_ovo_forest,f1_ovo_forest]\n",
    "result_tab.sort_values(by = 'Accuracy', ascending=False)\n",
    "result_tab.style.set_caption('Result table for train set')"
   ]
  },
  {
   "cell_type": "code",
   "execution_count": 82,
   "metadata": {},
   "outputs": [
    {
     "data": {
      "text/plain": [
       "LogisticRegression(C=10, multi_class='multinomial')"
      ]
     },
     "execution_count": 82,
     "metadata": {},
     "output_type": "execute_result"
    }
   ],
   "source": [
    "# Softmax Regression\n",
    "softmax_reg=LogisticRegression(multi_class='multinomial', solver='lbfgs', C=10)\n",
    "softmax_reg.fit(X_train_scale, y_train)"
   ]
  },
  {
   "cell_type": "code",
   "execution_count": 83,
   "metadata": {},
   "outputs": [
    {
     "data": {
      "text/plain": [
       "0.9637499999999999"
      ]
     },
     "execution_count": 83,
     "metadata": {},
     "output_type": "execute_result"
    }
   ],
   "source": [
    "softmax_scores=cross_val_score(softmax_reg, X_train_scale, y_train, \n",
    "                              cv=10, scoring='accuracy')\n",
    "softmax_accu=softmax_scores.mean()\n",
    "softmax_accu"
   ]
  },
  {
   "cell_type": "code",
   "execution_count": 114,
   "metadata": {},
   "outputs": [
    {
     "data": {
      "text/html": [
       "<style  type=\"text/css\" >\n",
       "</style><table id=\"T_19957_\" ><caption>Result table for train set</caption><thead>    <tr>        <th class=\"blank level0\" ></th>        <th class=\"col_heading level0 col0\" >Target</th>        <th class=\"col_heading level0 col1\" >Model</th>        <th class=\"col_heading level0 col2\" >Accuracy</th>        <th class=\"col_heading level0 col3\" >Precision</th>        <th class=\"col_heading level0 col4\" >Recall</th>        <th class=\"col_heading level0 col5\" >F1</th>    </tr></thead><tbody>\n",
       "                <tr>\n",
       "                        <th id=\"T_19957_level0_row0\" class=\"row_heading level0 row0\" >0</th>\n",
       "                        <td id=\"T_19957_row0_col0\" class=\"data row0 col0\" >Binary Class</td>\n",
       "                        <td id=\"T_19957_row0_col1\" class=\"data row0 col1\" >SGDClassifier</td>\n",
       "                        <td id=\"T_19957_row0_col2\" class=\"data row0 col2\" >0.986875</td>\n",
       "                        <td id=\"T_19957_row0_col3\" class=\"data row0 col3\" >0.979112</td>\n",
       "                        <td id=\"T_19957_row0_col4\" class=\"data row0 col4\" >0.966495</td>\n",
       "                        <td id=\"T_19957_row0_col5\" class=\"data row0 col5\" >0.972763</td>\n",
       "            </tr>\n",
       "            <tr>\n",
       "                        <th id=\"T_19957_level0_row1\" class=\"row_heading level0 row1\" >1</th>\n",
       "                        <td id=\"T_19957_row1_col0\" class=\"data row1 col0\" >Binary Class</td>\n",
       "                        <td id=\"T_19957_row1_col1\" class=\"data row1 col1\" >LogesticRegression</td>\n",
       "                        <td id=\"T_19957_row1_col2\" class=\"data row1 col2\" >0.987500</td>\n",
       "                        <td id=\"T_19957_row1_col3\" class=\"data row1 col3\" >0.969388</td>\n",
       "                        <td id=\"T_19957_row1_col4\" class=\"data row1 col4\" >0.979381</td>\n",
       "                        <td id=\"T_19957_row1_col5\" class=\"data row1 col5\" >0.974359</td>\n",
       "            </tr>\n",
       "            <tr>\n",
       "                        <th id=\"T_19957_level0_row2\" class=\"row_heading level0 row2\" >2</th>\n",
       "                        <td id=\"T_19957_row2_col0\" class=\"data row2 col0\" >Multi-class</td>\n",
       "                        <td id=\"T_19957_row2_col1\" class=\"data row2 col1\" >SGDClassifier</td>\n",
       "                        <td id=\"T_19957_row2_col2\" class=\"data row2 col2\" >0.762500</td>\n",
       "                        <td id=\"T_19957_row2_col3\" class=\"data row2 col3\" >0.763021</td>\n",
       "                        <td id=\"T_19957_row2_col4\" class=\"data row2 col4\" >0.762500</td>\n",
       "                        <td id=\"T_19957_row2_col5\" class=\"data row2 col5\" >0.760736</td>\n",
       "            </tr>\n",
       "            <tr>\n",
       "                        <th id=\"T_19957_level0_row3\" class=\"row_heading level0 row3\" >3</th>\n",
       "                        <td id=\"T_19957_row3_col0\" class=\"data row3 col0\" >Multi-class</td>\n",
       "                        <td id=\"T_19957_row3_col1\" class=\"data row3 col1\" >DecisionTree</td>\n",
       "                        <td id=\"T_19957_row3_col2\" class=\"data row3 col2\" >0.830000</td>\n",
       "                        <td id=\"T_19957_row3_col3\" class=\"data row3 col3\" >0.829309</td>\n",
       "                        <td id=\"T_19957_row3_col4\" class=\"data row3 col4\" >0.830000</td>\n",
       "                        <td id=\"T_19957_row3_col5\" class=\"data row3 col5\" >0.829544</td>\n",
       "            </tr>\n",
       "            <tr>\n",
       "                        <th id=\"T_19957_level0_row4\" class=\"row_heading level0 row4\" >4</th>\n",
       "                        <td id=\"T_19957_row4_col0\" class=\"data row4 col0\" >Multi-class</td>\n",
       "                        <td id=\"T_19957_row4_col1\" class=\"data row4 col1\" >RandomForest</td>\n",
       "                        <td id=\"T_19957_row4_col2\" class=\"data row4 col2\" >0.870625</td>\n",
       "                        <td id=\"T_19957_row4_col3\" class=\"data row4 col3\" >0.870574</td>\n",
       "                        <td id=\"T_19957_row4_col4\" class=\"data row4 col4\" >0.870625</td>\n",
       "                        <td id=\"T_19957_row4_col5\" class=\"data row4 col5\" >0.870577</td>\n",
       "            </tr>\n",
       "            <tr>\n",
       "                        <th id=\"T_19957_level0_row5\" class=\"row_heading level0 row5\" >5</th>\n",
       "                        <td id=\"T_19957_row5_col0\" class=\"data row5 col0\" >Multi-class</td>\n",
       "                        <td id=\"T_19957_row5_col1\" class=\"data row5 col1\" >SGD_OneVsOne</td>\n",
       "                        <td id=\"T_19957_row5_col2\" class=\"data row5 col2\" >0.942500</td>\n",
       "                        <td id=\"T_19957_row5_col3\" class=\"data row5 col3\" >0.940605</td>\n",
       "                        <td id=\"T_19957_row5_col4\" class=\"data row5 col4\" >0.940000</td>\n",
       "                        <td id=\"T_19957_row5_col5\" class=\"data row5 col5\" >0.940210</td>\n",
       "            </tr>\n",
       "            <tr>\n",
       "                        <th id=\"T_19957_level0_row6\" class=\"row_heading level0 row6\" >6</th>\n",
       "                        <td id=\"T_19957_row6_col0\" class=\"data row6 col0\" >Multi-class</td>\n",
       "                        <td id=\"T_19957_row6_col1\" class=\"data row6 col1\" >DecisionTree_OneVsOne</td>\n",
       "                        <td id=\"T_19957_row6_col2\" class=\"data row6 col2\" >0.832500</td>\n",
       "                        <td id=\"T_19957_row6_col3\" class=\"data row6 col3\" >0.833032</td>\n",
       "                        <td id=\"T_19957_row6_col4\" class=\"data row6 col4\" >0.832500</td>\n",
       "                        <td id=\"T_19957_row6_col5\" class=\"data row6 col5\" >0.832659</td>\n",
       "            </tr>\n",
       "            <tr>\n",
       "                        <th id=\"T_19957_level0_row7\" class=\"row_heading level0 row7\" >7</th>\n",
       "                        <td id=\"T_19957_row7_col0\" class=\"data row7 col0\" >Multi-class</td>\n",
       "                        <td id=\"T_19957_row7_col1\" class=\"data row7 col1\" >RandomForest_OneVsOne</td>\n",
       "                        <td id=\"T_19957_row7_col2\" class=\"data row7 col2\" >0.854375</td>\n",
       "                        <td id=\"T_19957_row7_col3\" class=\"data row7 col3\" >0.847277</td>\n",
       "                        <td id=\"T_19957_row7_col4\" class=\"data row7 col4\" >0.845625</td>\n",
       "                        <td id=\"T_19957_row7_col5\" class=\"data row7 col5\" >0.845950</td>\n",
       "            </tr>\n",
       "            <tr>\n",
       "                        <th id=\"T_19957_level0_row8\" class=\"row_heading level0 row8\" >8</th>\n",
       "                        <td id=\"T_19957_row8_col0\" class=\"data row8 col0\" >Multi-class</td>\n",
       "                        <td id=\"T_19957_row8_col1\" class=\"data row8 col1\" >SoftmaxRegression</td>\n",
       "                        <td id=\"T_19957_row8_col2\" class=\"data row8 col2\" >0.963750</td>\n",
       "                        <td id=\"T_19957_row8_col3\" class=\"data row8 col3\" >0.963657</td>\n",
       "                        <td id=\"T_19957_row8_col4\" class=\"data row8 col4\" >0.963750</td>\n",
       "                        <td id=\"T_19957_row8_col5\" class=\"data row8 col5\" >0.963679</td>\n",
       "            </tr>\n",
       "    </tbody></table>"
      ],
      "text/plain": [
       "<pandas.io.formats.style.Styler at 0x7fc0c2a25a00>"
      ]
     },
     "execution_count": 114,
     "metadata": {},
     "output_type": "execute_result"
    }
   ],
   "source": [
    "softmax_pred=cross_val_predict(softmax_reg,X_train_scale,y_train,cv=10)\n",
    "recall_softmax=recall_score(y_train, softmax_pred, average='weighted')\n",
    "precision_softmax=precision_score(y_train, softmax_pred, average='weighted')\n",
    "f1_softmax=f1_score(y_train, softmax_pred, average='weighted')\n",
    "row = result_tab.shape[0]\n",
    "result_tab.loc[row] = ['Multi-class','SoftmaxRegression',softmax_accu,precision_softmax,recall_softmax,f1_softmax]\n",
    "result_tab.sort_values(by = 'Accuracy', ascending=False)\n",
    "result_tab.style.set_caption('Result table for train set')"
   ]
  },
  {
   "cell_type": "code",
   "execution_count": null,
   "metadata": {},
   "outputs": [],
   "source": [
    "# So the best models are SoftmaxRegression, ReandomForestClassifier, DecisionTreeCleassifier wirh OvA method and also SGDClassifier with OvO method."
   ]
  },
  {
   "cell_type": "code",
   "execution_count": 87,
   "metadata": {},
   "outputs": [
    {
     "data": {
      "text/plain": [
       "(400, 21)"
      ]
     },
     "execution_count": 87,
     "metadata": {},
     "output_type": "execute_result"
    }
   ],
   "source": [
    "test_set.shape"
   ]
  },
  {
   "cell_type": "code",
   "execution_count": 88,
   "metadata": {},
   "outputs": [],
   "source": [
    "X_test=test_set.drop(['price_range'],axis=1,inplace=False)\n",
    "y_test=test_set['price_range'].copy()"
   ]
  },
  {
   "cell_type": "code",
   "execution_count": 89,
   "metadata": {},
   "outputs": [],
   "source": [
    "X_test_scale=scale.transform(X_test)"
   ]
  },
  {
   "cell_type": "code",
   "execution_count": 90,
   "metadata": {},
   "outputs": [],
   "source": [
    "test_prediction=ovo_cls.predict(X_test_scale)"
   ]
  },
  {
   "cell_type": "code",
   "execution_count": 91,
   "metadata": {},
   "outputs": [
    {
     "data": {
      "text/plain": [
       "0.9575"
      ]
     },
     "execution_count": 91,
     "metadata": {},
     "output_type": "execute_result"
    }
   ],
   "source": [
    "from sklearn.metrics import accuracy_score\n",
    "test_accu=accuracy_score(y_test, test_prediction)\n",
    "test_accu"
   ]
  },
  {
   "cell_type": "code",
   "execution_count": 121,
   "metadata": {},
   "outputs": [
    {
     "data": {
      "text/html": [
       "<style  type=\"text/css\" >\n",
       "</style><table id=\"T_82f13_\" ><caption>Result table for test set</caption><thead>    <tr>        <th class=\"blank level0\" ></th>        <th class=\"col_heading level0 col0\" >Target</th>        <th class=\"col_heading level0 col1\" >Model</th>        <th class=\"col_heading level0 col2\" >Accuracy</th>        <th class=\"col_heading level0 col3\" >Precision</th>        <th class=\"col_heading level0 col4\" >Recall</th>        <th class=\"col_heading level0 col5\" >F1</th>    </tr></thead><tbody>\n",
       "                <tr>\n",
       "                        <th id=\"T_82f13_level0_row0\" class=\"row_heading level0 row0\" >0</th>\n",
       "                        <td id=\"T_82f13_row0_col0\" class=\"data row0 col0\" >Multi-class</td>\n",
       "                        <td id=\"T_82f13_row0_col1\" class=\"data row0 col1\" >SGD_OvO</td>\n",
       "                        <td id=\"T_82f13_row0_col2\" class=\"data row0 col2\" >0.957500</td>\n",
       "                        <td id=\"T_82f13_row0_col3\" class=\"data row0 col3\" >0.959603</td>\n",
       "                        <td id=\"T_82f13_row0_col4\" class=\"data row0 col4\" >0.957500</td>\n",
       "                        <td id=\"T_82f13_row0_col5\" class=\"data row0 col5\" >0.957702</td>\n",
       "            </tr>\n",
       "    </tbody></table>"
      ],
      "text/plain": [
       "<pandas.io.formats.style.Styler at 0x7fc0c2778760>"
      ]
     },
     "execution_count": 121,
     "metadata": {},
     "output_type": "execute_result"
    }
   ],
   "source": [
    "recall_test_ovo=recall_score(y_test, test_prediction, average='weighted')\n",
    "precision_test_ovo=precision_score(y_test, test_prediction, average='weighted')\n",
    "f1_test_ovo=f1_score(y_test, test_prediction, average='weighted')\n",
    "result_tab=pd.DataFrame({'Target':[],\n",
    "                           'Model': [],\n",
    "                           'Accuracy':[],\n",
    "                           'Precision':[],\n",
    "                           'Recall':[],\n",
    "                           'F1':[]})\n",
    "\n",
    "row = result_tab.shape[0]\n",
    "result_tab.loc[row] = ['Multi-class','SGD_OvO',test_accu,precision_test_ovo,recall_test_ovo,f1_test_ovo]\n",
    "result_tab.sort_values(by = 'Accuracy', ascending=False)\n",
    "result_tab.style.set_caption('Result table for test set')"
   ]
  },
  {
   "cell_type": "code",
   "execution_count": 122,
   "metadata": {},
   "outputs": [
    {
     "data": {
      "text/html": [
       "<style  type=\"text/css\" >\n",
       "</style><table id=\"T_8b295_\" ><caption>Result table for test set</caption><thead>    <tr>        <th class=\"blank level0\" ></th>        <th class=\"col_heading level0 col0\" >Target</th>        <th class=\"col_heading level0 col1\" >Model</th>        <th class=\"col_heading level0 col2\" >Accuracy</th>        <th class=\"col_heading level0 col3\" >Precision</th>        <th class=\"col_heading level0 col4\" >Recall</th>        <th class=\"col_heading level0 col5\" >F1</th>    </tr></thead><tbody>\n",
       "                <tr>\n",
       "                        <th id=\"T_8b295_level0_row0\" class=\"row_heading level0 row0\" >0</th>\n",
       "                        <td id=\"T_8b295_row0_col0\" class=\"data row0 col0\" >Multi-class</td>\n",
       "                        <td id=\"T_8b295_row0_col1\" class=\"data row0 col1\" >SGD_OvO</td>\n",
       "                        <td id=\"T_8b295_row0_col2\" class=\"data row0 col2\" >0.957500</td>\n",
       "                        <td id=\"T_8b295_row0_col3\" class=\"data row0 col3\" >0.959603</td>\n",
       "                        <td id=\"T_8b295_row0_col4\" class=\"data row0 col4\" >0.957500</td>\n",
       "                        <td id=\"T_8b295_row0_col5\" class=\"data row0 col5\" >0.957702</td>\n",
       "            </tr>\n",
       "            <tr>\n",
       "                        <th id=\"T_8b295_level0_row1\" class=\"row_heading level0 row1\" >1</th>\n",
       "                        <td id=\"T_8b295_row1_col0\" class=\"data row1 col0\" >Multi-class</td>\n",
       "                        <td id=\"T_8b295_row1_col1\" class=\"data row1 col1\" >SoftmaxRegression</td>\n",
       "                        <td id=\"T_8b295_row1_col2\" class=\"data row1 col2\" >0.972500</td>\n",
       "                        <td id=\"T_8b295_row1_col3\" class=\"data row1 col3\" >0.973383</td>\n",
       "                        <td id=\"T_8b295_row1_col4\" class=\"data row1 col4\" >0.972500</td>\n",
       "                        <td id=\"T_8b295_row1_col5\" class=\"data row1 col5\" >0.972532</td>\n",
       "            </tr>\n",
       "    </tbody></table>"
      ],
      "text/plain": [
       "<pandas.io.formats.style.Styler at 0x7fc0c2e217f0>"
      ]
     },
     "execution_count": 122,
     "metadata": {},
     "output_type": "execute_result"
    }
   ],
   "source": [
    "test_prediction2=softmax_reg.predict(X_test_scale)\n",
    "test_accu2=accuracy_score(y_test, test_prediction2)\n",
    "recall_test_soft=recall_score(y_test, test_prediction2, average='weighted')\n",
    "precision_test_soft=precision_score(y_test, test_prediction2, average='weighted')\n",
    "f1_test_soft=f1_score(y_test, test_prediction2, average='weighted')\n",
    "row = result_tab.shape[0]\n",
    "result_tab.loc[row] = ['Multi-class','SoftmaxRegression',test_accu2,precision_test_soft,recall_test_soft,f1_test_soft]\n",
    "result_tab.sort_values(by = 'Accuracy', ascending=False)\n",
    "result_tab.style.set_caption('Result table for test set')"
   ]
  }
 ],
 "metadata": {
  "kernelspec": {
   "display_name": "Python 3",
   "language": "python",
   "name": "python3"
  },
  "language_info": {
   "codemirror_mode": {
    "name": "ipython",
    "version": 3
   },
   "file_extension": ".py",
   "mimetype": "text/x-python",
   "name": "python",
   "nbconvert_exporter": "python",
   "pygments_lexer": "ipython3",
   "version": "3.8.5"
  }
 },
 "nbformat": 4,
 "nbformat_minor": 4
}
