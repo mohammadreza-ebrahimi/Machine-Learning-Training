{
 "cells": [
  {
   "cell_type": "code",
   "execution_count": 1,
   "metadata": {},
   "outputs": [],
   "source": [
    "import numpy as np\n",
    "import pandas as pd\n",
    "import matplotlib.pyplot as plt\n",
    "from sklearn.preprocessing import StandardScaler\n",
    "from sklearn.model_selection import cross_val_predict\n",
    "from sklearn.metrics import recall_score, precision_score, precision_recall_curve, confusion_matrix\n",
    "from sklearn.linear_model import SGDClassifier\n",
    "from sklearn.multiclass import OneVsOneClassifier\n",
    "from sklearn.ensemble import RandomForestClassifier\n",
    "from sklearn.tree import DecisionTreeClassifier"
   ]
  },
  {
   "cell_type": "code",
   "execution_count": 2,
   "metadata": {},
   "outputs": [],
   "source": [
    "train = pd.read_csv('/home/mohammadreza/Kaggle/mobile/train.csv')\n",
    "test = pd.read_csv('/home/mohammadreza/Kaggle/mobile/test.csv')"
   ]
  },
  {
   "cell_type": "code",
   "execution_count": 3,
   "metadata": {},
   "outputs": [
    {
     "data": {
      "text/html": [
       "<div>\n",
       "<style scoped>\n",
       "    .dataframe tbody tr th:only-of-type {\n",
       "        vertical-align: middle;\n",
       "    }\n",
       "\n",
       "    .dataframe tbody tr th {\n",
       "        vertical-align: top;\n",
       "    }\n",
       "\n",
       "    .dataframe thead th {\n",
       "        text-align: right;\n",
       "    }\n",
       "</style>\n",
       "<table border=\"1\" class=\"dataframe\">\n",
       "  <thead>\n",
       "    <tr style=\"text-align: right;\">\n",
       "      <th></th>\n",
       "      <th>battery_power</th>\n",
       "      <th>blue</th>\n",
       "      <th>clock_speed</th>\n",
       "      <th>dual_sim</th>\n",
       "      <th>fc</th>\n",
       "      <th>four_g</th>\n",
       "      <th>int_memory</th>\n",
       "      <th>m_dep</th>\n",
       "      <th>mobile_wt</th>\n",
       "      <th>n_cores</th>\n",
       "      <th>...</th>\n",
       "      <th>px_height</th>\n",
       "      <th>px_width</th>\n",
       "      <th>ram</th>\n",
       "      <th>sc_h</th>\n",
       "      <th>sc_w</th>\n",
       "      <th>talk_time</th>\n",
       "      <th>three_g</th>\n",
       "      <th>touch_screen</th>\n",
       "      <th>wifi</th>\n",
       "      <th>price_range</th>\n",
       "    </tr>\n",
       "  </thead>\n",
       "  <tbody>\n",
       "    <tr>\n",
       "      <th>0</th>\n",
       "      <td>842</td>\n",
       "      <td>0</td>\n",
       "      <td>2.2</td>\n",
       "      <td>0</td>\n",
       "      <td>1</td>\n",
       "      <td>0</td>\n",
       "      <td>7</td>\n",
       "      <td>0.6</td>\n",
       "      <td>188</td>\n",
       "      <td>2</td>\n",
       "      <td>...</td>\n",
       "      <td>20</td>\n",
       "      <td>756</td>\n",
       "      <td>2549</td>\n",
       "      <td>9</td>\n",
       "      <td>7</td>\n",
       "      <td>19</td>\n",
       "      <td>0</td>\n",
       "      <td>0</td>\n",
       "      <td>1</td>\n",
       "      <td>1</td>\n",
       "    </tr>\n",
       "    <tr>\n",
       "      <th>1</th>\n",
       "      <td>1021</td>\n",
       "      <td>1</td>\n",
       "      <td>0.5</td>\n",
       "      <td>1</td>\n",
       "      <td>0</td>\n",
       "      <td>1</td>\n",
       "      <td>53</td>\n",
       "      <td>0.7</td>\n",
       "      <td>136</td>\n",
       "      <td>3</td>\n",
       "      <td>...</td>\n",
       "      <td>905</td>\n",
       "      <td>1988</td>\n",
       "      <td>2631</td>\n",
       "      <td>17</td>\n",
       "      <td>3</td>\n",
       "      <td>7</td>\n",
       "      <td>1</td>\n",
       "      <td>1</td>\n",
       "      <td>0</td>\n",
       "      <td>2</td>\n",
       "    </tr>\n",
       "    <tr>\n",
       "      <th>2</th>\n",
       "      <td>563</td>\n",
       "      <td>1</td>\n",
       "      <td>0.5</td>\n",
       "      <td>1</td>\n",
       "      <td>2</td>\n",
       "      <td>1</td>\n",
       "      <td>41</td>\n",
       "      <td>0.9</td>\n",
       "      <td>145</td>\n",
       "      <td>5</td>\n",
       "      <td>...</td>\n",
       "      <td>1263</td>\n",
       "      <td>1716</td>\n",
       "      <td>2603</td>\n",
       "      <td>11</td>\n",
       "      <td>2</td>\n",
       "      <td>9</td>\n",
       "      <td>1</td>\n",
       "      <td>1</td>\n",
       "      <td>0</td>\n",
       "      <td>2</td>\n",
       "    </tr>\n",
       "    <tr>\n",
       "      <th>3</th>\n",
       "      <td>615</td>\n",
       "      <td>1</td>\n",
       "      <td>2.5</td>\n",
       "      <td>0</td>\n",
       "      <td>0</td>\n",
       "      <td>0</td>\n",
       "      <td>10</td>\n",
       "      <td>0.8</td>\n",
       "      <td>131</td>\n",
       "      <td>6</td>\n",
       "      <td>...</td>\n",
       "      <td>1216</td>\n",
       "      <td>1786</td>\n",
       "      <td>2769</td>\n",
       "      <td>16</td>\n",
       "      <td>8</td>\n",
       "      <td>11</td>\n",
       "      <td>1</td>\n",
       "      <td>0</td>\n",
       "      <td>0</td>\n",
       "      <td>2</td>\n",
       "    </tr>\n",
       "    <tr>\n",
       "      <th>4</th>\n",
       "      <td>1821</td>\n",
       "      <td>1</td>\n",
       "      <td>1.2</td>\n",
       "      <td>0</td>\n",
       "      <td>13</td>\n",
       "      <td>1</td>\n",
       "      <td>44</td>\n",
       "      <td>0.6</td>\n",
       "      <td>141</td>\n",
       "      <td>2</td>\n",
       "      <td>...</td>\n",
       "      <td>1208</td>\n",
       "      <td>1212</td>\n",
       "      <td>1411</td>\n",
       "      <td>8</td>\n",
       "      <td>2</td>\n",
       "      <td>15</td>\n",
       "      <td>1</td>\n",
       "      <td>1</td>\n",
       "      <td>0</td>\n",
       "      <td>1</td>\n",
       "    </tr>\n",
       "    <tr>\n",
       "      <th>5</th>\n",
       "      <td>1859</td>\n",
       "      <td>0</td>\n",
       "      <td>0.5</td>\n",
       "      <td>1</td>\n",
       "      <td>3</td>\n",
       "      <td>0</td>\n",
       "      <td>22</td>\n",
       "      <td>0.7</td>\n",
       "      <td>164</td>\n",
       "      <td>1</td>\n",
       "      <td>...</td>\n",
       "      <td>1004</td>\n",
       "      <td>1654</td>\n",
       "      <td>1067</td>\n",
       "      <td>17</td>\n",
       "      <td>1</td>\n",
       "      <td>10</td>\n",
       "      <td>1</td>\n",
       "      <td>0</td>\n",
       "      <td>0</td>\n",
       "      <td>1</td>\n",
       "    </tr>\n",
       "    <tr>\n",
       "      <th>6</th>\n",
       "      <td>1821</td>\n",
       "      <td>0</td>\n",
       "      <td>1.7</td>\n",
       "      <td>0</td>\n",
       "      <td>4</td>\n",
       "      <td>1</td>\n",
       "      <td>10</td>\n",
       "      <td>0.8</td>\n",
       "      <td>139</td>\n",
       "      <td>8</td>\n",
       "      <td>...</td>\n",
       "      <td>381</td>\n",
       "      <td>1018</td>\n",
       "      <td>3220</td>\n",
       "      <td>13</td>\n",
       "      <td>8</td>\n",
       "      <td>18</td>\n",
       "      <td>1</td>\n",
       "      <td>0</td>\n",
       "      <td>1</td>\n",
       "      <td>3</td>\n",
       "    </tr>\n",
       "    <tr>\n",
       "      <th>7</th>\n",
       "      <td>1954</td>\n",
       "      <td>0</td>\n",
       "      <td>0.5</td>\n",
       "      <td>1</td>\n",
       "      <td>0</td>\n",
       "      <td>0</td>\n",
       "      <td>24</td>\n",
       "      <td>0.8</td>\n",
       "      <td>187</td>\n",
       "      <td>4</td>\n",
       "      <td>...</td>\n",
       "      <td>512</td>\n",
       "      <td>1149</td>\n",
       "      <td>700</td>\n",
       "      <td>16</td>\n",
       "      <td>3</td>\n",
       "      <td>5</td>\n",
       "      <td>1</td>\n",
       "      <td>1</td>\n",
       "      <td>1</td>\n",
       "      <td>0</td>\n",
       "    </tr>\n",
       "    <tr>\n",
       "      <th>8</th>\n",
       "      <td>1445</td>\n",
       "      <td>1</td>\n",
       "      <td>0.5</td>\n",
       "      <td>0</td>\n",
       "      <td>0</td>\n",
       "      <td>0</td>\n",
       "      <td>53</td>\n",
       "      <td>0.7</td>\n",
       "      <td>174</td>\n",
       "      <td>7</td>\n",
       "      <td>...</td>\n",
       "      <td>386</td>\n",
       "      <td>836</td>\n",
       "      <td>1099</td>\n",
       "      <td>17</td>\n",
       "      <td>1</td>\n",
       "      <td>20</td>\n",
       "      <td>1</td>\n",
       "      <td>0</td>\n",
       "      <td>0</td>\n",
       "      <td>0</td>\n",
       "    </tr>\n",
       "    <tr>\n",
       "      <th>9</th>\n",
       "      <td>509</td>\n",
       "      <td>1</td>\n",
       "      <td>0.6</td>\n",
       "      <td>1</td>\n",
       "      <td>2</td>\n",
       "      <td>1</td>\n",
       "      <td>9</td>\n",
       "      <td>0.1</td>\n",
       "      <td>93</td>\n",
       "      <td>5</td>\n",
       "      <td>...</td>\n",
       "      <td>1137</td>\n",
       "      <td>1224</td>\n",
       "      <td>513</td>\n",
       "      <td>19</td>\n",
       "      <td>10</td>\n",
       "      <td>12</td>\n",
       "      <td>1</td>\n",
       "      <td>0</td>\n",
       "      <td>0</td>\n",
       "      <td>0</td>\n",
       "    </tr>\n",
       "  </tbody>\n",
       "</table>\n",
       "<p>10 rows × 21 columns</p>\n",
       "</div>"
      ],
      "text/plain": [
       "   battery_power  blue  clock_speed  dual_sim  fc  four_g  int_memory  m_dep  \\\n",
       "0            842     0          2.2         0   1       0           7    0.6   \n",
       "1           1021     1          0.5         1   0       1          53    0.7   \n",
       "2            563     1          0.5         1   2       1          41    0.9   \n",
       "3            615     1          2.5         0   0       0          10    0.8   \n",
       "4           1821     1          1.2         0  13       1          44    0.6   \n",
       "5           1859     0          0.5         1   3       0          22    0.7   \n",
       "6           1821     0          1.7         0   4       1          10    0.8   \n",
       "7           1954     0          0.5         1   0       0          24    0.8   \n",
       "8           1445     1          0.5         0   0       0          53    0.7   \n",
       "9            509     1          0.6         1   2       1           9    0.1   \n",
       "\n",
       "   mobile_wt  n_cores  ...  px_height  px_width   ram  sc_h  sc_w  talk_time  \\\n",
       "0        188        2  ...         20       756  2549     9     7         19   \n",
       "1        136        3  ...        905      1988  2631    17     3          7   \n",
       "2        145        5  ...       1263      1716  2603    11     2          9   \n",
       "3        131        6  ...       1216      1786  2769    16     8         11   \n",
       "4        141        2  ...       1208      1212  1411     8     2         15   \n",
       "5        164        1  ...       1004      1654  1067    17     1         10   \n",
       "6        139        8  ...        381      1018  3220    13     8         18   \n",
       "7        187        4  ...        512      1149   700    16     3          5   \n",
       "8        174        7  ...        386       836  1099    17     1         20   \n",
       "9         93        5  ...       1137      1224   513    19    10         12   \n",
       "\n",
       "   three_g  touch_screen  wifi  price_range  \n",
       "0        0             0     1            1  \n",
       "1        1             1     0            2  \n",
       "2        1             1     0            2  \n",
       "3        1             0     0            2  \n",
       "4        1             1     0            1  \n",
       "5        1             0     0            1  \n",
       "6        1             0     1            3  \n",
       "7        1             1     1            0  \n",
       "8        1             0     0            0  \n",
       "9        1             0     0            0  \n",
       "\n",
       "[10 rows x 21 columns]"
      ]
     },
     "execution_count": 3,
     "metadata": {},
     "output_type": "execute_result"
    }
   ],
   "source": [
    "train.head(10)"
   ]
  },
  {
   "cell_type": "code",
   "execution_count": 4,
   "metadata": {},
   "outputs": [
    {
     "data": {
      "text/plain": [
       "Index(['battery_power', 'blue', 'clock_speed', 'dual_sim', 'fc', 'four_g',\n",
       "       'int_memory', 'm_dep', 'mobile_wt', 'n_cores', 'pc', 'px_height',\n",
       "       'px_width', 'ram', 'sc_h', 'sc_w', 'talk_time', 'three_g',\n",
       "       'touch_screen', 'wifi', 'price_range'],\n",
       "      dtype='object')"
      ]
     },
     "execution_count": 4,
     "metadata": {},
     "output_type": "execute_result"
    }
   ],
   "source": [
    "train.columns"
   ]
  },
  {
   "cell_type": "code",
   "execution_count": 5,
   "metadata": {},
   "outputs": [
    {
     "data": {
      "text/html": [
       "<div>\n",
       "<style scoped>\n",
       "    .dataframe tbody tr th:only-of-type {\n",
       "        vertical-align: middle;\n",
       "    }\n",
       "\n",
       "    .dataframe tbody tr th {\n",
       "        vertical-align: top;\n",
       "    }\n",
       "\n",
       "    .dataframe thead th {\n",
       "        text-align: right;\n",
       "    }\n",
       "</style>\n",
       "<table border=\"1\" class=\"dataframe\">\n",
       "  <thead>\n",
       "    <tr style=\"text-align: right;\">\n",
       "      <th></th>\n",
       "      <th>battery_power</th>\n",
       "      <th>blue</th>\n",
       "      <th>clock_speed</th>\n",
       "      <th>dual_sim</th>\n",
       "      <th>fc</th>\n",
       "      <th>four_g</th>\n",
       "      <th>int_memory</th>\n",
       "      <th>m_dep</th>\n",
       "      <th>mobile_wt</th>\n",
       "      <th>n_cores</th>\n",
       "      <th>...</th>\n",
       "      <th>px_height</th>\n",
       "      <th>px_width</th>\n",
       "      <th>ram</th>\n",
       "      <th>sc_h</th>\n",
       "      <th>sc_w</th>\n",
       "      <th>talk_time</th>\n",
       "      <th>three_g</th>\n",
       "      <th>touch_screen</th>\n",
       "      <th>wifi</th>\n",
       "      <th>price_range</th>\n",
       "    </tr>\n",
       "  </thead>\n",
       "  <tbody>\n",
       "    <tr>\n",
       "      <th>count</th>\n",
       "      <td>2000.000000</td>\n",
       "      <td>2000.0000</td>\n",
       "      <td>2000.000000</td>\n",
       "      <td>2000.000000</td>\n",
       "      <td>2000.000000</td>\n",
       "      <td>2000.000000</td>\n",
       "      <td>2000.000000</td>\n",
       "      <td>2000.000000</td>\n",
       "      <td>2000.000000</td>\n",
       "      <td>2000.000000</td>\n",
       "      <td>...</td>\n",
       "      <td>2000.000000</td>\n",
       "      <td>2000.000000</td>\n",
       "      <td>2000.000000</td>\n",
       "      <td>2000.000000</td>\n",
       "      <td>2000.000000</td>\n",
       "      <td>2000.000000</td>\n",
       "      <td>2000.000000</td>\n",
       "      <td>2000.000000</td>\n",
       "      <td>2000.000000</td>\n",
       "      <td>2000.000000</td>\n",
       "    </tr>\n",
       "    <tr>\n",
       "      <th>mean</th>\n",
       "      <td>1238.518500</td>\n",
       "      <td>0.4950</td>\n",
       "      <td>1.522250</td>\n",
       "      <td>0.509500</td>\n",
       "      <td>4.309500</td>\n",
       "      <td>0.521500</td>\n",
       "      <td>32.046500</td>\n",
       "      <td>0.501750</td>\n",
       "      <td>140.249000</td>\n",
       "      <td>4.520500</td>\n",
       "      <td>...</td>\n",
       "      <td>645.108000</td>\n",
       "      <td>1251.515500</td>\n",
       "      <td>2124.213000</td>\n",
       "      <td>12.306500</td>\n",
       "      <td>5.767000</td>\n",
       "      <td>11.011000</td>\n",
       "      <td>0.761500</td>\n",
       "      <td>0.503000</td>\n",
       "      <td>0.507000</td>\n",
       "      <td>1.500000</td>\n",
       "    </tr>\n",
       "    <tr>\n",
       "      <th>std</th>\n",
       "      <td>439.418206</td>\n",
       "      <td>0.5001</td>\n",
       "      <td>0.816004</td>\n",
       "      <td>0.500035</td>\n",
       "      <td>4.341444</td>\n",
       "      <td>0.499662</td>\n",
       "      <td>18.145715</td>\n",
       "      <td>0.288416</td>\n",
       "      <td>35.399655</td>\n",
       "      <td>2.287837</td>\n",
       "      <td>...</td>\n",
       "      <td>443.780811</td>\n",
       "      <td>432.199447</td>\n",
       "      <td>1084.732044</td>\n",
       "      <td>4.213245</td>\n",
       "      <td>4.356398</td>\n",
       "      <td>5.463955</td>\n",
       "      <td>0.426273</td>\n",
       "      <td>0.500116</td>\n",
       "      <td>0.500076</td>\n",
       "      <td>1.118314</td>\n",
       "    </tr>\n",
       "    <tr>\n",
       "      <th>min</th>\n",
       "      <td>501.000000</td>\n",
       "      <td>0.0000</td>\n",
       "      <td>0.500000</td>\n",
       "      <td>0.000000</td>\n",
       "      <td>0.000000</td>\n",
       "      <td>0.000000</td>\n",
       "      <td>2.000000</td>\n",
       "      <td>0.100000</td>\n",
       "      <td>80.000000</td>\n",
       "      <td>1.000000</td>\n",
       "      <td>...</td>\n",
       "      <td>0.000000</td>\n",
       "      <td>500.000000</td>\n",
       "      <td>256.000000</td>\n",
       "      <td>5.000000</td>\n",
       "      <td>0.000000</td>\n",
       "      <td>2.000000</td>\n",
       "      <td>0.000000</td>\n",
       "      <td>0.000000</td>\n",
       "      <td>0.000000</td>\n",
       "      <td>0.000000</td>\n",
       "    </tr>\n",
       "    <tr>\n",
       "      <th>25%</th>\n",
       "      <td>851.750000</td>\n",
       "      <td>0.0000</td>\n",
       "      <td>0.700000</td>\n",
       "      <td>0.000000</td>\n",
       "      <td>1.000000</td>\n",
       "      <td>0.000000</td>\n",
       "      <td>16.000000</td>\n",
       "      <td>0.200000</td>\n",
       "      <td>109.000000</td>\n",
       "      <td>3.000000</td>\n",
       "      <td>...</td>\n",
       "      <td>282.750000</td>\n",
       "      <td>874.750000</td>\n",
       "      <td>1207.500000</td>\n",
       "      <td>9.000000</td>\n",
       "      <td>2.000000</td>\n",
       "      <td>6.000000</td>\n",
       "      <td>1.000000</td>\n",
       "      <td>0.000000</td>\n",
       "      <td>0.000000</td>\n",
       "      <td>0.750000</td>\n",
       "    </tr>\n",
       "    <tr>\n",
       "      <th>50%</th>\n",
       "      <td>1226.000000</td>\n",
       "      <td>0.0000</td>\n",
       "      <td>1.500000</td>\n",
       "      <td>1.000000</td>\n",
       "      <td>3.000000</td>\n",
       "      <td>1.000000</td>\n",
       "      <td>32.000000</td>\n",
       "      <td>0.500000</td>\n",
       "      <td>141.000000</td>\n",
       "      <td>4.000000</td>\n",
       "      <td>...</td>\n",
       "      <td>564.000000</td>\n",
       "      <td>1247.000000</td>\n",
       "      <td>2146.500000</td>\n",
       "      <td>12.000000</td>\n",
       "      <td>5.000000</td>\n",
       "      <td>11.000000</td>\n",
       "      <td>1.000000</td>\n",
       "      <td>1.000000</td>\n",
       "      <td>1.000000</td>\n",
       "      <td>1.500000</td>\n",
       "    </tr>\n",
       "    <tr>\n",
       "      <th>75%</th>\n",
       "      <td>1615.250000</td>\n",
       "      <td>1.0000</td>\n",
       "      <td>2.200000</td>\n",
       "      <td>1.000000</td>\n",
       "      <td>7.000000</td>\n",
       "      <td>1.000000</td>\n",
       "      <td>48.000000</td>\n",
       "      <td>0.800000</td>\n",
       "      <td>170.000000</td>\n",
       "      <td>7.000000</td>\n",
       "      <td>...</td>\n",
       "      <td>947.250000</td>\n",
       "      <td>1633.000000</td>\n",
       "      <td>3064.500000</td>\n",
       "      <td>16.000000</td>\n",
       "      <td>9.000000</td>\n",
       "      <td>16.000000</td>\n",
       "      <td>1.000000</td>\n",
       "      <td>1.000000</td>\n",
       "      <td>1.000000</td>\n",
       "      <td>2.250000</td>\n",
       "    </tr>\n",
       "    <tr>\n",
       "      <th>max</th>\n",
       "      <td>1998.000000</td>\n",
       "      <td>1.0000</td>\n",
       "      <td>3.000000</td>\n",
       "      <td>1.000000</td>\n",
       "      <td>19.000000</td>\n",
       "      <td>1.000000</td>\n",
       "      <td>64.000000</td>\n",
       "      <td>1.000000</td>\n",
       "      <td>200.000000</td>\n",
       "      <td>8.000000</td>\n",
       "      <td>...</td>\n",
       "      <td>1960.000000</td>\n",
       "      <td>1998.000000</td>\n",
       "      <td>3998.000000</td>\n",
       "      <td>19.000000</td>\n",
       "      <td>18.000000</td>\n",
       "      <td>20.000000</td>\n",
       "      <td>1.000000</td>\n",
       "      <td>1.000000</td>\n",
       "      <td>1.000000</td>\n",
       "      <td>3.000000</td>\n",
       "    </tr>\n",
       "  </tbody>\n",
       "</table>\n",
       "<p>8 rows × 21 columns</p>\n",
       "</div>"
      ],
      "text/plain": [
       "       battery_power       blue  clock_speed     dual_sim           fc  \\\n",
       "count    2000.000000  2000.0000  2000.000000  2000.000000  2000.000000   \n",
       "mean     1238.518500     0.4950     1.522250     0.509500     4.309500   \n",
       "std       439.418206     0.5001     0.816004     0.500035     4.341444   \n",
       "min       501.000000     0.0000     0.500000     0.000000     0.000000   \n",
       "25%       851.750000     0.0000     0.700000     0.000000     1.000000   \n",
       "50%      1226.000000     0.0000     1.500000     1.000000     3.000000   \n",
       "75%      1615.250000     1.0000     2.200000     1.000000     7.000000   \n",
       "max      1998.000000     1.0000     3.000000     1.000000    19.000000   \n",
       "\n",
       "            four_g   int_memory        m_dep    mobile_wt      n_cores  ...  \\\n",
       "count  2000.000000  2000.000000  2000.000000  2000.000000  2000.000000  ...   \n",
       "mean      0.521500    32.046500     0.501750   140.249000     4.520500  ...   \n",
       "std       0.499662    18.145715     0.288416    35.399655     2.287837  ...   \n",
       "min       0.000000     2.000000     0.100000    80.000000     1.000000  ...   \n",
       "25%       0.000000    16.000000     0.200000   109.000000     3.000000  ...   \n",
       "50%       1.000000    32.000000     0.500000   141.000000     4.000000  ...   \n",
       "75%       1.000000    48.000000     0.800000   170.000000     7.000000  ...   \n",
       "max       1.000000    64.000000     1.000000   200.000000     8.000000  ...   \n",
       "\n",
       "         px_height     px_width          ram         sc_h         sc_w  \\\n",
       "count  2000.000000  2000.000000  2000.000000  2000.000000  2000.000000   \n",
       "mean    645.108000  1251.515500  2124.213000    12.306500     5.767000   \n",
       "std     443.780811   432.199447  1084.732044     4.213245     4.356398   \n",
       "min       0.000000   500.000000   256.000000     5.000000     0.000000   \n",
       "25%     282.750000   874.750000  1207.500000     9.000000     2.000000   \n",
       "50%     564.000000  1247.000000  2146.500000    12.000000     5.000000   \n",
       "75%     947.250000  1633.000000  3064.500000    16.000000     9.000000   \n",
       "max    1960.000000  1998.000000  3998.000000    19.000000    18.000000   \n",
       "\n",
       "         talk_time      three_g  touch_screen         wifi  price_range  \n",
       "count  2000.000000  2000.000000   2000.000000  2000.000000  2000.000000  \n",
       "mean     11.011000     0.761500      0.503000     0.507000     1.500000  \n",
       "std       5.463955     0.426273      0.500116     0.500076     1.118314  \n",
       "min       2.000000     0.000000      0.000000     0.000000     0.000000  \n",
       "25%       6.000000     1.000000      0.000000     0.000000     0.750000  \n",
       "50%      11.000000     1.000000      1.000000     1.000000     1.500000  \n",
       "75%      16.000000     1.000000      1.000000     1.000000     2.250000  \n",
       "max      20.000000     1.000000      1.000000     1.000000     3.000000  \n",
       "\n",
       "[8 rows x 21 columns]"
      ]
     },
     "execution_count": 5,
     "metadata": {},
     "output_type": "execute_result"
    }
   ],
   "source": [
    "train.describe()"
   ]
  },
  {
   "cell_type": "code",
   "execution_count": 6,
   "metadata": {},
   "outputs": [
    {
     "name": "stdout",
     "output_type": "stream",
     "text": [
      "<class 'pandas.core.frame.DataFrame'>\n",
      "RangeIndex: 2000 entries, 0 to 1999\n",
      "Data columns (total 21 columns):\n",
      " #   Column         Non-Null Count  Dtype  \n",
      "---  ------         --------------  -----  \n",
      " 0   battery_power  2000 non-null   int64  \n",
      " 1   blue           2000 non-null   int64  \n",
      " 2   clock_speed    2000 non-null   float64\n",
      " 3   dual_sim       2000 non-null   int64  \n",
      " 4   fc             2000 non-null   int64  \n",
      " 5   four_g         2000 non-null   int64  \n",
      " 6   int_memory     2000 non-null   int64  \n",
      " 7   m_dep          2000 non-null   float64\n",
      " 8   mobile_wt      2000 non-null   int64  \n",
      " 9   n_cores        2000 non-null   int64  \n",
      " 10  pc             2000 non-null   int64  \n",
      " 11  px_height      2000 non-null   int64  \n",
      " 12  px_width       2000 non-null   int64  \n",
      " 13  ram            2000 non-null   int64  \n",
      " 14  sc_h           2000 non-null   int64  \n",
      " 15  sc_w           2000 non-null   int64  \n",
      " 16  talk_time      2000 non-null   int64  \n",
      " 17  three_g        2000 non-null   int64  \n",
      " 18  touch_screen   2000 non-null   int64  \n",
      " 19  wifi           2000 non-null   int64  \n",
      " 20  price_range    2000 non-null   int64  \n",
      "dtypes: float64(2), int64(19)\n",
      "memory usage: 328.2 KB\n"
     ]
    }
   ],
   "source": [
    "train.info()"
   ]
  },
  {
   "cell_type": "code",
   "execution_count": 7,
   "metadata": {},
   "outputs": [
    {
     "data": {
      "text/plain": [
       "battery_power    0\n",
       "blue             0\n",
       "clock_speed      0\n",
       "dual_sim         0\n",
       "fc               0\n",
       "four_g           0\n",
       "int_memory       0\n",
       "m_dep            0\n",
       "mobile_wt        0\n",
       "n_cores          0\n",
       "pc               0\n",
       "px_height        0\n",
       "px_width         0\n",
       "ram              0\n",
       "sc_h             0\n",
       "sc_w             0\n",
       "talk_time        0\n",
       "three_g          0\n",
       "touch_screen     0\n",
       "wifi             0\n",
       "price_range      0\n",
       "dtype: int64"
      ]
     },
     "execution_count": 7,
     "metadata": {},
     "output_type": "execute_result"
    }
   ],
   "source": [
    "train.isnull().sum()"
   ]
  },
  {
   "cell_type": "code",
   "execution_count": 8,
   "metadata": {},
   "outputs": [
    {
     "data": {
      "text/plain": [
       "array([[<AxesSubplot:title={'center':'battery_power'}>,\n",
       "        <AxesSubplot:title={'center':'blue'}>,\n",
       "        <AxesSubplot:title={'center':'clock_speed'}>,\n",
       "        <AxesSubplot:title={'center':'dual_sim'}>,\n",
       "        <AxesSubplot:title={'center':'fc'}>],\n",
       "       [<AxesSubplot:title={'center':'four_g'}>,\n",
       "        <AxesSubplot:title={'center':'int_memory'}>,\n",
       "        <AxesSubplot:title={'center':'m_dep'}>,\n",
       "        <AxesSubplot:title={'center':'mobile_wt'}>,\n",
       "        <AxesSubplot:title={'center':'n_cores'}>],\n",
       "       [<AxesSubplot:title={'center':'pc'}>,\n",
       "        <AxesSubplot:title={'center':'px_height'}>,\n",
       "        <AxesSubplot:title={'center':'px_width'}>,\n",
       "        <AxesSubplot:title={'center':'ram'}>,\n",
       "        <AxesSubplot:title={'center':'sc_h'}>],\n",
       "       [<AxesSubplot:title={'center':'sc_w'}>,\n",
       "        <AxesSubplot:title={'center':'talk_time'}>,\n",
       "        <AxesSubplot:title={'center':'three_g'}>,\n",
       "        <AxesSubplot:title={'center':'touch_screen'}>,\n",
       "        <AxesSubplot:title={'center':'wifi'}>],\n",
       "       [<AxesSubplot:title={'center':'price_range'}>, <AxesSubplot:>,\n",
       "        <AxesSubplot:>, <AxesSubplot:>, <AxesSubplot:>]], dtype=object)"
      ]
     },
     "execution_count": 8,
     "metadata": {},
     "output_type": "execute_result"
    },
    {
     "data": {
      "image/png": "[encoded data removed]",
      "text/plain": [
       "<Figure size 1800x1440 with 25 Axes>"
      ]
     },
     "metadata": {
      "needs_background": "light"
     },
     "output_type": "display_data"
    }
   ],
   "source": [
    "train.hist(bins=50, figsize=(25,20))"
   ]
  },
  {
   "cell_type": "code",
   "execution_count": 9,
   "metadata": {},
   "outputs": [
    {
     "data": {
      "text/plain": [
       "price_range      1.000000\n",
       "ram              0.917046\n",
       "battery_power    0.200723\n",
       "px_width         0.165818\n",
       "px_height        0.148858\n",
       "int_memory       0.044435\n",
       "sc_w             0.038711\n",
       "pc               0.033599\n",
       "three_g          0.023611\n",
       "sc_h             0.022986\n",
       "fc               0.021998\n",
       "talk_time        0.021859\n",
       "blue             0.020573\n",
       "wifi             0.018785\n",
       "dual_sim         0.017444\n",
       "four_g           0.014772\n",
       "n_cores          0.004399\n",
       "m_dep            0.000853\n",
       "clock_speed     -0.006606\n",
       "mobile_wt       -0.030302\n",
       "touch_screen    -0.030411\n",
       "Name: price_range, dtype: float64"
      ]
     },
     "execution_count": 9,
     "metadata": {},
     "output_type": "execute_result"
    }
   ],
   "source": [
    "corr_matrix=train.corr()\n",
    "corr_matrix['price_range'].sort_values(ascending=False)"
   ]
  },
  {
   "cell_type": "code",
   "execution_count": 10,
   "metadata": {},
   "outputs": [],
   "source": [
    "X_train=train.drop(['price_range'], axis=1, inplace=False)\n",
    "y_train=train['price_range'].copy()"
   ]
  },
  {
   "cell_type": "code",
   "execution_count": 11,
   "metadata": {},
   "outputs": [
    {
     "data": {
      "text/plain": [
       "(      battery_power  blue  clock_speed  dual_sim  fc  four_g  int_memory  \\\n",
       " 0               842     0          2.2         0   1       0           7   \n",
       " 1              1021     1          0.5         1   0       1          53   \n",
       " 2               563     1          0.5         1   2       1          41   \n",
       " 3               615     1          2.5         0   0       0          10   \n",
       " 4              1821     1          1.2         0  13       1          44   \n",
       " ...             ...   ...          ...       ...  ..     ...         ...   \n",
       " 1995            794     1          0.5         1   0       1           2   \n",
       " 1996           1965     1          2.6         1   0       0          39   \n",
       " 1997           1911     0          0.9         1   1       1          36   \n",
       " 1998           1512     0          0.9         0   4       1          46   \n",
       " 1999            510     1          2.0         1   5       1          45   \n",
       " \n",
       "       m_dep  mobile_wt  n_cores  pc  px_height  px_width   ram  sc_h  sc_w  \\\n",
       " 0       0.6        188        2   2         20       756  2549     9     7   \n",
       " 1       0.7        136        3   6        905      1988  2631    17     3   \n",
       " 2       0.9        145        5   6       1263      1716  2603    11     2   \n",
       " 3       0.8        131        6   9       1216      1786  2769    16     8   \n",
       " 4       0.6        141        2  14       1208      1212  1411     8     2   \n",
       " ...     ...        ...      ...  ..        ...       ...   ...   ...   ...   \n",
       " 1995    0.8        106        6  14       1222      1890   668    13     4   \n",
       " 1996    0.2        187        4   3        915      1965  2032    11    10   \n",
       " 1997    0.7        108        8   3        868      1632  3057     9     1   \n",
       " 1998    0.1        145        5   5        336       670   869    18    10   \n",
       " 1999    0.9        168        6  16        483       754  3919    19     4   \n",
       " \n",
       "       talk_time  three_g  touch_screen  wifi  \n",
       " 0            19        0             0     1  \n",
       " 1             7        1             1     0  \n",
       " 2             9        1             1     0  \n",
       " 3            11        1             0     0  \n",
       " 4            15        1             1     0  \n",
       " ...         ...      ...           ...   ...  \n",
       " 1995         19        1             1     0  \n",
       " 1996         16        1             1     1  \n",
       " 1997          5        1             1     0  \n",
       " 1998         19        1             1     1  \n",
       " 1999          2        1             1     1  \n",
       " \n",
       " [2000 rows x 20 columns],\n",
       " 0       1\n",
       " 1       2\n",
       " 2       2\n",
       " 3       2\n",
       " 4       1\n",
       "        ..\n",
       " 1995    0\n",
       " 1996    2\n",
       " 1997    3\n",
       " 1998    0\n",
       " 1999    3\n",
       " Name: price_range, Length: 2000, dtype: int64)"
      ]
     },
     "execution_count": 11,
     "metadata": {},
     "output_type": "execute_result"
    }
   ],
   "source": [
    "X_train, y_train"
   ]
  },
  {
   "cell_type": "code",
   "execution_count": 12,
   "metadata": {},
   "outputs": [
    {
     "data": {
      "text/plain": [
       "0       False\n",
       "1       False\n",
       "2       False\n",
       "3       False\n",
       "4       False\n",
       "        ...  \n",
       "1995    False\n",
       "1996    False\n",
       "1997     True\n",
       "1998    False\n",
       "1999     True\n",
       "Name: price_range, Length: 2000, dtype: bool"
      ]
     },
     "execution_count": 12,
     "metadata": {},
     "output_type": "execute_result"
    }
   ],
   "source": [
    "y_train_3=y_train==3\n",
    "y_train_3"
   ]
  },
  {
   "cell_type": "code",
   "execution_count": 13,
   "metadata": {},
   "outputs": [],
   "source": [
    "scale=StandardScaler()\n",
    "X_train_scale=scale.fit_transform(X_train)"
   ]
  },
  {
   "cell_type": "code",
   "execution_count": 14,
   "metadata": {},
   "outputs": [],
   "source": [
    "result_tab=pd.DataFrame({'Model': [],\n",
    "                           'Accuracy':[],\n",
    "                           'Precision':[],\n",
    "                           'Recall':[],\n",
    "                           'F1':[]})"
   ]
  },
  {
   "cell_type": "code",
   "execution_count": 15,
   "metadata": {},
   "outputs": [
    {
     "data": {
      "text/plain": [
       "SGDClassifier(random_state=42)"
      ]
     },
     "execution_count": 15,
     "metadata": {},
     "output_type": "execute_result"
    }
   ],
   "source": [
    "sgd_cls=SGDClassifier(random_state=42)\n",
    "sgd_cls.fit(X_train_scale, y_train_3)"
   ]
  },
  {
   "cell_type": "code",
   "execution_count": 16,
   "metadata": {},
   "outputs": [
    {
     "data": {
      "text/plain": [
       "battery_power    1859.0\n",
       "blue                0.0\n",
       "clock_speed         0.5\n",
       "dual_sim            1.0\n",
       "fc                  3.0\n",
       "four_g              0.0\n",
       "int_memory         22.0\n",
       "m_dep               0.7\n",
       "mobile_wt         164.0\n",
       "n_cores             1.0\n",
       "pc                  7.0\n",
       "px_height        1004.0\n",
       "px_width         1654.0\n",
       "ram              1067.0\n",
       "sc_h               17.0\n",
       "sc_w                1.0\n",
       "talk_time          10.0\n",
       "three_g             1.0\n",
       "touch_screen        0.0\n",
       "wifi                0.0\n",
       "Name: 5, dtype: float64"
      ]
     },
     "execution_count": 16,
     "metadata": {},
     "output_type": "execute_result"
    }
   ],
   "source": [
    "X_1=X_train.loc[5]\n",
    "X_2=X_train.loc[10]\n",
    "X_1"
   ]
  },
  {
   "cell_type": "code",
   "execution_count": 17,
   "metadata": {},
   "outputs": [
    {
     "data": {
      "text/plain": [
       "(array([ True,  True]), False, True)"
      ]
     },
     "execution_count": 17,
     "metadata": {},
     "output_type": "execute_result"
    }
   ],
   "source": [
    "pred_1=sgd_cls.predict([X_1,X_2])\n",
    "pred_1, y_train_3.loc[5], y_train_3[10]"
   ]
  },
  {
   "cell_type": "code",
   "execution_count": 18,
   "metadata": {},
   "outputs": [
    {
     "data": {
      "text/plain": [
       "0.9814999999999999"
      ]
     },
     "execution_count": 18,
     "metadata": {},
     "output_type": "execute_result"
    }
   ],
   "source": [
    "from sklearn.model_selection import cross_val_score\n",
    "sgd_score=cross_val_score(sgd_cls, X_train_scale, y_train_3,\n",
    "                           cv=5, scoring='accuracy')\n",
    "sgd_accu=sgd_score.mean()\n",
    "sgd_accu"
   ]
  },
  {
   "cell_type": "code",
   "execution_count": 19,
   "metadata": {},
   "outputs": [],
   "source": [
    "y_train_pred=cross_val_predict(sgd_cls, X_train_scale, \n",
    "                               y_train_3, cv=5)"
   ]
  },
  {
   "cell_type": "code",
   "execution_count": 20,
   "metadata": {},
   "outputs": [
    {
     "data": {
      "text/plain": [
       "array([[1488,   25],\n",
       "       [  12,  475]])"
      ]
     },
     "execution_count": 20,
     "metadata": {},
     "output_type": "execute_result"
    }
   ],
   "source": [
    "conf_matrix=confusion_matrix(y_train_pred, y_train_3)\n",
    "conf_matrix"
   ]
  },
  {
   "cell_type": "code",
   "execution_count": 21,
   "metadata": {},
   "outputs": [
    {
     "data": {
      "text/plain": [
       "1999"
      ]
     },
     "execution_count": 21,
     "metadata": {},
     "output_type": "execute_result"
    }
   ],
   "source": [
    "1488+25+12+474 #TN+FP+FN+TP"
   ]
  },
  {
   "cell_type": "code",
   "execution_count": 22,
   "metadata": {},
   "outputs": [
    {
     "data": {
      "text/plain": [
       "(0.95, 0.9753593429158111)"
      ]
     },
     "execution_count": 22,
     "metadata": {},
     "output_type": "execute_result"
    }
   ],
   "source": [
    "recall_sgd=recall_score(y_train_3,y_train_pred)\n",
    "precision_sgd=precision_score(y_train_3,y_train_pred)\n",
    "recall_sgd,precision_sgd"
   ]
  },
  {
   "cell_type": "code",
   "execution_count": 23,
   "metadata": {},
   "outputs": [],
   "source": [
    "y_scores=cross_val_predict(sgd_cls,X_train_scale,y_train_3,\n",
    "                           cv=5, method='decision_function')"
   ]
  },
  {
   "cell_type": "code",
   "execution_count": 24,
   "metadata": {},
   "outputs": [
    {
     "data": {
      "text/plain": [
       "array([-47.97368806,  -3.56577303, -16.76579595, ...,  21.5047317 ,\n",
       "       -71.37877052,   6.39831515])"
      ]
     },
     "execution_count": 24,
     "metadata": {},
     "output_type": "execute_result"
    }
   ],
   "source": [
    "y_scores"
   ]
  },
  {
   "cell_type": "code",
   "execution_count": 29,
   "metadata": {},
   "outputs": [
    {
     "data": {
      "text/plain": [
       "array([65465.74311823])"
      ]
     },
     "execution_count": 29,
     "metadata": {},
     "output_type": "execute_result"
    }
   ],
   "source": [
    "sgd_cls.decision_function([X_1])"
   ]
  },
  {
   "cell_type": "code",
   "execution_count": 30,
   "metadata": {},
   "outputs": [
    {
     "data": {
      "text/plain": [
       "(0, 0)"
      ]
     },
     "execution_count": 30,
     "metadata": {},
     "output_type": "execute_result"
    }
   ],
   "source": [
    "np.argmax(sgd_cls.decision_function([X_1])), np.argmax(sgd_cls.decision_function([X_2]))"
   ]
  },
  {
   "cell_type": "code",
   "execution_count": 31,
   "metadata": {},
   "outputs": [
    {
     "data": {
      "text/plain": [
       "(array([0.94517958, 0.94507576, 0.94686907, 0.94676806, 0.94666667,\n",
       "        0.94847328, 0.95028681, 0.95210728, 0.95393474, 0.95576923,\n",
       "        0.95761079, 0.95945946, 0.96131528, 0.96317829, 0.9631068 ,\n",
       "        0.96303502, 0.96491228, 0.96484375, 0.9667319 , 0.96666667,\n",
       "        0.96660118, 0.96653543, 0.96646943, 0.96640316, 0.96633663,\n",
       "        0.96825397, 0.97017893, 0.97011952, 0.97205589, 0.972     ,\n",
       "        0.97194389, 0.97389558, 0.97384306, 0.97379032, 0.97575758,\n",
       "        0.9757085 , 0.97565923, 0.97560976, 0.97556008, 0.9755102 ,\n",
       "        0.97546012, 0.97540984, 0.97535934, 0.97530864, 0.97525773,\n",
       "        0.97520661, 0.97515528, 0.97717842, 0.97920998, 0.97916667,\n",
       "        0.98121086, 0.9832636 , 0.98532495, 0.98529412, 0.98526316,\n",
       "        0.98734177, 0.98731501, 0.98728814, 0.98726115, 0.9893617 ,\n",
       "        0.98933902, 0.98931624, 0.98929336, 0.99141631, 0.99139785,\n",
       "        0.99353448, 0.99352052, 0.99350649, 0.99349241, 0.99347826,\n",
       "        0.99346405, 0.99344978, 0.99343545, 0.99342105, 0.99340659,\n",
       "        0.99339207, 0.99337748, 0.99336283, 0.99334812, 0.99333333,\n",
       "        0.99331849, 0.99330357, 0.99328859, 0.99327354, 0.99325843,\n",
       "        0.9954955 , 0.99548533, 0.99547511, 0.99546485, 0.99772727,\n",
       "        0.9977221 , 0.99771689, 0.99771167, 1.        , 1.        ,\n",
       "        1.        , 1.        , 1.        , 1.        , 1.        ,\n",
       "        1.        , 1.        , 1.        , 1.        , 1.        ,\n",
       "        1.        , 1.        , 1.        , 1.        , 1.        ,\n",
       "        1.        , 1.        , 1.        , 1.        , 1.        ,\n",
       "        1.        , 1.        , 1.        , 1.        , 1.        ,\n",
       "        1.        , 1.        , 1.        , 1.        , 1.        ,\n",
       "        1.        , 1.        , 1.        , 1.        , 1.        ,\n",
       "        1.        , 1.        , 1.        , 1.        , 1.        ,\n",
       "        1.        , 1.        , 1.        , 1.        , 1.        ,\n",
       "        1.        , 1.        , 1.        , 1.        , 1.        ,\n",
       "        1.        , 1.        , 1.        , 1.        , 1.        ,\n",
       "        1.        , 1.        , 1.        , 1.        , 1.        ,\n",
       "        1.        , 1.        , 1.        , 1.        , 1.        ,\n",
       "        1.        , 1.        , 1.        , 1.        , 1.        ,\n",
       "        1.        , 1.        , 1.        , 1.        , 1.        ,\n",
       "        1.        , 1.        , 1.        , 1.        , 1.        ,\n",
       "        1.        , 1.        , 1.        , 1.        , 1.        ,\n",
       "        1.        , 1.        , 1.        , 1.        , 1.        ,\n",
       "        1.        , 1.        , 1.        , 1.        , 1.        ,\n",
       "        1.        , 1.        , 1.        , 1.        , 1.        ,\n",
       "        1.        , 1.        , 1.        , 1.        , 1.        ,\n",
       "        1.        , 1.        , 1.        , 1.        , 1.        ,\n",
       "        1.        , 1.        , 1.        , 1.        , 1.        ,\n",
       "        1.        , 1.        , 1.        , 1.        , 1.        ,\n",
       "        1.        , 1.        , 1.        , 1.        , 1.        ,\n",
       "        1.        , 1.        , 1.        , 1.        , 1.        ,\n",
       "        1.        , 1.        , 1.        , 1.        , 1.        ,\n",
       "        1.        , 1.        , 1.        , 1.        , 1.        ,\n",
       "        1.        , 1.        , 1.        , 1.        , 1.        ,\n",
       "        1.        , 1.        , 1.        , 1.        , 1.        ,\n",
       "        1.        , 1.        , 1.        , 1.        , 1.        ,\n",
       "        1.        , 1.        , 1.        , 1.        , 1.        ,\n",
       "        1.        , 1.        , 1.        , 1.        , 1.        ,\n",
       "        1.        , 1.        , 1.        , 1.        , 1.        ,\n",
       "        1.        , 1.        , 1.        , 1.        , 1.        ,\n",
       "        1.        , 1.        , 1.        , 1.        , 1.        ,\n",
       "        1.        , 1.        , 1.        , 1.        , 1.        ,\n",
       "        1.        , 1.        , 1.        , 1.        , 1.        ,\n",
       "        1.        , 1.        , 1.        , 1.        , 1.        ,\n",
       "        1.        , 1.        , 1.        , 1.        , 1.        ,\n",
       "        1.        , 1.        , 1.        , 1.        , 1.        ,\n",
       "        1.        , 1.        , 1.        , 1.        , 1.        ,\n",
       "        1.        , 1.        , 1.        , 1.        , 1.        ,\n",
       "        1.        , 1.        , 1.        , 1.        , 1.        ,\n",
       "        1.        , 1.        , 1.        , 1.        , 1.        ,\n",
       "        1.        , 1.        , 1.        , 1.        , 1.        ,\n",
       "        1.        , 1.        , 1.        , 1.        , 1.        ,\n",
       "        1.        , 1.        , 1.        , 1.        , 1.        ,\n",
       "        1.        , 1.        , 1.        , 1.        , 1.        ,\n",
       "        1.        , 1.        , 1.        , 1.        , 1.        ,\n",
       "        1.        , 1.        , 1.        , 1.        , 1.        ,\n",
       "        1.        , 1.        , 1.        , 1.        , 1.        ,\n",
       "        1.        , 1.        , 1.        , 1.        , 1.        ,\n",
       "        1.        , 1.        , 1.        , 1.        , 1.        ,\n",
       "        1.        , 1.        , 1.        , 1.        , 1.        ,\n",
       "        1.        , 1.        , 1.        , 1.        , 1.        ,\n",
       "        1.        , 1.        , 1.        , 1.        , 1.        ,\n",
       "        1.        , 1.        , 1.        , 1.        , 1.        ,\n",
       "        1.        , 1.        , 1.        , 1.        , 1.        ,\n",
       "        1.        , 1.        , 1.        , 1.        , 1.        ,\n",
       "        1.        , 1.        , 1.        , 1.        , 1.        ,\n",
       "        1.        , 1.        , 1.        , 1.        , 1.        ,\n",
       "        1.        , 1.        , 1.        , 1.        , 1.        ,\n",
       "        1.        , 1.        , 1.        , 1.        , 1.        ,\n",
       "        1.        , 1.        , 1.        , 1.        , 1.        ,\n",
       "        1.        , 1.        , 1.        , 1.        , 1.        ,\n",
       "        1.        , 1.        , 1.        , 1.        , 1.        ,\n",
       "        1.        , 1.        , 1.        , 1.        , 1.        ,\n",
       "        1.        , 1.        , 1.        , 1.        , 1.        ,\n",
       "        1.        , 1.        , 1.        , 1.        , 1.        ,\n",
       "        1.        , 1.        , 1.        , 1.        , 1.        ,\n",
       "        1.        , 1.        , 1.        , 1.        , 1.        ,\n",
       "        1.        , 1.        , 1.        , 1.        , 1.        ,\n",
       "        1.        , 1.        , 1.        , 1.        , 1.        ,\n",
       "        1.        , 1.        , 1.        , 1.        , 1.        ,\n",
       "        1.        , 1.        , 1.        , 1.        , 1.        ,\n",
       "        1.        , 1.        , 1.        , 1.        , 1.        ,\n",
       "        1.        , 1.        , 1.        , 1.        , 1.        ,\n",
       "        1.        , 1.        , 1.        , 1.        , 1.        ,\n",
       "        1.        , 1.        , 1.        , 1.        , 1.        ,\n",
       "        1.        , 1.        , 1.        , 1.        , 1.        ,\n",
       "        1.        , 1.        , 1.        , 1.        , 1.        ,\n",
       "        1.        , 1.        , 1.        , 1.        , 1.        ,\n",
       "        1.        , 1.        , 1.        , 1.        , 1.        ,\n",
       "        1.        , 1.        , 1.        , 1.        , 1.        ,\n",
       "        1.        , 1.        , 1.        , 1.        , 1.        ,\n",
       "        1.        , 1.        , 1.        , 1.        , 1.        ]),\n",
       " array([1.   , 0.998, 0.998, 0.996, 0.994, 0.994, 0.994, 0.994, 0.994,\n",
       "        0.994, 0.994, 0.994, 0.994, 0.994, 0.992, 0.99 , 0.99 , 0.988,\n",
       "        0.988, 0.986, 0.984, 0.982, 0.98 , 0.978, 0.976, 0.976, 0.976,\n",
       "        0.974, 0.974, 0.972, 0.97 , 0.97 , 0.968, 0.966, 0.966, 0.964,\n",
       "        0.962, 0.96 , 0.958, 0.956, 0.954, 0.952, 0.95 , 0.948, 0.946,\n",
       "        0.944, 0.942, 0.942, 0.942, 0.94 , 0.94 , 0.94 , 0.94 , 0.938,\n",
       "        0.936, 0.936, 0.934, 0.932, 0.93 , 0.93 , 0.928, 0.926, 0.924,\n",
       "        0.924, 0.922, 0.922, 0.92 , 0.918, 0.916, 0.914, 0.912, 0.91 ,\n",
       "        0.908, 0.906, 0.904, 0.902, 0.9  , 0.898, 0.896, 0.894, 0.892,\n",
       "        0.89 , 0.888, 0.886, 0.884, 0.884, 0.882, 0.88 , 0.878, 0.878,\n",
       "        0.876, 0.874, 0.872, 0.872, 0.87 , 0.868, 0.866, 0.864, 0.862,\n",
       "        0.86 , 0.858, 0.856, 0.854, 0.852, 0.85 , 0.848, 0.846, 0.844,\n",
       "        0.842, 0.84 , 0.838, 0.836, 0.834, 0.832, 0.83 , 0.828, 0.826,\n",
       "        0.824, 0.822, 0.82 , 0.818, 0.816, 0.814, 0.812, 0.81 , 0.808,\n",
       "        0.806, 0.804, 0.802, 0.8  , 0.798, 0.796, 0.794, 0.792, 0.79 ,\n",
       "        0.788, 0.786, 0.784, 0.782, 0.78 , 0.778, 0.776, 0.774, 0.772,\n",
       "        0.77 , 0.768, 0.766, 0.764, 0.762, 0.76 , 0.758, 0.756, 0.754,\n",
       "        0.752, 0.75 , 0.748, 0.746, 0.744, 0.742, 0.74 , 0.738, 0.736,\n",
       "        0.734, 0.732, 0.73 , 0.728, 0.726, 0.724, 0.722, 0.72 , 0.718,\n",
       "        0.716, 0.714, 0.712, 0.71 , 0.708, 0.706, 0.704, 0.702, 0.7  ,\n",
       "        0.698, 0.696, 0.694, 0.692, 0.69 , 0.688, 0.686, 0.684, 0.682,\n",
       "        0.68 , 0.678, 0.676, 0.674, 0.672, 0.67 , 0.668, 0.666, 0.664,\n",
       "        0.662, 0.66 , 0.658, 0.656, 0.654, 0.652, 0.65 , 0.648, 0.646,\n",
       "        0.644, 0.642, 0.64 , 0.638, 0.636, 0.634, 0.632, 0.63 , 0.628,\n",
       "        0.626, 0.624, 0.622, 0.62 , 0.618, 0.616, 0.614, 0.612, 0.61 ,\n",
       "        0.608, 0.606, 0.604, 0.602, 0.6  , 0.598, 0.596, 0.594, 0.592,\n",
       "        0.59 , 0.588, 0.586, 0.584, 0.582, 0.58 , 0.578, 0.576, 0.574,\n",
       "        0.572, 0.57 , 0.568, 0.566, 0.564, 0.562, 0.56 , 0.558, 0.556,\n",
       "        0.554, 0.552, 0.55 , 0.548, 0.546, 0.544, 0.542, 0.54 , 0.538,\n",
       "        0.536, 0.534, 0.532, 0.53 , 0.528, 0.526, 0.524, 0.522, 0.52 ,\n",
       "        0.518, 0.516, 0.514, 0.512, 0.51 , 0.508, 0.506, 0.504, 0.502,\n",
       "        0.5  , 0.498, 0.496, 0.494, 0.492, 0.49 , 0.488, 0.486, 0.484,\n",
       "        0.482, 0.48 , 0.478, 0.476, 0.474, 0.472, 0.47 , 0.468, 0.466,\n",
       "        0.464, 0.462, 0.46 , 0.458, 0.456, 0.454, 0.452, 0.45 , 0.448,\n",
       "        0.446, 0.444, 0.442, 0.44 , 0.438, 0.436, 0.434, 0.432, 0.43 ,\n",
       "        0.428, 0.426, 0.424, 0.422, 0.42 , 0.418, 0.416, 0.414, 0.412,\n",
       "        0.41 , 0.408, 0.406, 0.404, 0.402, 0.4  , 0.398, 0.396, 0.394,\n",
       "        0.392, 0.39 , 0.388, 0.386, 0.384, 0.382, 0.38 , 0.378, 0.376,\n",
       "        0.374, 0.372, 0.37 , 0.368, 0.366, 0.364, 0.362, 0.36 , 0.358,\n",
       "        0.356, 0.354, 0.352, 0.35 , 0.348, 0.346, 0.344, 0.342, 0.34 ,\n",
       "        0.338, 0.336, 0.334, 0.332, 0.33 , 0.328, 0.326, 0.324, 0.322,\n",
       "        0.32 , 0.318, 0.316, 0.314, 0.312, 0.31 , 0.308, 0.306, 0.304,\n",
       "        0.302, 0.3  , 0.298, 0.296, 0.294, 0.292, 0.29 , 0.288, 0.286,\n",
       "        0.284, 0.282, 0.28 , 0.278, 0.276, 0.274, 0.272, 0.27 , 0.268,\n",
       "        0.266, 0.264, 0.262, 0.26 , 0.258, 0.256, 0.254, 0.252, 0.25 ,\n",
       "        0.248, 0.246, 0.244, 0.242, 0.24 , 0.238, 0.236, 0.234, 0.232,\n",
       "        0.23 , 0.228, 0.226, 0.224, 0.222, 0.22 , 0.218, 0.216, 0.214,\n",
       "        0.212, 0.21 , 0.208, 0.206, 0.204, 0.202, 0.2  , 0.198, 0.196,\n",
       "        0.194, 0.192, 0.19 , 0.188, 0.186, 0.184, 0.182, 0.18 , 0.178,\n",
       "        0.176, 0.174, 0.172, 0.17 , 0.168, 0.166, 0.164, 0.162, 0.16 ,\n",
       "        0.158, 0.156, 0.154, 0.152, 0.15 , 0.148, 0.146, 0.144, 0.142,\n",
       "        0.14 , 0.138, 0.136, 0.134, 0.132, 0.13 , 0.128, 0.126, 0.124,\n",
       "        0.122, 0.12 , 0.118, 0.116, 0.114, 0.112, 0.11 , 0.108, 0.106,\n",
       "        0.104, 0.102, 0.1  , 0.098, 0.096, 0.094, 0.092, 0.09 , 0.088,\n",
       "        0.086, 0.084, 0.082, 0.08 , 0.078, 0.076, 0.074, 0.072, 0.07 ,\n",
       "        0.068, 0.066, 0.064, 0.062, 0.06 , 0.058, 0.056, 0.054, 0.052,\n",
       "        0.05 , 0.048, 0.046, 0.044, 0.042, 0.04 , 0.038, 0.036, 0.034,\n",
       "        0.032, 0.03 , 0.028, 0.026, 0.024, 0.022, 0.02 , 0.018, 0.016,\n",
       "        0.014, 0.012, 0.01 , 0.008, 0.006, 0.004, 0.002, 0.   ]),\n",
       " array([-3.55268874, -3.54605753, -3.52953558, -3.52564714, -3.47090793,\n",
       "        -3.18378494, -2.8883271 , -2.85162817, -2.68798254, -2.60613949,\n",
       "        -2.36986052, -2.33456362, -2.31747791, -2.27272976, -2.26293362,\n",
       "        -2.26034688, -2.0825105 , -2.06806788, -2.0340175 , -1.93641211,\n",
       "        -1.8377236 , -1.82381016, -1.57582147, -1.07704546, -1.02208938,\n",
       "        -0.84584224, -0.83383343, -0.77287294, -0.71599491, -0.62015644,\n",
       "        -0.61716005, -0.60687576, -0.54756499, -0.50750215, -0.49004379,\n",
       "        -0.44318503, -0.43496428, -0.39509009, -0.35443219, -0.18106232,\n",
       "        -0.17689164, -0.14312609,  0.13087464,  0.18899318,  0.34278524,\n",
       "         0.3499291 ,  0.36537344,  0.38401292,  0.49292033,  0.52108207,\n",
       "         0.52461191,  0.69555619,  0.70480905,  0.73719777,  0.83004622,\n",
       "         0.83999912,  0.85470944,  0.87665544,  0.95614861,  1.26291842,\n",
       "         1.29679413,  1.32762467,  1.35980775,  1.37927556,  1.48468493,\n",
       "         1.48634854,  1.49458557,  1.5344504 ,  1.63955754,  1.64891222,\n",
       "         1.89908666,  2.20670408,  2.25003404,  2.27275081,  2.36290191,\n",
       "         2.39402482,  2.54762404,  2.63224879,  2.64788449,  2.76375548,\n",
       "         2.7717528 ,  2.89443084,  2.94590779,  2.9803758 ,  2.99721213,\n",
       "         3.07199883,  3.10564885,  3.14273985,  3.14383371,  3.1611151 ,\n",
       "         3.45142725,  3.49130565,  3.49558987,  3.56912892,  3.57988296,\n",
       "         3.68289733,  3.68417747,  3.75281795,  3.79102778,  3.81039263,\n",
       "         3.87388428,  3.97938225,  4.01095307,  4.0712398 ,  4.17439257,\n",
       "         4.29824811,  4.33462579,  4.37197119,  4.42970872,  4.45518306,\n",
       "         4.7274828 ,  4.73830073,  4.84442193,  4.85292352,  4.86050487,\n",
       "         4.93072584,  4.97225205,  5.18633892,  5.19593434,  5.19666625,\n",
       "         5.25564026,  5.29327413,  5.29442247,  5.29702674,  5.33281519,\n",
       "         5.36709191,  5.39094535,  5.53522294,  5.6774141 ,  5.83347612,\n",
       "         5.98009662,  6.15415106,  6.20240818,  6.36679654,  6.39831515,\n",
       "         6.54589149,  6.5621275 ,  6.71057185,  6.74444421,  6.83174352,\n",
       "         6.98123668,  6.98994394,  7.16305489,  7.21846085,  7.27297406,\n",
       "         7.34177949,  7.35293855,  7.4343675 ,  7.48868169,  7.51408503,\n",
       "         7.53682086,  7.60024688,  7.61409518,  7.62475934,  7.6650968 ,\n",
       "         7.78836372,  7.83422168,  7.85090998,  7.91930387,  8.00866272,\n",
       "         8.1012789 ,  8.17970879,  8.27876829,  8.28422261,  8.39575629,\n",
       "         8.4061603 ,  8.50707736,  8.52017471,  8.7442084 ,  8.78169985,\n",
       "         8.85100814,  9.01133661,  9.04807946,  9.12993064,  9.19758982,\n",
       "         9.28245888,  9.33347402,  9.38658566,  9.43022779,  9.5227382 ,\n",
       "         9.65497978,  9.699697  ,  9.74062678,  9.84765381,  9.95033672,\n",
       "        10.1322877 , 10.21673711, 10.24476248, 10.29083231, 10.36103697,\n",
       "        10.37878201, 10.44976896, 10.47626301, 10.66998427, 10.68262742,\n",
       "        10.79656741, 10.80007628, 10.91600853, 10.94472358, 10.95266357,\n",
       "        10.99491773, 11.01062977, 11.01338862, 11.06182147, 11.19046274,\n",
       "        11.25533083, 11.36476608, 11.42392866, 11.5287366 , 11.66280621,\n",
       "        11.70252928, 11.72705128, 11.73114952, 11.73442654, 11.73562756,\n",
       "        11.74925125, 11.79595789, 11.83332349, 11.98137379, 12.05735666,\n",
       "        12.07311214, 12.22797237, 12.57250889, 12.5856524 , 12.85684321,\n",
       "        12.9147992 , 13.18848363, 13.19938946, 13.31235741, 13.49425413,\n",
       "        13.82380174, 13.95105068, 14.02880867, 14.06865992, 14.39785412,\n",
       "        14.39872068, 14.49591338, 14.60270685, 14.66046578, 14.71050055,\n",
       "        14.93906008, 14.97614258, 15.09476501, 15.19820119, 15.2578603 ,\n",
       "        15.3102711 , 15.32036328, 15.46810692, 15.63609758, 15.66000362,\n",
       "        15.784534  , 15.80124172, 15.82385883, 15.8961904 , 15.92596441,\n",
       "        16.22856193, 16.31976269, 16.4227007 , 16.4237634 , 16.42646492,\n",
       "        16.44869801, 16.49404108, 16.50341076, 16.82412285, 17.1709409 ,\n",
       "        17.25079968, 17.25358502, 17.35250069, 17.57633437, 17.72485733,\n",
       "        17.74456206, 17.88895981, 17.89679685, 18.02847525, 18.33153993,\n",
       "        18.42670671, 18.46207392, 18.49346499, 18.82225872, 18.84637138,\n",
       "        18.84660637, 18.99899534, 19.07192668, 19.08873392, 19.49695254,\n",
       "        19.50681857, 19.77358616, 19.77399781, 19.79767099, 19.84609872,\n",
       "        19.98574546, 20.07897516, 20.09180986, 20.19576555, 20.26897768,\n",
       "        20.39104911, 20.39736191, 20.45377968, 20.46104158, 20.54508333,\n",
       "        20.68786221, 20.71528943, 20.7439379 , 20.74470145, 20.92322563,\n",
       "        20.99969428, 21.11866863, 21.19646654, 21.20164102, 21.21593409,\n",
       "        21.2174623 , 21.27585186, 21.36045788, 21.43306371, 21.5032333 ,\n",
       "        21.5047317 , 21.61172207, 21.6938942 , 21.89555131, 21.93632732,\n",
       "        21.96203602, 22.04188981, 22.07992365, 22.12639937, 22.14842425,\n",
       "        22.27755079, 22.41737403, 22.46011084, 22.56220248, 22.64871332,\n",
       "        22.72560578, 22.73496165, 23.00982006, 23.01387664, 23.05064312,\n",
       "        23.24657089, 23.29334621, 23.42835739, 23.44869495, 23.45548461,\n",
       "        23.5161598 , 23.65917794, 23.86018028, 23.92315271, 24.13959427,\n",
       "        24.16542494, 24.23180068, 24.29603969, 24.38951839, 24.41552985,\n",
       "        24.50732363, 24.54557965, 25.33265702, 25.67246305, 25.84433157,\n",
       "        25.88495108, 25.88897769, 25.92008789, 26.06539573, 26.21694799,\n",
       "        26.24359696, 26.31349247, 26.42032357, 26.49415585, 26.5280764 ,\n",
       "        26.5282088 , 26.53103043, 26.57113916, 26.67008094, 26.86541625,\n",
       "        26.95009113, 26.95469985, 26.99870975, 27.06322583, 27.08823585,\n",
       "        27.10592056, 27.2226225 , 27.23184189, 27.26074557, 27.5384772 ,\n",
       "        27.6674355 , 28.43808656, 28.67250259, 28.73774115, 28.79654415,\n",
       "        28.86306882, 29.43410558, 29.45441547, 29.57363565, 29.7647692 ,\n",
       "        30.73422708, 30.75418812, 30.92665696, 30.95592376, 30.98454475,\n",
       "        31.0048957 , 31.01112417, 31.015864  , 31.03961395, 31.09680117,\n",
       "        31.11040994, 31.7540419 , 31.88911593, 31.92799875, 32.02170345,\n",
       "        32.09059943, 32.15985975, 32.22796607, 32.38875368, 32.49637899,\n",
       "        32.51859607, 32.63872102, 32.72641185, 32.80426916, 32.81171884,\n",
       "        32.85700645, 32.9196993 , 33.0015349 , 33.02302529, 33.09114623,\n",
       "        33.18510457, 33.23257208, 33.61943722, 34.12327227, 34.13975199,\n",
       "        34.14995974, 34.45702279, 34.49908448, 34.89963533, 34.9597728 ,\n",
       "        35.07181898, 35.24211072, 35.26414452, 35.41626819, 35.5496509 ,\n",
       "        35.65659192, 36.05156141, 36.06075773, 36.12046252, 36.45229012,\n",
       "        36.53177172, 36.79397765, 36.91966262, 36.93191202, 36.95803602,\n",
       "        37.03844163, 37.06062999, 37.11577408, 37.29329321, 37.40958733,\n",
       "        38.21832007, 38.33505653, 38.43894643, 38.97612567, 39.11746516,\n",
       "        39.31618441, 39.43422809, 39.75922003, 39.89257377, 39.90263252,\n",
       "        40.04940108, 40.52894708, 40.73959184, 41.03571269, 41.14421999,\n",
       "        41.22943711, 41.24673032, 41.33346693, 41.62046487, 41.66837011,\n",
       "        41.69601579, 41.72398186, 41.86220444, 42.09458392, 42.35888087,\n",
       "        42.77406279, 42.84039849, 43.01188247, 43.33544695, 43.67805017,\n",
       "        43.71171165, 43.80303598, 43.96974353, 44.67253149, 44.93993948,\n",
       "        45.03740202, 45.08752365, 45.14144634, 45.27663075, 45.68987447,\n",
       "        46.25432841, 46.29467404, 46.29529204, 46.49169249, 46.64335181,\n",
       "        46.75146907, 46.95531979, 47.89430135, 48.02616124, 48.03111482,\n",
       "        48.25554493, 48.2777642 , 49.03189996, 49.27571302, 49.41412479,\n",
       "        50.83000728, 50.9071658 , 51.45199414, 51.58740976, 51.63696528,\n",
       "        51.71186486, 52.00452671, 53.08441177, 53.42317812, 54.07850801,\n",
       "        54.82505802, 56.47300415, 57.69154462, 57.8651134 , 58.78303178,\n",
       "        58.98442494, 59.21959892, 60.29966549, 61.82992612, 62.25832818,\n",
       "        64.74654386, 68.27910807, 69.81450181, 77.19386698]))"
      ]
     },
     "execution_count": 31,
     "metadata": {},
     "output_type": "execute_result"
    }
   ],
   "source": [
    "from sklearn.metrics import precision_recall_curve\n",
    "precisions, recalls, thresholds=precision_recall_curve(y_train_3,y_scores)\n",
    "precisions, recalls, thresholds"
   ]
  },
  {
   "cell_type": "code",
   "execution_count": 32,
   "metadata": {},
   "outputs": [
    {
     "data": {
      "image/png": "[encoded data removed]",
      "text/plain": [
       "<Figure size 576x288 with 1 Axes>"
      ]
     },
     "metadata": {
      "needs_background": "light"
     },
     "output_type": "display_data"
    }
   ],
   "source": [
    "def plot_precision_recall_vs_threshold(precisions, recalls, thresholds):\n",
    "    plt.plot(thresholds, precisions[:-1], \"b--\", label=\"Precision\", linewidth=2)\n",
    "    plt.plot(thresholds, recalls[:-1], \"g-\", label=\"Recall\", linewidth=2)\n",
    "    plt.legend(loc=\"center right\", fontsize=16)\n",
    "    plt.xlabel(\"Threshold\", fontsize=16)\n",
    "    plt.grid(True)\n",
    "    #plt.axis([-5, 70, 0, 1.1])\n",
    "\n",
    "\n",
    "recall_90_precision = recalls[np.argmax(precisions >= 0.90)]\n",
    "threshold_90_precision = thresholds[np.argmax(precisions >= 0.90)]\n",
    "\n",
    "plt.figure(figsize=(8, 4))\n",
    "plot_precision_recall_vs_threshold(precisions, recalls, thresholds)\n",
    "plt.plot([threshold_90_precision, threshold_90_precision], [0., 0.99], \"r:\")\n",
    "#plt.plot([-4, threshold_90_precision], [0.9, 0.9], \"r:\")\n",
    "#plt.plot([-4, threshold_90_precision], [recall_90_precision, recall_90_precision], \"r:\")\n",
    "plt.plot([threshold_90_precision], [0.9], \"ro\")\n",
    "plt.plot([threshold_90_precision], [recall_90_precision], \"ro\")\n",
    "plt.show()"
   ]
  },
  {
   "cell_type": "code",
   "execution_count": 33,
   "metadata": {},
   "outputs": [
    {
     "data": {
      "image/png": "[encoded data removed]",
      "text/plain": [
       "<Figure size 432x288 with 1 Axes>"
      ]
     },
     "metadata": {
      "needs_background": "light"
     },
     "output_type": "display_data"
    }
   ],
   "source": [
    "plt.hist(y_train, histtype='bar', bins=[0, 1, 2, 3, 4], ec='black', rwidth=0.5,\n",
    "         align='left')\n",
    "plt.xticks(np.arange(0, 4, 1))\n",
    "plt.show()"
   ]
  },
  {
   "cell_type": "code",
   "execution_count": 34,
   "metadata": {},
   "outputs": [
    {
     "data": {
      "text/plain": [
       "0.9625126646403241"
      ]
     },
     "execution_count": 34,
     "metadata": {},
     "output_type": "execute_result"
    }
   ],
   "source": [
    "from sklearn.metrics import f1_score\n",
    "f1_sgd=f1_score(y_train_3,y_train_pred)\n",
    "f1_sgd"
   ]
  },
  {
   "cell_type": "code",
   "execution_count": 35,
   "metadata": {},
   "outputs": [
    {
     "data": {
      "text/html": [
       "<div>\n",
       "<style scoped>\n",
       "    .dataframe tbody tr th:only-of-type {\n",
       "        vertical-align: middle;\n",
       "    }\n",
       "\n",
       "    .dataframe tbody tr th {\n",
       "        vertical-align: top;\n",
       "    }\n",
       "\n",
       "    .dataframe thead th {\n",
       "        text-align: right;\n",
       "    }\n",
       "</style>\n",
       "<table border=\"1\" class=\"dataframe\">\n",
       "  <thead>\n",
       "    <tr style=\"text-align: right;\">\n",
       "      <th></th>\n",
       "      <th>Model</th>\n",
       "      <th>Accuracy</th>\n",
       "      <th>Precision</th>\n",
       "      <th>Recall</th>\n",
       "      <th>F1</th>\n",
       "    </tr>\n",
       "  </thead>\n",
       "  <tbody>\n",
       "    <tr>\n",
       "      <th>0</th>\n",
       "      <td>Binary SGD</td>\n",
       "      <td>0.9815</td>\n",
       "      <td>0.975359</td>\n",
       "      <td>0.95</td>\n",
       "      <td>0.962513</td>\n",
       "    </tr>\n",
       "  </tbody>\n",
       "</table>\n",
       "</div>"
      ],
      "text/plain": [
       "        Model  Accuracy  Precision  Recall        F1\n",
       "0  Binary SGD    0.9815   0.975359    0.95  0.962513"
      ]
     },
     "execution_count": 35,
     "metadata": {},
     "output_type": "execute_result"
    }
   ],
   "source": [
    "row = result_tab.shape[0]\n",
    "result_tab.loc[row] = ['Binary SGD',sgd_accu,precision_sgd,recall_sgd,f1_sgd]\n",
    "result_tab.sort_values(by = 'Accuracy', ascending=False)\n",
    "result_tab"
   ]
  },
  {
   "cell_type": "code",
   "execution_count": 36,
   "metadata": {},
   "outputs": [
    {
     "data": {
      "text/plain": [
       "SGDClassifier(random_state=42)"
      ]
     },
     "execution_count": 36,
     "metadata": {},
     "output_type": "execute_result"
    }
   ],
   "source": [
    "#let's try multi class with OvA default of SGDclassifier\n",
    "sgd_cls.fit(X_train_scale, y_train)"
   ]
  },
  {
   "cell_type": "code",
   "execution_count": 37,
   "metadata": {},
   "outputs": [
    {
     "data": {
      "text/plain": [
       "(array([3, 3]), 1, 3)"
      ]
     },
     "execution_count": 37,
     "metadata": {},
     "output_type": "execute_result"
    }
   ],
   "source": [
    "y_pred=sgd_cls.predict([X_1,X_2])\n",
    "y_pred, y_train.loc[5], y_train.loc[10]"
   ]
  },
  {
   "cell_type": "code",
   "execution_count": 38,
   "metadata": {},
   "outputs": [
    {
     "data": {
      "text/plain": [
       "0.7765000000000001"
      ]
     },
     "execution_count": 38,
     "metadata": {},
     "output_type": "execute_result"
    }
   ],
   "source": [
    "sgd_score=cross_val_score(sgd_cls, X_train_scale, y_train, \n",
    "                          cv=5, scoring='accuracy')\n",
    "sgd_accu_multi=sgd_score.mean()\n",
    "sgd_accu_multi"
   ]
  },
  {
   "cell_type": "code",
   "execution_count": 39,
   "metadata": {},
   "outputs": [
    {
     "data": {
      "text/plain": [
       "array([2, 1, 1, ..., 3, 0, 3])"
      ]
     },
     "execution_count": 39,
     "metadata": {},
     "output_type": "execute_result"
    }
   ],
   "source": [
    "y_predict=cross_val_predict(sgd_cls,X_train_scale,y_train, cv=5)\n",
    "y_predict"
   ]
  },
  {
   "cell_type": "code",
   "execution_count": 40,
   "metadata": {},
   "outputs": [
    {
     "data": {
      "text/plain": [
       "array([[482,  12,   6,   0],\n",
       "       [ 20, 287, 193,   0],\n",
       "       [  0, 186, 295,  19],\n",
       "       [  0,   1,  10, 489]])"
      ]
     },
     "execution_count": 40,
     "metadata": {},
     "output_type": "execute_result"
    }
   ],
   "source": [
    "conf_matrix=confusion_matrix(y_train,y_predict)\n",
    "conf_matrix"
   ]
  },
  {
   "cell_type": "code",
   "execution_count": 41,
   "metadata": {},
   "outputs": [
    {
     "data": {
      "text/plain": [
       "<matplotlib.image.AxesImage at 0x7f8c701b08b0>"
      ]
     },
     "execution_count": 41,
     "metadata": {},
     "output_type": "execute_result"
    },
    {
     "data": {
      "image/png": "[encoded data removed]",
      "text/plain": [
       "<Figure size 432x288 with 1 Axes>"
      ]
     },
     "metadata": {
      "needs_background": "light"
     },
     "output_type": "display_data"
    }
   ],
   "source": [
    "plt.imshow(conf_matrix, cmap=plt.cm.gray) # 0=Black , 1=white"
   ]
  },
  {
   "cell_type": "code",
   "execution_count": 42,
   "metadata": {},
   "outputs": [
    {
     "data": {
      "text/plain": [
       "<matplotlib.image.AxesImage at 0x7f8c7018cd60>"
      ]
     },
     "execution_count": 42,
     "metadata": {},
     "output_type": "execute_result"
    },
    {
     "data": {
      "image/png": "[encoded data removed]",
      "text/plain": [
       "<Figure size 288x288 with 1 Axes>"
      ]
     },
     "metadata": {
      "needs_background": "light"
     },
     "output_type": "display_data"
    }
   ],
   "source": [
    "row_sums = conf_matrix.sum(axis=1, keepdims=True)\n",
    "norm_conf_matrix = conf_matrix / row_sums\n",
    "np.fill_diagonal(norm_conf_matrix, 0)\n",
    "plt.matshow(norm_conf_matrix, cmap=plt.cm.gray)"
   ]
  },
  {
   "cell_type": "code",
   "execution_count": 43,
   "metadata": {},
   "outputs": [
    {
     "data": {
      "text/plain": [
       "(0.7765, 0.7746525568719949, 0.7755283618379513)"
      ]
     },
     "execution_count": 43,
     "metadata": {},
     "output_type": "execute_result"
    }
   ],
   "source": [
    "recall_sgd_multi=recall_score(y_train, y_predict,average='weighted')\n",
    "precision_sgd_multi=precision_score(y_train, y_predict,average='weighted')\n",
    "f1_sgd_multi=f1_score(y_train, y_predict,average='weighted')\n",
    "recall_sgd_multi,precision_sgd_multi,f1_sgd_multi"
   ]
  },
  {
   "cell_type": "code",
   "execution_count": 44,
   "metadata": {},
   "outputs": [
    {
     "data": {
      "text/html": [
       "<div>\n",
       "<style scoped>\n",
       "    .dataframe tbody tr th:only-of-type {\n",
       "        vertical-align: middle;\n",
       "    }\n",
       "\n",
       "    .dataframe tbody tr th {\n",
       "        vertical-align: top;\n",
       "    }\n",
       "\n",
       "    .dataframe thead th {\n",
       "        text-align: right;\n",
       "    }\n",
       "</style>\n",
       "<table border=\"1\" class=\"dataframe\">\n",
       "  <thead>\n",
       "    <tr style=\"text-align: right;\">\n",
       "      <th></th>\n",
       "      <th>Model</th>\n",
       "      <th>Accuracy</th>\n",
       "      <th>Precision</th>\n",
       "      <th>Recall</th>\n",
       "      <th>F1</th>\n",
       "    </tr>\n",
       "  </thead>\n",
       "  <tbody>\n",
       "    <tr>\n",
       "      <th>0</th>\n",
       "      <td>Binary SGD</td>\n",
       "      <td>0.9815</td>\n",
       "      <td>0.975359</td>\n",
       "      <td>0.9500</td>\n",
       "      <td>0.962513</td>\n",
       "    </tr>\n",
       "    <tr>\n",
       "      <th>1</th>\n",
       "      <td>SGDClassifier</td>\n",
       "      <td>0.7765</td>\n",
       "      <td>0.774653</td>\n",
       "      <td>0.7765</td>\n",
       "      <td>0.775528</td>\n",
       "    </tr>\n",
       "  </tbody>\n",
       "</table>\n",
       "</div>"
      ],
      "text/plain": [
       "           Model  Accuracy  Precision  Recall        F1\n",
       "0     Binary SGD    0.9815   0.975359  0.9500  0.962513\n",
       "1  SGDClassifier    0.7765   0.774653  0.7765  0.775528"
      ]
     },
     "execution_count": 44,
     "metadata": {},
     "output_type": "execute_result"
    }
   ],
   "source": [
    "row = result_tab.shape[0]\n",
    "result_tab.loc[row] = ['SGDClassifier',sgd_accu_multi,precision_sgd_multi,recall_sgd_multi,f1_sgd_multi]\n",
    "result_tab.sort_values(by = 'Accuracy', ascending=False)\n",
    "result_tab"
   ]
  },
  {
   "cell_type": "code",
   "execution_count": 86,
   "metadata": {},
   "outputs": [
    {
     "data": {
      "text/plain": [
       "DecisionTreeClassifier(random_state=42)"
      ]
     },
     "execution_count": 86,
     "metadata": {},
     "output_type": "execute_result"
    }
   ],
   "source": [
    "tree_cls=DecisionTreeClassifier(random_state=42)\n",
    "tree_cls.fit(X_train_scale,y_train)"
   ]
  },
  {
   "cell_type": "code",
   "execution_count": 87,
   "metadata": {},
   "outputs": [
    {
     "data": {
      "text/plain": [
       "(array([3, 3]), 1)"
      ]
     },
     "execution_count": 87,
     "metadata": {},
     "output_type": "execute_result"
    }
   ],
   "source": [
    "tree_cls.predict([X_1,X_2]), y_train.loc[5]"
   ]
  },
  {
   "cell_type": "code",
   "execution_count": 88,
   "metadata": {},
   "outputs": [
    {
     "data": {
      "text/plain": [
       "0.8225"
      ]
     },
     "execution_count": 88,
     "metadata": {},
     "output_type": "execute_result"
    }
   ],
   "source": [
    "tree_score=cross_val_score(tree_cls,X_train_scale,y_train, \n",
    "                           cv=5, scoring='accuracy')\n",
    "tree_accu=tree_score.mean()\n",
    "tree_accu"
   ]
  },
  {
   "cell_type": "code",
   "execution_count": 94,
   "metadata": {},
   "outputs": [
    {
     "data": {
      "text/plain": [
       "array([[445,  55,   0,   0],\n",
       "       [ 63, 371,  66,   0],\n",
       "       [  0,  54, 388,  58],\n",
       "       [  0,   0,  59, 441]])"
      ]
     },
     "execution_count": 94,
     "metadata": {},
     "output_type": "execute_result"
    }
   ],
   "source": [
    "tree_pred=cross_val_predict(tree_cls,X_train_scale,y_train,cv=5)\n",
    "tree_conf_mx=confusion_matrix(y_train,tree_pred)\n",
    "tree_conf_mx"
   ]
  },
  {
   "cell_type": "code",
   "execution_count": 95,
   "metadata": {},
   "outputs": [
    {
     "data": {
      "text/plain": [
       "<matplotlib.image.AxesImage at 0x7f69332e8d30>"
      ]
     },
     "execution_count": 95,
     "metadata": {},
     "output_type": "execute_result"
    },
    {
     "data": {
      "image/png": "[encoded data removed]",
      "text/plain": [
       "<Figure size 432x288 with 1 Axes>"
      ]
     },
     "metadata": {
      "needs_background": "light"
     },
     "output_type": "display_data"
    }
   ],
   "source": [
    "plt.imshow(tree_conf_mx, cmap=plt.cm.gray)"
   ]
  },
  {
   "cell_type": "code",
   "execution_count": 96,
   "metadata": {},
   "outputs": [
    {
     "data": {
      "text/plain": [
       "(0.8225, 0.8222509340890958, 0.8222509272422895)"
      ]
     },
     "execution_count": 96,
     "metadata": {},
     "output_type": "execute_result"
    }
   ],
   "source": [
    "recall_tree=recall_score(y_train,tree_pred,average='weighted')\n",
    "precision_tree=precision_score(y_train,tree_pred,average='weighted')\n",
    "f1_tree=f1_score(y_train,tree_pred,average='weighted')\n",
    "recall_tree, precision_tree,f1_tree"
   ]
  },
  {
   "cell_type": "code",
   "execution_count": 100,
   "metadata": {},
   "outputs": [
    {
     "data": {
      "text/html": [
       "<div>\n",
       "<style scoped>\n",
       "    .dataframe tbody tr th:only-of-type {\n",
       "        vertical-align: middle;\n",
       "    }\n",
       "\n",
       "    .dataframe tbody tr th {\n",
       "        vertical-align: top;\n",
       "    }\n",
       "\n",
       "    .dataframe thead th {\n",
       "        text-align: right;\n",
       "    }\n",
       "</style>\n",
       "<table border=\"1\" class=\"dataframe\">\n",
       "  <thead>\n",
       "    <tr style=\"text-align: right;\">\n",
       "      <th></th>\n",
       "      <th>Model</th>\n",
       "      <th>Accuracy</th>\n",
       "      <th>Precision</th>\n",
       "      <th>Recall</th>\n",
       "      <th>F1</th>\n",
       "    </tr>\n",
       "  </thead>\n",
       "  <tbody>\n",
       "    <tr>\n",
       "      <th>0</th>\n",
       "      <td>Binary SGD</td>\n",
       "      <td>0.9815</td>\n",
       "      <td>0.975359</td>\n",
       "      <td>0.9500</td>\n",
       "      <td>0.962513</td>\n",
       "    </tr>\n",
       "    <tr>\n",
       "      <th>1</th>\n",
       "      <td>SGDClassifier</td>\n",
       "      <td>0.7765</td>\n",
       "      <td>0.774653</td>\n",
       "      <td>0.7765</td>\n",
       "      <td>0.775528</td>\n",
       "    </tr>\n",
       "    <tr>\n",
       "      <th>2</th>\n",
       "      <td>DecisionTree</td>\n",
       "      <td>0.8225</td>\n",
       "      <td>0.822251</td>\n",
       "      <td>0.8225</td>\n",
       "      <td>0.822251</td>\n",
       "    </tr>\n",
       "  </tbody>\n",
       "</table>\n",
       "</div>"
      ],
      "text/plain": [
       "           Model  Accuracy  Precision  Recall        F1\n",
       "0     Binary SGD    0.9815   0.975359  0.9500  0.962513\n",
       "1  SGDClassifier    0.7765   0.774653  0.7765  0.775528\n",
       "2   DecisionTree    0.8225   0.822251  0.8225  0.822251"
      ]
     },
     "execution_count": 100,
     "metadata": {},
     "output_type": "execute_result"
    }
   ],
   "source": [
    "row = result_tab.shape[0]\n",
    "result_tab.loc[row] = ['DecisionTree',tree_accu,precision_tree,recall_tree,f1_tree]\n",
    "result_tab.sort_values(by = 'Accuracy', ascending=False)\n",
    "result_tab"
   ]
  },
  {
   "cell_type": "code",
   "execution_count": 101,
   "metadata": {},
   "outputs": [
    {
     "data": {
      "text/plain": [
       "RandomForestClassifier(random_state=42)"
      ]
     },
     "execution_count": 101,
     "metadata": {},
     "output_type": "execute_result"
    }
   ],
   "source": [
    "forest_cls=RandomForestClassifier(n_estimators=100, random_state=42)\n",
    "forest_cls.fit(X_train_scale,y_train)"
   ]
  },
  {
   "cell_type": "code",
   "execution_count": 102,
   "metadata": {},
   "outputs": [
    {
     "data": {
      "text/plain": [
       "array([3, 3])"
      ]
     },
     "execution_count": 102,
     "metadata": {},
     "output_type": "execute_result"
    }
   ],
   "source": [
    "forest_cls.predict([X_1,X_2])"
   ]
  },
  {
   "cell_type": "code",
   "execution_count": 103,
   "metadata": {},
   "outputs": [
    {
     "data": {
      "text/plain": [
       "0.8775000000000001"
      ]
     },
     "execution_count": 103,
     "metadata": {},
     "output_type": "execute_result"
    }
   ],
   "source": [
    "forest_score=cross_val_score(forest_cls,X_train_scale,y_train, \n",
    "                             cv=5, scoring='accuracy')\n",
    "forest_accu=forest_score.mean()\n",
    "forest_accu"
   ]
  },
  {
   "cell_type": "code",
   "execution_count": 104,
   "metadata": {},
   "outputs": [
    {
     "data": {
      "text/plain": [
       "(array([[474,  26,   0,   0],\n",
       "        [ 42, 418,  40,   0],\n",
       "        [  0,  59, 405,  36],\n",
       "        [  0,   0,  42, 458]]),\n",
       " array([[445,  55,   0,   0],\n",
       "        [ 63, 371,  66,   0],\n",
       "        [  0,  54, 388,  58],\n",
       "        [  0,   0,  59, 441]]))"
      ]
     },
     "execution_count": 104,
     "metadata": {},
     "output_type": "execute_result"
    }
   ],
   "source": [
    "forest_pred=cross_val_predict(forest_cls,X_train_scale,y_train, cv=5)\n",
    "forest_conf_mx=confusion_matrix(y_train,forest_pred)\n",
    "forest_conf_mx==tree_conf_mx\n",
    "forest_conf_mx, tree_conf_mx"
   ]
  },
  {
   "cell_type": "code",
   "execution_count": 144,
   "metadata": {},
   "outputs": [
    {
     "data": {
      "text/plain": [
       "<matplotlib.image.AxesImage at 0x7fd9fcf1ea60>"
      ]
     },
     "execution_count": 144,
     "metadata": {},
     "output_type": "execute_result"
    },
    {
     "data": {
      "image/png": "[encoded data removed]",
      "text/plain": [
       "<Figure size 432x288 with 1 Axes>"
      ]
     },
     "metadata": {
      "needs_background": "light"
     },
     "output_type": "display_data"
    }
   ],
   "source": [
    "plt.imshow(forest_conf_mx, cmap=plt.cm.gray)"
   ]
  },
  {
   "cell_type": "code",
   "execution_count": 105,
   "metadata": {},
   "outputs": [
    {
     "data": {
      "text/plain": [
       "(0.8775, 0.8770915625820087, 0.8771920589241665)"
      ]
     },
     "execution_count": 105,
     "metadata": {},
     "output_type": "execute_result"
    }
   ],
   "source": [
    "recall_forest=recall_score(y_train,forest_pred,average='weighted')\n",
    "precision_forest=precision_score(y_train,forest_pred,average='weighted')\n",
    "f1_forest=f1_score(y_train,forest_pred,average='weighted')\n",
    "recall_forest, precision_forest, f1_forest"
   ]
  },
  {
   "cell_type": "code",
   "execution_count": 106,
   "metadata": {},
   "outputs": [
    {
     "data": {
      "text/html": [
       "<div>\n",
       "<style scoped>\n",
       "    .dataframe tbody tr th:only-of-type {\n",
       "        vertical-align: middle;\n",
       "    }\n",
       "\n",
       "    .dataframe tbody tr th {\n",
       "        vertical-align: top;\n",
       "    }\n",
       "\n",
       "    .dataframe thead th {\n",
       "        text-align: right;\n",
       "    }\n",
       "</style>\n",
       "<table border=\"1\" class=\"dataframe\">\n",
       "  <thead>\n",
       "    <tr style=\"text-align: right;\">\n",
       "      <th></th>\n",
       "      <th>Model</th>\n",
       "      <th>Accuracy</th>\n",
       "      <th>Precision</th>\n",
       "      <th>Recall</th>\n",
       "      <th>F1</th>\n",
       "    </tr>\n",
       "  </thead>\n",
       "  <tbody>\n",
       "    <tr>\n",
       "      <th>0</th>\n",
       "      <td>Binary SGD</td>\n",
       "      <td>0.9815</td>\n",
       "      <td>0.975359</td>\n",
       "      <td>0.9500</td>\n",
       "      <td>0.962513</td>\n",
       "    </tr>\n",
       "    <tr>\n",
       "      <th>1</th>\n",
       "      <td>SGDClassifier</td>\n",
       "      <td>0.7765</td>\n",
       "      <td>0.774653</td>\n",
       "      <td>0.7765</td>\n",
       "      <td>0.775528</td>\n",
       "    </tr>\n",
       "    <tr>\n",
       "      <th>2</th>\n",
       "      <td>DecisionTree</td>\n",
       "      <td>0.8225</td>\n",
       "      <td>0.822251</td>\n",
       "      <td>0.8225</td>\n",
       "      <td>0.822251</td>\n",
       "    </tr>\n",
       "    <tr>\n",
       "      <th>3</th>\n",
       "      <td>RandomForest</td>\n",
       "      <td>0.8775</td>\n",
       "      <td>0.877092</td>\n",
       "      <td>0.8775</td>\n",
       "      <td>0.877192</td>\n",
       "    </tr>\n",
       "  </tbody>\n",
       "</table>\n",
       "</div>"
      ],
      "text/plain": [
       "           Model  Accuracy  Precision  Recall        F1\n",
       "0     Binary SGD    0.9815   0.975359  0.9500  0.962513\n",
       "1  SGDClassifier    0.7765   0.774653  0.7765  0.775528\n",
       "2   DecisionTree    0.8225   0.822251  0.8225  0.822251\n",
       "3   RandomForest    0.8775   0.877092  0.8775  0.877192"
      ]
     },
     "execution_count": 106,
     "metadata": {},
     "output_type": "execute_result"
    }
   ],
   "source": [
    "row = result_tab.shape[0]\n",
    "result_tab.loc[row] = ['RandomForest',forest_accu,precision_forest,recall_forest,f1_forest]\n",
    "result_tab.sort_values(by = 'Accuracy', ascending=False)\n",
    "result_tab"
   ]
  },
  {
   "cell_type": "code",
   "execution_count": 107,
   "metadata": {},
   "outputs": [
    {
     "data": {
      "text/plain": [
       "OneVsOneClassifier(estimator=SGDClassifier(random_state=42))"
      ]
     },
     "execution_count": 107,
     "metadata": {},
     "output_type": "execute_result"
    }
   ],
   "source": [
    "# It looks very good model, but let us try the last one, OvO\n",
    "ovo_cls=OneVsOneClassifier(SGDClassifier(random_state=42))\n",
    "ovo_cls.fit(X_train_scale,y_train)"
   ]
  },
  {
   "cell_type": "code",
   "execution_count": 108,
   "metadata": {},
   "outputs": [
    {
     "data": {
      "text/plain": [
       "array([3, 3])"
      ]
     },
     "execution_count": 108,
     "metadata": {},
     "output_type": "execute_result"
    }
   ],
   "source": [
    "ovo_cls.predict([X_1,X_2])"
   ]
  },
  {
   "cell_type": "code",
   "execution_count": 110,
   "metadata": {},
   "outputs": [
    {
     "data": {
      "text/plain": [
       "0.953"
      ]
     },
     "execution_count": 110,
     "metadata": {},
     "output_type": "execute_result"
    }
   ],
   "source": [
    "ovo_scores=cross_val_score(ovo_cls, X_train_scale,y_train, cv=5, scoring='accuracy')\n",
    "ovo_accu=ovo_scores.mean()\n",
    "ovo_accu"
   ]
  },
  {
   "cell_type": "code",
   "execution_count": 111,
   "metadata": {},
   "outputs": [
    {
     "data": {
      "text/plain": [
       "array([[481,  19,   0,   0],\n",
       "       [ 10, 465,  25,   0],\n",
       "       [  0,  22, 468,  10],\n",
       "       [  0,   0,  18, 482]])"
      ]
     },
     "execution_count": 111,
     "metadata": {},
     "output_type": "execute_result"
    }
   ],
   "source": [
    "ovo_pred=cross_val_predict(ovo_cls,X_train_scale,y_train, cv=10)\n",
    "ovo_conf_mx=confusion_matrix(y_train,ovo_pred)\n",
    "ovo_conf_mx"
   ]
  },
  {
   "cell_type": "code",
   "execution_count": 154,
   "metadata": {},
   "outputs": [
    {
     "data": {
      "text/plain": [
       "<matplotlib.image.AxesImage at 0x7fda04899e80>"
      ]
     },
     "execution_count": 154,
     "metadata": {},
     "output_type": "execute_result"
    },
    {
     "data": {
      "image/png": "[encoded data removed]",
      "text/plain": [
       "<Figure size 432x288 with 1 Axes>"
      ]
     },
     "metadata": {
      "needs_background": "light"
     },
     "output_type": "display_data"
    }
   ],
   "source": [
    "plt.imshow(ovo_conf_mx, cmap=plt.cm.gray)"
   ]
  },
  {
   "cell_type": "code",
   "execution_count": 113,
   "metadata": {},
   "outputs": [
    {
     "data": {
      "text/plain": [
       "(0.948, 0.9485329505003572, 0.9481950318180884)"
      ]
     },
     "execution_count": 113,
     "metadata": {},
     "output_type": "execute_result"
    }
   ],
   "source": [
    "recall_ovo_sgd=recall_score(y_train,ovo_pred,average='weighted')\n",
    "precision_ovo_sgd=precision_score(y_train,ovo_pred,average='weighted')\n",
    "f1_ovo_sgd=f1_score(y_train,ovo_pred,average='weighted')\n",
    "recall_ovo_sgd,precision_ovo_sgd,f1_ovo_sgd"
   ]
  },
  {
   "cell_type": "code",
   "execution_count": 114,
   "metadata": {},
   "outputs": [
    {
     "data": {
      "text/html": [
       "<div>\n",
       "<style scoped>\n",
       "    .dataframe tbody tr th:only-of-type {\n",
       "        vertical-align: middle;\n",
       "    }\n",
       "\n",
       "    .dataframe tbody tr th {\n",
       "        vertical-align: top;\n",
       "    }\n",
       "\n",
       "    .dataframe thead th {\n",
       "        text-align: right;\n",
       "    }\n",
       "</style>\n",
       "<table border=\"1\" class=\"dataframe\">\n",
       "  <thead>\n",
       "    <tr style=\"text-align: right;\">\n",
       "      <th></th>\n",
       "      <th>Model</th>\n",
       "      <th>Accuracy</th>\n",
       "      <th>Precision</th>\n",
       "      <th>Recall</th>\n",
       "      <th>F1</th>\n",
       "    </tr>\n",
       "  </thead>\n",
       "  <tbody>\n",
       "    <tr>\n",
       "      <th>0</th>\n",
       "      <td>Binary SGD</td>\n",
       "      <td>0.9815</td>\n",
       "      <td>0.975359</td>\n",
       "      <td>0.9500</td>\n",
       "      <td>0.962513</td>\n",
       "    </tr>\n",
       "    <tr>\n",
       "      <th>1</th>\n",
       "      <td>SGDClassifier</td>\n",
       "      <td>0.7765</td>\n",
       "      <td>0.774653</td>\n",
       "      <td>0.7765</td>\n",
       "      <td>0.775528</td>\n",
       "    </tr>\n",
       "    <tr>\n",
       "      <th>2</th>\n",
       "      <td>DecisionTree</td>\n",
       "      <td>0.8225</td>\n",
       "      <td>0.822251</td>\n",
       "      <td>0.8225</td>\n",
       "      <td>0.822251</td>\n",
       "    </tr>\n",
       "    <tr>\n",
       "      <th>3</th>\n",
       "      <td>RandomForest</td>\n",
       "      <td>0.8775</td>\n",
       "      <td>0.877092</td>\n",
       "      <td>0.8775</td>\n",
       "      <td>0.877192</td>\n",
       "    </tr>\n",
       "    <tr>\n",
       "      <th>4</th>\n",
       "      <td>SGD_OneVsOne</td>\n",
       "      <td>0.9530</td>\n",
       "      <td>0.948533</td>\n",
       "      <td>0.9480</td>\n",
       "      <td>0.948195</td>\n",
       "    </tr>\n",
       "  </tbody>\n",
       "</table>\n",
       "</div>"
      ],
      "text/plain": [
       "           Model  Accuracy  Precision  Recall        F1\n",
       "0     Binary SGD    0.9815   0.975359  0.9500  0.962513\n",
       "1  SGDClassifier    0.7765   0.774653  0.7765  0.775528\n",
       "2   DecisionTree    0.8225   0.822251  0.8225  0.822251\n",
       "3   RandomForest    0.8775   0.877092  0.8775  0.877192\n",
       "4   SGD_OneVsOne    0.9530   0.948533  0.9480  0.948195"
      ]
     },
     "execution_count": 114,
     "metadata": {},
     "output_type": "execute_result"
    }
   ],
   "source": [
    "row = result_tab.shape[0]\n",
    "result_tab.loc[row] = ['SGD_OneVsOne',ovo_accu,precision_ovo_sgd,recall_ovo_sgd,f1_ovo_sgd]\n",
    "result_tab.sort_values(by = 'Accuracy', ascending=False)\n",
    "result_tab"
   ]
  },
  {
   "cell_type": "code",
   "execution_count": 115,
   "metadata": {},
   "outputs": [
    {
     "data": {
      "text/plain": [
       "OneVsOneClassifier(estimator=DecisionTreeClassifier(random_state=42))"
      ]
     },
     "execution_count": 115,
     "metadata": {},
     "output_type": "execute_result"
    }
   ],
   "source": [
    "ovo_cls_tree=OneVsOneClassifier(DecisionTreeClassifier(random_state=42))\n",
    "ovo_cls_tree.fit(X_train_scale,y_train)"
   ]
  },
  {
   "cell_type": "code",
   "execution_count": 116,
   "metadata": {},
   "outputs": [
    {
     "data": {
      "text/plain": [
       "0.8305"
      ]
     },
     "execution_count": 116,
     "metadata": {},
     "output_type": "execute_result"
    }
   ],
   "source": [
    "ovo_tree_scores=cross_val_score(ovo_cls_tree,X_train_scale,y_train,cv=10, scoring='accuracy')\n",
    "ovo_tree_accu=ovo_tree_scores.mean()\n",
    "ovo_tree_accu"
   ]
  },
  {
   "cell_type": "code",
   "execution_count": 117,
   "metadata": {},
   "outputs": [
    {
     "data": {
      "text/plain": [
       "array([[437,  60,   3,   0],\n",
       "       [ 45, 394,  61,   0],\n",
       "       [  0,  55, 396,  49],\n",
       "       [  0,   0,  66, 434]])"
      ]
     },
     "execution_count": 117,
     "metadata": {},
     "output_type": "execute_result"
    }
   ],
   "source": [
    "ovo_tree_pred=cross_val_predict(ovo_cls_tree,X_train_scale,y_train, cv=10)\n",
    "ovo_conf_mx=confusion_matrix(y_train,ovo_tree_pred)\n",
    "ovo_conf_mx"
   ]
  },
  {
   "cell_type": "code",
   "execution_count": 118,
   "metadata": {},
   "outputs": [
    {
     "data": {
      "text/html": [
       "<div>\n",
       "<style scoped>\n",
       "    .dataframe tbody tr th:only-of-type {\n",
       "        vertical-align: middle;\n",
       "    }\n",
       "\n",
       "    .dataframe tbody tr th {\n",
       "        vertical-align: top;\n",
       "    }\n",
       "\n",
       "    .dataframe thead th {\n",
       "        text-align: right;\n",
       "    }\n",
       "</style>\n",
       "<table border=\"1\" class=\"dataframe\">\n",
       "  <thead>\n",
       "    <tr style=\"text-align: right;\">\n",
       "      <th></th>\n",
       "      <th>Model</th>\n",
       "      <th>Accuracy</th>\n",
       "      <th>Precision</th>\n",
       "      <th>Recall</th>\n",
       "      <th>F1</th>\n",
       "    </tr>\n",
       "  </thead>\n",
       "  <tbody>\n",
       "    <tr>\n",
       "      <th>0</th>\n",
       "      <td>Binary SGD</td>\n",
       "      <td>0.9815</td>\n",
       "      <td>0.975359</td>\n",
       "      <td>0.9500</td>\n",
       "      <td>0.962513</td>\n",
       "    </tr>\n",
       "    <tr>\n",
       "      <th>1</th>\n",
       "      <td>SGDClassifier</td>\n",
       "      <td>0.7765</td>\n",
       "      <td>0.774653</td>\n",
       "      <td>0.7765</td>\n",
       "      <td>0.775528</td>\n",
       "    </tr>\n",
       "    <tr>\n",
       "      <th>2</th>\n",
       "      <td>DecisionTree</td>\n",
       "      <td>0.8225</td>\n",
       "      <td>0.822251</td>\n",
       "      <td>0.8225</td>\n",
       "      <td>0.822251</td>\n",
       "    </tr>\n",
       "    <tr>\n",
       "      <th>3</th>\n",
       "      <td>RandomForest</td>\n",
       "      <td>0.8775</td>\n",
       "      <td>0.877092</td>\n",
       "      <td>0.8775</td>\n",
       "      <td>0.877192</td>\n",
       "    </tr>\n",
       "    <tr>\n",
       "      <th>4</th>\n",
       "      <td>SGD_OneVsOne</td>\n",
       "      <td>0.9530</td>\n",
       "      <td>0.948533</td>\n",
       "      <td>0.9480</td>\n",
       "      <td>0.948195</td>\n",
       "    </tr>\n",
       "    <tr>\n",
       "      <th>5</th>\n",
       "      <td>DecisionTree_OneVsOne</td>\n",
       "      <td>0.8305</td>\n",
       "      <td>0.833027</td>\n",
       "      <td>0.8305</td>\n",
       "      <td>0.831483</td>\n",
       "    </tr>\n",
       "  </tbody>\n",
       "</table>\n",
       "</div>"
      ],
      "text/plain": [
       "                   Model  Accuracy  Precision  Recall        F1\n",
       "0             Binary SGD    0.9815   0.975359  0.9500  0.962513\n",
       "1          SGDClassifier    0.7765   0.774653  0.7765  0.775528\n",
       "2           DecisionTree    0.8225   0.822251  0.8225  0.822251\n",
       "3           RandomForest    0.8775   0.877092  0.8775  0.877192\n",
       "4           SGD_OneVsOne    0.9530   0.948533  0.9480  0.948195\n",
       "5  DecisionTree_OneVsOne    0.8305   0.833027  0.8305  0.831483"
      ]
     },
     "execution_count": 118,
     "metadata": {},
     "output_type": "execute_result"
    }
   ],
   "source": [
    "recall_ovo_tree=recall_score(y_train,ovo_tree_pred,average='weighted')\n",
    "precision_ovo_tree=precision_score(y_train,ovo_tree_pred,average='weighted')\n",
    "f1_ovo_tree=f1_score(y_train,ovo_tree_pred,average='weighted')\n",
    "row = result_tab.shape[0]\n",
    "result_tab.loc[row] = ['DecisionTree_OneVsOne',ovo_tree_accu,precision_ovo_tree,recall_ovo_tree,f1_ovo_tree]\n",
    "result_tab.sort_values(by = 'Accuracy', ascending=False)\n",
    "result_tab"
   ]
  },
  {
   "cell_type": "code",
   "execution_count": 119,
   "metadata": {},
   "outputs": [
    {
     "data": {
      "text/plain": [
       "OneVsOneClassifier(estimator=RandomForestClassifier(random_state=42))"
      ]
     },
     "execution_count": 119,
     "metadata": {},
     "output_type": "execute_result"
    }
   ],
   "source": [
    "ovo_cls_forest=OneVsOneClassifier(RandomForestClassifier(random_state=42))\n",
    "ovo_cls_forest.fit(X_train_scale,y_train)"
   ]
  },
  {
   "cell_type": "code",
   "execution_count": 120,
   "metadata": {},
   "outputs": [
    {
     "data": {
      "text/plain": [
       "0.8634999999999999"
      ]
     },
     "execution_count": 120,
     "metadata": {},
     "output_type": "execute_result"
    }
   ],
   "source": [
    "ovo_forest_scores=cross_val_score(ovo_cls_forest,X_train_scale,y_train,cv=10,scoring='accuracy')\n",
    "ovo_forest_accu=ovo_forest_scores.mean()\n",
    "ovo_forest_accu"
   ]
  },
  {
   "cell_type": "code",
   "execution_count": 121,
   "metadata": {},
   "outputs": [
    {
     "data": {
      "text/plain": [
       "array([[463,  37,   0,   0],\n",
       "       [ 32, 418,  50,   0],\n",
       "       [  0,  70, 395,  35],\n",
       "       [  0,   0,  59, 441]])"
      ]
     },
     "execution_count": 121,
     "metadata": {},
     "output_type": "execute_result"
    }
   ],
   "source": [
    "ovo_forest_pred=cross_val_predict(ovo_cls_forest,X_train_scale,y_train,cv=5)\n",
    "ovo_conf_mx=confusion_matrix(y_train,ovo_forest_pred)\n",
    "ovo_conf_mx"
   ]
  },
  {
   "cell_type": "code",
   "execution_count": 122,
   "metadata": {},
   "outputs": [
    {
     "data": {
      "text/html": [
       "<div>\n",
       "<style scoped>\n",
       "    .dataframe tbody tr th:only-of-type {\n",
       "        vertical-align: middle;\n",
       "    }\n",
       "\n",
       "    .dataframe tbody tr th {\n",
       "        vertical-align: top;\n",
       "    }\n",
       "\n",
       "    .dataframe thead th {\n",
       "        text-align: right;\n",
       "    }\n",
       "</style>\n",
       "<table border=\"1\" class=\"dataframe\">\n",
       "  <thead>\n",
       "    <tr style=\"text-align: right;\">\n",
       "      <th></th>\n",
       "      <th>Model</th>\n",
       "      <th>Accuracy</th>\n",
       "      <th>Precision</th>\n",
       "      <th>Recall</th>\n",
       "      <th>F1</th>\n",
       "    </tr>\n",
       "  </thead>\n",
       "  <tbody>\n",
       "    <tr>\n",
       "      <th>0</th>\n",
       "      <td>Binary SGD</td>\n",
       "      <td>0.9815</td>\n",
       "      <td>0.975359</td>\n",
       "      <td>0.9500</td>\n",
       "      <td>0.962513</td>\n",
       "    </tr>\n",
       "    <tr>\n",
       "      <th>1</th>\n",
       "      <td>SGDClassifier</td>\n",
       "      <td>0.7765</td>\n",
       "      <td>0.774653</td>\n",
       "      <td>0.7765</td>\n",
       "      <td>0.775528</td>\n",
       "    </tr>\n",
       "    <tr>\n",
       "      <th>2</th>\n",
       "      <td>DecisionTree</td>\n",
       "      <td>0.8225</td>\n",
       "      <td>0.822251</td>\n",
       "      <td>0.8225</td>\n",
       "      <td>0.822251</td>\n",
       "    </tr>\n",
       "    <tr>\n",
       "      <th>3</th>\n",
       "      <td>RandomForest</td>\n",
       "      <td>0.8775</td>\n",
       "      <td>0.877092</td>\n",
       "      <td>0.8775</td>\n",
       "      <td>0.877192</td>\n",
       "    </tr>\n",
       "    <tr>\n",
       "      <th>4</th>\n",
       "      <td>SGD_OneVsOne</td>\n",
       "      <td>0.9530</td>\n",
       "      <td>0.948533</td>\n",
       "      <td>0.9480</td>\n",
       "      <td>0.948195</td>\n",
       "    </tr>\n",
       "    <tr>\n",
       "      <th>5</th>\n",
       "      <td>DecisionTree_OneVsOne</td>\n",
       "      <td>0.8305</td>\n",
       "      <td>0.833027</td>\n",
       "      <td>0.8305</td>\n",
       "      <td>0.831483</td>\n",
       "    </tr>\n",
       "    <tr>\n",
       "      <th>6</th>\n",
       "      <td>RandomForest_OneVsOne</td>\n",
       "      <td>0.8635</td>\n",
       "      <td>0.860436</td>\n",
       "      <td>0.8585</td>\n",
       "      <td>0.859201</td>\n",
       "    </tr>\n",
       "  </tbody>\n",
       "</table>\n",
       "</div>"
      ],
      "text/plain": [
       "                   Model  Accuracy  Precision  Recall        F1\n",
       "0             Binary SGD    0.9815   0.975359  0.9500  0.962513\n",
       "1          SGDClassifier    0.7765   0.774653  0.7765  0.775528\n",
       "2           DecisionTree    0.8225   0.822251  0.8225  0.822251\n",
       "3           RandomForest    0.8775   0.877092  0.8775  0.877192\n",
       "4           SGD_OneVsOne    0.9530   0.948533  0.9480  0.948195\n",
       "5  DecisionTree_OneVsOne    0.8305   0.833027  0.8305  0.831483\n",
       "6  RandomForest_OneVsOne    0.8635   0.860436  0.8585  0.859201"
      ]
     },
     "execution_count": 122,
     "metadata": {},
     "output_type": "execute_result"
    }
   ],
   "source": [
    "recall_ovo_forest=recall_score(y_train,ovo_forest_pred,average='weighted')\n",
    "precision_ovo_forest=precision_score(y_train,ovo_forest_pred,average='weighted')\n",
    "f1_ovo_forest=f1_score(y_train,ovo_forest_pred,average='weighted')\n",
    "row = result_tab.shape[0]\n",
    "result_tab.loc[row] = ['RandomForest_OneVsOne',ovo_forest_accu,precision_ovo_forest,recall_ovo_forest,f1_ovo_forest]\n",
    "result_tab.sort_values(by = 'Accuracy', ascending=False)\n",
    "result_tab"
   ]
  },
  {
   "cell_type": "code",
   "execution_count": null,
   "metadata": {},
   "outputs": [],
   "source": [
    "# So the best models are ReandomForestClassifier, DecisionTreeCleassifier wirh OvA method and also SGDClassifier with OvO method."
   ]
  }
 ],
 "metadata": {
  "kernelspec": {
   "display_name": "Python 3",
   "language": "python",
   "name": "python3"
  },
  "language_info": {
   "codemirror_mode": {
    "name": "ipython",
    "version": 3
   },
   "file_extension": ".py",
   "mimetype": "text/x-python",
   "name": "python",
   "nbconvert_exporter": "python",
   "pygments_lexer": "ipython3",
   "version": "3.8.5"
  }
 },
 "nbformat": 4,
 "nbformat_minor": 4
}
